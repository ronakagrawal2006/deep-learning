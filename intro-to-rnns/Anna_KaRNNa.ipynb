{
 "cells": [
  {
   "cell_type": "markdown",
   "metadata": {},
   "source": [
    "# Anna KaRNNa\n",
    "\n",
    "In this notebook, we'll build a character-wise RNN trained on Anna Karenina, one of my all-time favorite books. It'll be able to generate new text based on the text from the book.\n",
    "\n",
    "This network is based off of Andrej Karpathy's [post on RNNs](http://karpathy.github.io/2015/05/21/rnn-effectiveness/) and [implementation in Torch](https://github.com/karpathy/char-rnn). Also, some information [here at r2rt](http://r2rt.com/recurrent-neural-networks-in-tensorflow-ii.html) and from [Sherjil Ozair](https://github.com/sherjilozair/char-rnn-tensorflow) on GitHub. Below is the general architecture of the character-wise RNN.\n",
    "\n",
    "<img src=\"assets/charseq.jpeg\" width=\"500\">"
   ]
  },
  {
   "cell_type": "code",
   "execution_count": 21,
   "metadata": {},
   "outputs": [],
   "source": [
    "import time\n",
    "from collections import namedtuple\n",
    "\n",
    "import numpy as np\n",
    "import tensorflow as tf"
   ]
  },
  {
   "cell_type": "markdown",
   "metadata": {},
   "source": [
    "First we'll load the text file and convert it into integers for our network to use. Here I'm creating a couple dictionaries to convert the characters to and from integers. Encoding the characters as integers makes it easier to use as input in the network."
   ]
  },
  {
   "cell_type": "code",
   "execution_count": 22,
   "metadata": {},
   "outputs": [],
   "source": [
    "with open('anna.txt', 'r') as f:\n",
    "    text=f.read()\n",
    "vocab = sorted(set(text))\n",
    "vocab_to_int = {c: i for i, c in enumerate(vocab)}\n",
    "int_to_vocab = dict(enumerate(vocab))\n",
    "encoded = np.array([vocab_to_int[c] for c in text], dtype=np.int32)"
   ]
  },
  {
   "cell_type": "code",
   "execution_count": 23,
   "metadata": {},
   "outputs": [
    {
     "data": {
      "text/plain": [
       "dict_items([(0, '\\n'), (1, ' '), (2, '!'), (3, '\"'), (4, '$'), (5, '%'), (6, '&'), (7, \"'\"), (8, '('), (9, ')'), (10, '*'), (11, ','), (12, '-'), (13, '.'), (14, '/'), (15, '0'), (16, '1'), (17, '2'), (18, '3'), (19, '4'), (20, '5'), (21, '6'), (22, '7'), (23, '8'), (24, '9'), (25, ':'), (26, ';'), (27, '?'), (28, '@'), (29, 'A'), (30, 'B'), (31, 'C'), (32, 'D'), (33, 'E'), (34, 'F'), (35, 'G'), (36, 'H'), (37, 'I'), (38, 'J'), (39, 'K'), (40, 'L'), (41, 'M'), (42, 'N'), (43, 'O'), (44, 'P'), (45, 'Q'), (46, 'R'), (47, 'S'), (48, 'T'), (49, 'U'), (50, 'V'), (51, 'W'), (52, 'X'), (53, 'Y'), (54, 'Z'), (55, '_'), (56, '`'), (57, 'a'), (58, 'b'), (59, 'c'), (60, 'd'), (61, 'e'), (62, 'f'), (63, 'g'), (64, 'h'), (65, 'i'), (66, 'j'), (67, 'k'), (68, 'l'), (69, 'm'), (70, 'n'), (71, 'o'), (72, 'p'), (73, 'q'), (74, 'r'), (75, 's'), (76, 't'), (77, 'u'), (78, 'v'), (79, 'w'), (80, 'x'), (81, 'y'), (82, 'z')])"
      ]
     },
     "execution_count": 23,
     "metadata": {},
     "output_type": "execute_result"
    },
    {
     "data": {
      "text/plain": [
       "dict_items([(')', 9), ('q', 73), ('2', 17), ('@', 28), ('5', 20), ('\"', 3), ('Y', 53), ('a', 57), ('-', 12), (' ', 1), (':', 25), ('r', 74), ('&', 6), ('S', 47), ('J', 38), ('V', 50), ('E', 33), ('s', 75), ('x', 80), ('M', 41), ('1', 16), ('Z', 54), ('K', 39), ('.', 13), ('A', 29), ('w', 79), ('b', 58), (',', 11), ('`', 56), ('W', 51), ('4', 19), ('c', 59), ('j', 66), ('y', 81), ('%', 5), ('Q', 45), ('H', 36), ('D', 32), ('$', 4), ('6', 21), ('*', 10), ('k', 67), ('(', 8), ('F', 34), ('p', 72), ('0', 15), ('o', 71), ('T', 48), ('P', 44), ('n', 70), ('l', 68), ('!', 2), ('N', 42), ('U', 49), ('?', 27), ('L', 40), ('e', 61), ('_', 55), ('X', 52), ('O', 43), ('7', 22), ('i', 65), (\"'\", 7), ('9', 24), ('I', 37), ('8', 23), ('m', 69), ('z', 82), ('g', 63), ('d', 60), (';', 26), ('f', 62), ('\\n', 0), ('u', 77), ('C', 31), ('3', 18), ('h', 64), ('t', 76), ('G', 35), ('v', 78), ('/', 14), ('B', 30), ('R', 46)])"
      ]
     },
     "execution_count": 23,
     "metadata": {},
     "output_type": "execute_result"
    }
   ],
   "source": [
    "int_to_vocab.items()\n",
    "vocab_to_int.items()"
   ]
  },
  {
   "cell_type": "markdown",
   "metadata": {},
   "source": [
    "Let's check out the first 100 characters, make sure everything is peachy. According to the [American Book Review](http://americanbookreview.org/100bestlines.asp), this is the 6th best first line of a book ever."
   ]
  },
  {
   "cell_type": "code",
   "execution_count": 24,
   "metadata": {},
   "outputs": [
    {
     "data": {
      "text/plain": [
       "'Chapter 1\\n\\n\\nHappy families are all alike; every unhappy family is unhappy in its own\\nway.\\n\\nEverythin'"
      ]
     },
     "execution_count": 24,
     "metadata": {},
     "output_type": "execute_result"
    }
   ],
   "source": [
    "text[:100]"
   ]
  },
  {
   "cell_type": "code",
   "execution_count": 25,
   "metadata": {},
   "outputs": [
    {
     "data": {
      "text/plain": [
       "1985223"
      ]
     },
     "execution_count": 25,
     "metadata": {},
     "output_type": "execute_result"
    }
   ],
   "source": [
    "len(text)"
   ]
  },
  {
   "cell_type": "markdown",
   "metadata": {},
   "source": [
    "And we can see the characters encoded as integers."
   ]
  },
  {
   "cell_type": "code",
   "execution_count": 26,
   "metadata": {},
   "outputs": [
    {
     "data": {
      "text/plain": [
       "array([31, 64, 57, 72, 76, 61, 74,  1, 16,  0,  0,  0, 36, 57, 72, 72, 81,\n",
       "        1, 62, 57, 69, 65, 68, 65, 61, 75,  1, 57, 74, 61,  1, 57, 68, 68,\n",
       "        1, 57, 68, 65, 67, 61, 26,  1, 61, 78, 61, 74, 81,  1, 77, 70, 64,\n",
       "       57, 72, 72, 81,  1, 62, 57, 69, 65, 68, 81,  1, 65, 75,  1, 77, 70,\n",
       "       64, 57, 72, 72, 81,  1, 65, 70,  1, 65, 76, 75,  1, 71, 79, 70,  0,\n",
       "       79, 57, 81, 13,  0,  0, 33, 78, 61, 74, 81, 76, 64, 65, 70],\n",
       "      dtype=int32)"
      ]
     },
     "execution_count": 26,
     "metadata": {},
     "output_type": "execute_result"
    }
   ],
   "source": [
    "encoded[:100]"
   ]
  },
  {
   "cell_type": "markdown",
   "metadata": {},
   "source": [
    "Since the network is working with individual characters, it's similar to a classification problem in which we are trying to predict the next character from the previous text.  Here's how many 'classes' our network has to pick from."
   ]
  },
  {
   "cell_type": "code",
   "execution_count": 27,
   "metadata": {},
   "outputs": [
    {
     "data": {
      "text/plain": [
       "83"
      ]
     },
     "execution_count": 27,
     "metadata": {},
     "output_type": "execute_result"
    }
   ],
   "source": [
    "len(vocab)"
   ]
  },
  {
   "cell_type": "markdown",
   "metadata": {},
   "source": [
    "## Making training mini-batches\n",
    "\n",
    "Here is where we'll make our mini-batches for training. Remember that we want our batches to be multiple sequences of some desired number of sequence steps. Considering a simple example, our batches would look like this:\n",
    "\n",
    "<img src=\"assets/sequence_batching@1x.png\" width=500px>\n",
    "\n",
    "\n",
    "<br>\n",
    "\n",
    "We start with our text encoded as integers in one long array in `encoded`. Let's create a function that will give us an iterator for our batches. I like using [generator functions](https://jeffknupp.com/blog/2013/04/07/improve-your-python-yield-and-generators-explained/) to do this. Then we can pass `encoded` into this function and get our batch generator.\n",
    "\n",
    "The first thing we need to do is discard some of the text so we only have completely full batches. Each batch contains $N \\times M$ characters, where $N$ is the batch size (the number of sequences) and $M$ is the number of steps. Then, to get the total number of batches, $K$, we can make from the array `arr`, you divide the length of `arr` by the number of characters per batch. Once you know the number of batches, you can get the total number of characters to keep from `arr`, $N * M * K$.\n",
    "\n",
    "After that, we need to split `arr` into $N$ sequences. You can do this using `arr.reshape(size)` where `size` is a tuple containing the dimensions sizes of the reshaped array. We know we want $N$ sequences (`batch_size` below), let's make that the size of the first dimension. For the second dimension, you can use `-1` as a placeholder in the size, it'll fill up the array with the appropriate data for you. After this, you should have an array that is $N \\times (M * K)$.\n",
    "\n",
    "Now that we have this array, we can iterate through it to get our batches. The idea is each batch is a $N \\times M$ window on the $N \\times (M * K)$ array. For each subsequent batch, the window moves over by `n_steps`. We also want to create both the input and target arrays. Remember that the targets are the inputs shifted over one character. \n",
    "\n",
    "The way I like to do this window is use `range` to take steps of size `n_steps` from $0$ to `arr.shape[1]`, the total number of steps in each sequence. That way, the integers you get from `range` always point to the start of a batch, and each window is `n_steps` wide.\n",
    "\n",
    "> **Exercise:** Write the code for creating batches in the function below. The exercises in this notebook _will not be easy_. I've provided a notebook with solutions alongside this notebook. If you get stuck, checkout the solutions. The most important thing is that you don't copy and paste the code into here, **type out the solution code yourself.**"
   ]
  },
  {
   "cell_type": "code",
   "execution_count": 49,
   "metadata": {},
   "outputs": [],
   "source": [
    "def get_batches(arr, batch_size, n_steps):\n",
    "    '''Create a generator that returns batches of size\n",
    "       batch_size x n_steps from arr.\n",
    "       \n",
    "       Arguments\n",
    "       ---------\n",
    "       arr: Array you want to make batches from\n",
    "       batch_size: Batch size, the number of sequences per batch\n",
    "       n_steps: Number of sequence steps per batch\n",
    "    '''\n",
    "    # Get the number of characters per batch and number of batches we can make\n",
    "    characters_per_batch = batch_size*n_steps\n",
    "    n_batches = len(arr)//characters_per_batch\n",
    "    print(n_batches)\n",
    "    # Keep only enough characters to make full batches\n",
    "    arr = arr[:n_batches*characters_per_batch]\n",
    "    \n",
    "    # Reshape into batch_size rows\n",
    "    print(arr.shape)\n",
    "    arr = arr.reshape((batch_size,-1))\n",
    "    print(arr.shape)\n",
    "    for n in range(0, arr.shape[1], n_steps):\n",
    "        # The features\n",
    "        x = arr[:,n:n+n_steps]\n",
    "        #print('x_shape',x.shape)\n",
    "        y_temp = arr[:, n+1:n+n_steps+1]\n",
    "        # The targets, shifted by one\n",
    "        y=np.zeros_like(x)\n",
    "        y[:,:y_temp.shape[1]] =y_temp \n",
    "        yield x, y"
   ]
  },
  {
   "cell_type": "markdown",
   "metadata": {},
   "source": [
    "Now I'll make my data sets and we can check out what's going on here. Here I'm going to use a batch size of 10 and 50 sequence steps."
   ]
  },
  {
   "cell_type": "code",
   "execution_count": 29,
   "metadata": {},
   "outputs": [
    {
     "name": "stdout",
     "output_type": "stream",
     "text": [
      "3970\n",
      "(1985000,)\n",
      "(10, 198500)\n",
      "x_shape (10, 50)\n"
     ]
    }
   ],
   "source": [
    "batches = get_batches(encoded, 10, 50)\n",
    "x, y = next(batches)"
   ]
  },
  {
   "cell_type": "code",
   "execution_count": 30,
   "metadata": {},
   "outputs": [
    {
     "data": {
      "text/plain": [
       "array([31, 64, 57, 72, 76, 61, 74,  1, 16,  0,  0,  0, 36, 57, 72],\n",
       "      dtype=int32)"
      ]
     },
     "execution_count": 30,
     "metadata": {},
     "output_type": "execute_result"
    }
   ],
   "source": [
    "encoded[:15]"
   ]
  },
  {
   "cell_type": "markdown",
   "metadata": {},
   "source": [
    "If you implemented `get_batches` correctly, the above output should look something like \n",
    "```\n",
    "x\n",
    " [[55 63 69 22  6 76 45  5 16 35]\n",
    " [ 5 69  1  5 12 52  6  5 56 52]\n",
    " [48 29 12 61 35 35  8 64 76 78]\n",
    " [12  5 24 39 45 29 12 56  5 63]\n",
    " [ 5 29  6  5 29 78 28  5 78 29]\n",
    " [ 5 13  6  5 36 69 78 35 52 12]\n",
    " [63 76 12  5 18 52  1 76  5 58]\n",
    " [34  5 73 39  6  5 12 52 36  5]\n",
    " [ 6  5 29 78 12 79  6 61  5 59]\n",
    " [ 5 78 69 29 24  5  6 52  5 63]]\n",
    "\n",
    "y\n",
    " [[63 69 22  6 76 45  5 16 35 35]\n",
    " [69  1  5 12 52  6  5 56 52 29]\n",
    " [29 12 61 35 35  8 64 76 78 28]\n",
    " [ 5 24 39 45 29 12 56  5 63 29]\n",
    " [29  6  5 29 78 28  5 78 29 45]\n",
    " [13  6  5 36 69 78 35 52 12 43]\n",
    " [76 12  5 18 52  1 76  5 58 52]\n",
    " [ 5 73 39  6  5 12 52 36  5 78]\n",
    " [ 5 29 78 12 79  6 61  5 59 63]\n",
    " [78 69 29 24  5  6 52  5 63 76]]\n",
    " ```\n",
    " although the exact numbers will be different. Check to make sure the data is shifted over one step for `y`."
   ]
  },
  {
   "cell_type": "markdown",
   "metadata": {},
   "source": [
    "## Building the model\n",
    "\n",
    "Below is where you'll build the network. We'll break it up into parts so it's easier to reason about each bit. Then we can connect them up into the whole network.\n",
    "\n",
    "<img src=\"assets/charRNN.png\" width=500px>\n",
    "\n",
    "\n",
    "### Inputs\n",
    "\n",
    "First off we'll create our input placeholders. As usual we need placeholders for the training data and the targets. We'll also create a placeholder for dropout layers called `keep_prob`. This will be a scalar, that is a 0-D tensor. To make a scalar, you create a placeholder without giving it a size.\n",
    "\n",
    "> **Exercise:** Create the input placeholders in the function below."
   ]
  },
  {
   "cell_type": "code",
   "execution_count": 31,
   "metadata": {},
   "outputs": [],
   "source": [
    "def build_inputs(batch_size, num_steps):\n",
    "    ''' Define placeholders for inputs, targets, and dropout \n",
    "    \n",
    "        Arguments\n",
    "        ---------\n",
    "        batch_size: Batch size, number of sequences per batch\n",
    "        num_steps: Number of sequence steps in a batch\n",
    "        \n",
    "    '''\n",
    "    # Declare placeholders we'll feed into the graph\n",
    "    inputs = tf.placeholder(dtype=tf.int32,shape=(batch_size,num_steps),name='inputs')\n",
    "    targets = tf.placeholder(dtype=tf.int32,shape=(batch_size,num_steps),name='targets')\n",
    "    \n",
    "    # Keep probability placeholder for drop out layers\n",
    "    keep_prob = tf.placeholder(dtype=tf.float32,shape=(),name='keep_prob')\n",
    "    \n",
    "    return inputs, targets, keep_prob"
   ]
  },
  {
   "cell_type": "markdown",
   "metadata": {},
   "source": [
    "### LSTM Cell\n",
    "\n",
    "Here we will create the LSTM cell we'll use in the hidden layer. We'll use this cell as a building block for the RNN. So we aren't actually defining the RNN here, just the type of cell we'll use in the hidden layer.\n",
    "\n",
    "We first create a basic LSTM cell with\n",
    "\n",
    "```python\n",
    "lstm = tf.contrib.rnn.BasicLSTMCell(num_units)\n",
    "```\n",
    "\n",
    "where `num_units` is the number of units in the hidden layers in the cell. Then we can add dropout by wrapping it with \n",
    "\n",
    "```python\n",
    "tf.contrib.rnn.DropoutWrapper(lstm, output_keep_prob=keep_prob)\n",
    "```\n",
    "You pass in a cell and it will automatically add dropout to the inputs or outputs. Finally, we can stack up the LSTM cells into layers with [`tf.contrib.rnn.MultiRNNCell`](https://www.tensorflow.org/versions/r1.0/api_docs/python/tf/contrib/rnn/MultiRNNCell). With this, you pass in a list of cells and it will send the output of one cell into the next cell. Previously with TensorFlow 1.0, you could do this\n",
    "\n",
    "```python\n",
    "tf.contrib.rnn.MultiRNNCell([cell]*num_layers)\n",
    "```\n",
    "\n",
    "This might look a little weird if you know Python well because this will create a list of the same `cell` object. However, TensorFlow 1.0 will create different weight matrices for all `cell` objects. But, starting with TensorFlow 1.1 you actually need to create new cell objects in the list. To get it to work in TensorFlow 1.1, it should look like\n",
    "\n",
    "```python\n",
    "def build_cell(num_units, keep_prob):\n",
    "    lstm = tf.contrib.rnn.BasicLSTMCell(num_units)\n",
    "    drop = tf.contrib.rnn.DropoutWrapper(lstm, output_keep_prob=keep_prob)\n",
    "    \n",
    "    return drop\n",
    "    \n",
    "tf.contrib.rnn.MultiRNNCell([build_cell(num_units, keep_prob) for _ in range(num_layers)])\n",
    "```\n",
    "\n",
    "Even though this is actually multiple LSTM cells stacked on each other, you can treat the multiple layers as one cell.\n",
    "\n",
    "We also need to create an initial cell state of all zeros. This can be done like so\n",
    "\n",
    "```python\n",
    "initial_state = cell.zero_state(batch_size, tf.float32)\n",
    "```\n",
    "\n",
    "Below, we implement the `build_lstm` function to create these LSTM cells and the initial state."
   ]
  },
  {
   "cell_type": "code",
   "execution_count": 32,
   "metadata": {},
   "outputs": [],
   "source": [
    "def build_lstm(lstm_size, num_layers, batch_size, keep_prob):\n",
    "    ''' Build LSTM cell.\n",
    "    \n",
    "        Arguments\n",
    "        ---------\n",
    "        keep_prob: Scalar tensor (tf.placeholder) for the dropout keep probability\n",
    "        lstm_size: Size of the hidden layers in the LSTM cells\n",
    "        num_layers: Number of LSTM layers\n",
    "        batch_size: Batch size\n",
    "\n",
    "    '''\n",
    "    ### Build the LSTM Cell\n",
    "    def build_cell(lstm_size,keep_prob):\n",
    "        # Use a basic LSTM cell\n",
    "        lstm = tf.contrib.rnn.BasicLSTMCell(lstm_size)\n",
    "\n",
    "        # Add dropout to the cell outputs\n",
    "        drop = tf.contrib.rnn.DropoutWrapper(lstm,output_keep_prob=keep_prob)\n",
    "        return drop\n",
    "    \n",
    "    # Stack up multiple LSTM layers, for deep learning\n",
    "    cell = tf.contrib.rnn.MultiRNNCell([build_cell(lstm_size,keep_prob) for i in range(num_layers)])\n",
    "    initial_state = cell.zero_state(batch_size,tf.float32) # print the state when you get a chance\n",
    "    return cell, initial_state\n",
    "\n"
   ]
  },
  {
   "cell_type": "markdown",
   "metadata": {},
   "source": [
    "### RNN Output\n",
    "\n",
    "Here we'll create the output layer. We need to connect the output of the RNN cells to a full connected layer with a softmax output. The softmax output gives us a probability distribution we can use to predict the next character, so we want this layer to have size $C$, the number of classes/characters we have in our text.\n",
    "\n",
    "If our input has batch size $N$, number of steps $M$, and the hidden layer has $L$ hidden units, then the output is a 3D tensor with size $N \\times M \\times L$. The output of each LSTM cell has size $L$, we have $M$ of them, one for each sequence step, and we have $N$ sequences. So the total size is $N \\times M \\times L$. \n",
    "\n",
    "We are using the same fully connected layer, the same weights, for each of the outputs. Then, to make things easier, we should reshape the outputs into a 2D tensor with shape $(M * N) \\times L$. That is, one row for each sequence and step, where the values of each row are the output from the LSTM cells. We get the LSTM output as a list, `lstm_output`. First we need to concatenate this whole list into one array with [`tf.concat`](https://www.tensorflow.org/api_docs/python/tf/concat). Then, reshape it (with `tf.reshape`) to size $(M * N) \\times L$.\n",
    "\n",
    "One we have the outputs reshaped, we can do the matrix multiplication with the weights. We need to wrap the weight and bias variables in a variable scope with `tf.variable_scope(scope_name)` because there are weights being created in the LSTM cells. TensorFlow will throw an error if the weights created here have the same names as the weights created in the LSTM cells, which they will be default. To avoid this, we wrap the variables in a variable scope so we can give them unique names.\n",
    "\n",
    "> **Exercise:** Implement the output layer in the function below."
   ]
  },
  {
   "cell_type": "markdown",
   "metadata": {},
   "source": [
    "As a part of building RNN output, we have a LSTM Cell having outputs, for each of the batches for which input is given\n",
    "size of output = 1042(number of neurons in hiddedn layer), for each batch for each sequence input in single.\n",
    "If the output is for a single time instant, then the output should be for \n",
    "\n",
    "Why is the ouput size C*M*L?  step size, is teh number of inputs in each size, \n",
    "L is for layer size: , \n",
    "we have M ouptuts, because? ->  we supplied M inputs, i.e. (2,3) in the current example.\n",
    " so 1 out put for 2, and the other for 3.\n",
    " so the current output for a single batch is 2 * 1024. \n",
    " \n",
    "sequence size is M because? no reason? I just like M..!\n",
    "\n",
    " \n",
    "Now we have N sequences, \n",
    "Hence, foreach sequnce -> for each step -> an output of 1024 Neurons whichs is a vector of shape: 1024\n",
    "Note that a single number will be the output of a single neuron, and NOT a matrix of w* Number neurons. \n",
    "\n",
    "Given that we have a C classes, --> and hence C neurons is the fully connected layer of RNN output.\n",
    "Now typical multiplication would involve, calculation as belo\n",
    "\n",
    "foreach sequnce in range batch_size:\n",
    "    foreach character in range step_size:\n",
    "        multiply the 1024 numbers by the weights of fully connected layer\n",
    "i.e if the weights are 1,2,3, of the fully connected layer we do something like:\n",
    "\n",
    "\n",
    "1,2,3 * (a - 1024)\n",
    "1,2,3 * (b - 1024)\n",
    "1,2,3 * (c- 1024)\n",
    "        \n",
    "\n",
    " \n",
    "if your 3 d tensor if of size 2 *3*4,\n",
    "i.e. 2 batches of size 3 and has 4 neurons each\n",
    "we need [[1,1,1,1],[2,2,2,2],[3,3,3,3]]\n",
    "\n",
    "your sequnce was of 3 characters 1,2,3 and 4,5,6\n"
   ]
  },
  {
   "cell_type": "code",
   "execution_count": 62,
   "metadata": {},
   "outputs": [],
   "source": [
    "three_x_four= tf.constant([[1,1,1,1],[2,2,2,2],[3,3,3,3]])\n",
    "three_x_four_2= tf.constant([[4,4,4,4],[5,5,5,5],[6,6,6,6]])\n"
   ]
  },
  {
   "cell_type": "code",
   "execution_count": 75,
   "metadata": {},
   "outputs": [],
   "source": [
    "two_x_three_x_four= tf.Variable([[[1,1,1,1],[2,2,2,2],[3,3,3,3]],\n",
    "                                [[4,4,4,4],[5,5,5,5],[6,6,6,6]]])"
   ]
  },
  {
   "cell_type": "code",
   "execution_count": 76,
   "metadata": {},
   "outputs": [
    {
     "data": {
      "text/plain": [
       "<tf.Variable 'Variable:0' shape=(2, 3, 4) dtype=int32_ref>"
      ]
     },
     "execution_count": 76,
     "metadata": {},
     "output_type": "execute_result"
    }
   ],
   "source": [
    "two_x_three_x_four"
   ]
  },
  {
   "cell_type": "markdown",
   "metadata": {},
   "source": [
    "now you have 2 sequences , 1,2,3 and 4,5,6\n",
    "lets see weights are 10,10,10,10,10. -> 5 output classes and hence 5 weights.\n",
    "\n"
   ]
  },
  {
   "cell_type": "code",
   "execution_count": 67,
   "metadata": {},
   "outputs": [],
   "source": [
    "res=tf.concat(two_x_three_x_four,axis=1)"
   ]
  },
  {
   "cell_type": "code",
   "execution_count": 83,
   "metadata": {},
   "outputs": [
    {
     "data": {
      "text/plain": [
       "TensorShape([Dimension(2), Dimension(3), Dimension(4)])"
      ]
     },
     "execution_count": 83,
     "metadata": {},
     "output_type": "execute_result"
    },
    {
     "data": {
      "text/plain": [
       "TensorShape([Dimension(2), Dimension(3), Dimension(4)])"
      ]
     },
     "execution_count": 83,
     "metadata": {},
     "output_type": "execute_result"
    },
    {
     "data": {
      "text/plain": [
       "array([[[1, 1, 1, 1],\n",
       "        [2, 2, 2, 2],\n",
       "        [3, 3, 3, 3]],\n",
       "\n",
       "       [[4, 4, 4, 4],\n",
       "        [5, 5, 5, 5],\n",
       "        [6, 6, 6, 6]]], dtype=int32)"
      ]
     },
     "execution_count": 83,
     "metadata": {},
     "output_type": "execute_result"
    }
   ],
   "source": [
    "with tf.Session() as sess:\n",
    "    sess.run(tf.global_variables_initializer())\n",
    "    two_x_three_x_four.shape\n",
    "    res=tf.concat(two_x_three_x_four,axis=0)\n",
    "    two_x_three_x_four.shape\n",
    "    res.eval()\n",
    "    "
   ]
  },
  {
   "cell_type": "code",
   "execution_count": 63,
   "metadata": {},
   "outputs": [
    {
     "data": {
      "text/plain": [
       "<tf.Tensor 'Const_6:0' shape=(3, 4) dtype=int32>"
      ]
     },
     "execution_count": 63,
     "metadata": {},
     "output_type": "execute_result"
    },
    {
     "data": {
      "text/plain": [
       "<tf.Tensor 'Const_7:0' shape=(3, 4) dtype=int32>"
      ]
     },
     "execution_count": 63,
     "metadata": {},
     "output_type": "execute_result"
    }
   ],
   "source": [
    "three_x_four\n",
    "three_x_four_2"
   ]
  },
  {
   "cell_type": "code",
   "execution_count": 59,
   "metadata": {},
   "outputs": [],
   "source": [
    "a= tf.constant([[1,2,3],[4,5,6]])\n",
    "b = tf.constant([[7,8,9],[0,1,2]])\n",
    "c = tf.constant()"
   ]
  },
  {
   "cell_type": "code",
   "execution_count": 57,
   "metadata": {},
   "outputs": [
    {
     "data": {
      "text/plain": [
       "<tf.Tensor 'Const_1:0' shape=(2, 3) dtype=int32>"
      ]
     },
     "execution_count": 57,
     "metadata": {},
     "output_type": "execute_result"
    }
   ],
   "source": []
  },
  {
   "cell_type": "code",
   "execution_count": 40,
   "metadata": {},
   "outputs": [],
   "source": [
    "def build_output(lstm_output, in_size, out_size):\n",
    "    ''' Build a softmax layer, return the softmax output and logits.\n",
    "    \n",
    "        Arguments\n",
    "        ---------\n",
    "        \n",
    "        lstm_output: List of output tensors from the LSTM layer\n",
    "        in_size: Size of the input tensor, for example, size of the LSTM cells\n",
    "        out_size: Size of this softmax layer\n",
    "    \n",
    "    '''\n",
    "\n",
    "    # Reshape output so it's a bunch of rows, one row for each step for each sequence.\n",
    "    # Concatenate lstm_output over axis 1 (the columns)\n",
    "    seq_output = tf.concat(lstm_output, axis=-1) #TODO: check the output size of lstm and then check what hapens when contaeneate\n",
    "    # Checked this : the sizes are 100,100, 512, which remains same after contat.\n",
    "    # NOte sure why do we need concat here ?! This guys confuses more than he explains.!\n",
    "    #     # Reshape seq_output to a 2D tensor with lstm_size columns\n",
    "    x = tf.reshape(seq_output,shape=[-1,lstm_size])\n",
    "    \n",
    "#     # Connect the RNN outputs to a softmax layer\n",
    "    with tf.variable_scope('softmax'):\n",
    "        # Create the weight and bias variables here\n",
    "        softmax_w = tf.Variable(tf.truncated_normal(shape=(in_size,out_size),stddev=0.1)) #ToDo: Check in_size and out_size parameters\n",
    "        softmax_b = tf.Variable(tf.zeros(out_size))\n",
    "    \n",
    "    # Since output is a bunch of rows of RNN cell outputs, logits will be a bunch\n",
    "    # of rows of logit outputs, one for each step and sequence\n",
    "    logits = tf.matmul(x,softmax_w) +softmax_b #Todo: Try and understand what exactly is going on here?b\n",
    "    \n",
    "    # Use softmax to get the probabilities for predicted characters\n",
    "    out = tf.nn.softmax(logits,name='predictions')\n",
    "    \n",
    "    return out, logits"
   ]
  },
  {
   "cell_type": "markdown",
   "metadata": {},
   "source": [
    "### Training loss\n",
    "\n",
    "Next up is the training loss. We get the logits and targets and calculate the softmax cross-entropy loss. First we need to one-hot encode the targets, we're getting them as encoded characters. Then, reshape the one-hot targets so it's a 2D tensor with size $(M*N) \\times C$ where $C$ is the number of classes/characters we have. Remember that we reshaped the LSTM outputs and ran them through a fully connected layer with $C$ units. So our logits will also have size $(M*N) \\times C$.\n",
    "\n",
    "Then we run the logits and targets through `tf.nn.softmax_cross_entropy_with_logits` and find the mean to get the loss.\n",
    "\n",
    ">**Exercise:** Implement the loss calculation in the function below."
   ]
  },
  {
   "cell_type": "code",
   "execution_count": 41,
   "metadata": {},
   "outputs": [],
   "source": [
    "def build_loss(logits, targets, lstm_size, num_classes):\n",
    "    ''' Calculate the loss from the logits and the targets.\n",
    "    \n",
    "        Arguments\n",
    "        ---------\n",
    "        logits: Logits from final fully connected layer\n",
    "        targets: Targets for supervised learning\n",
    "        lstm_size: Number of LSTM hidden units\n",
    "        num_classes: Number of classes in targets\n",
    "        \n",
    "    '''\n",
    "    \n",
    "    # One-hot encode targets and reshape to match logits, one row per sequence per step\n",
    "    y_one_hot = tf.one_hot(targets,num_classes)\n",
    "    y_reshaped =  tf.reshape(y_one_hot,shape=logits.get_shape()) #Todo: why do we need to reshape it as logits?\n",
    "    \n",
    "    # Softmax cross entropy loss\n",
    "    loss = tf.reduce_mean(tf.nn.softmax_cross_entropy_with_logits(labels=y_reshaped,logits=logits))\n",
    "    \n",
    "    return loss"
   ]
  },
  {
   "cell_type": "markdown",
   "metadata": {},
   "source": [
    "### Optimizer\n",
    "\n",
    "Here we build the optimizer. Normal RNNs have have issues gradients exploding and disappearing. LSTMs fix the disappearance problem, but the gradients can still grow without bound. To fix this, we can clip the gradients above some threshold. That is, if a gradient is larger than that threshold, we set it to the threshold. This will ensure the gradients never grow overly large. Then we use an AdamOptimizer for the learning step."
   ]
  },
  {
   "cell_type": "code",
   "execution_count": 42,
   "metadata": {},
   "outputs": [],
   "source": [
    "def build_optimizer(loss, learning_rate, grad_clip):\n",
    "    ''' Build optmizer for training, using gradient clipping.\n",
    "    \n",
    "        Arguments:\n",
    "        loss: Network loss\n",
    "        learning_rate: Learning rate for optimizer\n",
    "    \n",
    "    '''\n",
    "    \n",
    "    # Optimizer for training, using gradient clipping to control exploding gradients\n",
    "    tvars = tf.trainable_variables()\n",
    "    grads, _ = tf.clip_by_global_norm(tf.gradients(loss, tvars), grad_clip)\n",
    "    train_op = tf.train.AdamOptimizer(learning_rate)\n",
    "    optimizer = train_op.apply_gradients(zip(grads, tvars))\n",
    "    \n",
    "    return optimizer"
   ]
  },
  {
   "cell_type": "markdown",
   "metadata": {},
   "source": [
    "### Build the network\n",
    "\n",
    "Now we can put all the pieces together and build a class for the network. To actually run data through the LSTM cells, we will use [`tf.nn.dynamic_rnn`](https://www.tensorflow.org/versions/r1.0/api_docs/python/tf/nn/dynamic_rnn). This function will pass the hidden and cell states across LSTM cells appropriately for us. It returns the outputs for each LSTM cell at each step for each sequence in the mini-batch. It also gives us the final LSTM state. We want to save this state as `final_state` so we can pass it to the first LSTM cell in the the next mini-batch run. For `tf.nn.dynamic_rnn`, we pass in the cell and initial state we get from `build_lstm`, as well as our input sequences. Also, we need to one-hot encode the inputs before going into the RNN. \n",
    "\n",
    "> **Exercise:** Use the functions you've implemented previously and `tf.nn.dynamic_rnn` to build the network."
   ]
  },
  {
   "cell_type": "code",
   "execution_count": 46,
   "metadata": {},
   "outputs": [],
   "source": [
    "class CharRNN:\n",
    "    \n",
    "    def __init__(self, num_classes, batch_size=64, num_steps=50, \n",
    "                       lstm_size=128, num_layers=2, learning_rate=0.001, \n",
    "                       grad_clip=5, sampling=False):\n",
    "    \n",
    "        # When we're using this network for sampling later, we'll be passing in\n",
    "        # one character at a time, so providing an option for that\n",
    "        if sampling == True:\n",
    "            batch_size, num_steps = 1, 1\n",
    "        else:\n",
    "            batch_size, num_steps = batch_size, num_steps\n",
    "\n",
    "        tf.reset_default_graph()\n",
    "        \n",
    "        # Build the input placeholder tensors\n",
    "        self.inputs, self.targets, self.keep_prob = build_inputs(batch_size,num_steps)\n",
    "\n",
    "        # Build the LSTM cell\n",
    "        cell, self.initial_state = build_lstm(lstm_size,num_layers,batch_size,self.keep_prob)\n",
    "\n",
    "        ### Run the data through the RNN layers\n",
    "        # First, one-hot encode the input tokens\n",
    "        x_one_hot = tf.one_hot(self.inputs,num_classes)\n",
    "        \n",
    "        # Run each sequence step through the RNN with tf.nn.dynamic_rnn \n",
    "        outputs, state =tf.nn.dynamic_rnn(cell,x_one_hot,initial_state=self.initial_state)\n",
    "        self.final_state = state\n",
    "        \n",
    "        # Get softmax predictions and logits\n",
    "        self.prediction, self.logits = build_output(outputs,lstm_size,num_classes)\n",
    "        \n",
    "        # Loss and optimizer (with gradient clipping)\n",
    "        self.loss =  build_loss(self.logits,self.targets,lstm_size,num_classes)\n",
    "        self.optimizer = build_optimizer(self.loss,learning_rate,grad_clip)"
   ]
  },
  {
   "cell_type": "markdown",
   "metadata": {},
   "source": [
    "## Hyperparameters\n",
    "\n",
    "Here are the hyperparameters for the network.\n",
    "\n",
    "* `batch_size` - Number of sequences running through the network in one pass.\n",
    "* `num_steps` - Number of characters in the sequence the network is trained on. Larger is better typically, the network will learn more long range dependencies. But it takes longer to train. 100 is typically a good number here.\n",
    "* `lstm_size` - The number of units in the hidden layers.\n",
    "* `num_layers` - Number of hidden LSTM layers to use\n",
    "* `learning_rate` - Learning rate for training\n",
    "* `keep_prob` - The dropout keep probability when training. If you're network is overfitting, try decreasing this.\n",
    "\n",
    "Here's some good advice from Andrej Karpathy on training the network. I'm going to copy it in here for your benefit, but also link to [where it originally came from](https://github.com/karpathy/char-rnn#tips-and-tricks).\n",
    "\n",
    "> ## Tips and Tricks\n",
    "\n",
    ">### Monitoring Validation Loss vs. Training Loss\n",
    ">If you're somewhat new to Machine Learning or Neural Networks it can take a bit of expertise to get good models. The most important quantity to keep track of is the difference between your training loss (printed during training) and the validation loss (printed once in a while when the RNN is run on the validation data (by default every 1000 iterations)). In particular:\n",
    "\n",
    "> - If your training loss is much lower than validation loss then this means the network might be **overfitting**. Solutions to this are to decrease your network size, or to increase dropout. For example you could try dropout of 0.5 and so on.\n",
    "> - If your training/validation loss are about equal then your model is **underfitting**. Increase the size of your model (either number of layers or the raw number of neurons per layer)\n",
    "\n",
    "> ### Approximate number of parameters\n",
    "\n",
    "> The two most important parameters that control the model are `lstm_size` and `num_layers`. I would advise that you always use `num_layers` of either 2/3. The `lstm_size` can be adjusted based on how much data you have. The two important quantities to keep track of here are:\n",
    "\n",
    "> - The number of parameters in your model. This is printed when you start training.\n",
    "> - The size of your dataset. 1MB file is approximately 1 million characters.\n",
    "\n",
    ">These two should be about the same order of magnitude. It's a little tricky to tell. Here are some examples:\n",
    "\n",
    "> - I have a 100MB dataset and I'm using the default parameter settings (which currently print 150K parameters). My data size is significantly larger (100 mil >> 0.15 mil), so I expect to heavily underfit. I am thinking I can comfortably afford to make `lstm_size` larger.\n",
    "> - I have a 10MB dataset and running a 10 million parameter model. I'm slightly nervous and I'm carefully monitoring my validation loss. If it's larger than my training loss then I may want to try to increase dropout a bit and see if that helps the validation loss.\n",
    "\n",
    "> ### Best models strategy\n",
    "\n",
    ">The winning strategy to obtaining very good models (if you have the compute time) is to always err on making the network larger (as large as you're willing to wait for it to compute) and then try different dropout values (between 0,1). Whatever model has the best validation performance (the loss, written in the checkpoint filename, low is good) is the one you should use in the end.\n",
    "\n",
    ">It is very common in deep learning to run many different models with many different hyperparameter settings, and in the end take whatever checkpoint gave the best validation performance.\n",
    "\n",
    ">By the way, the size of your training and validation splits are also parameters. Make sure you have a decent amount of data in your validation set or otherwise the validation performance will be noisy and not very informative."
   ]
  },
  {
   "cell_type": "code",
   "execution_count": 47,
   "metadata": {},
   "outputs": [],
   "source": [
    "batch_size = 10         # Sequences per batch\n",
    "num_steps = 50          # Number of sequence steps per batch\n",
    "lstm_size = 128         # Size of hidden layers in LSTMs\n",
    "num_layers = 2          # Number of LSTM layers\n",
    "learning_rate = 0.01    # Learning rate\n",
    "keep_prob = 0.5         # Dropout keep probability"
   ]
  },
  {
   "cell_type": "markdown",
   "metadata": {},
   "source": [
    "## Time for training\n",
    "\n",
    "This is typical training code, passing inputs and targets into the network, then running the optimizer. Here we also get back the final LSTM state for the mini-batch. Then, we pass that state back into the network so the next batch can continue the state from the previous batch. And every so often (set by `save_every_n`) I save a checkpoint.\n",
    "\n",
    "Here I'm saving checkpoints with the format\n",
    "\n",
    "`i{iteration number}_l{# hidden layer units}.ckpt`\n",
    "\n",
    "> **Exercise:** Set the hyperparameters above to train the network. Watch the training loss, it should be consistently dropping. Also, I highly advise running this on a GPU."
   ]
  },
  {
   "cell_type": "code",
   "execution_count": 50,
   "metadata": {
    "scrolled": true
   },
   "outputs": [
    {
     "name": "stdout",
     "output_type": "stream",
     "text": [
      "3970\n",
      "(1985000,)\n",
      "(10, 198500)\n",
      "Epoch: 1/20...  Training Step: 50...  Training loss: 3.1198...  0.0806 sec/batch\n",
      "Epoch: 1/20...  Training Step: 100...  Training loss: 2.6719...  0.0811 sec/batch\n",
      "Epoch: 1/20...  Training Step: 150...  Training loss: 2.4671...  0.0811 sec/batch\n",
      "Epoch: 1/20...  Training Step: 200...  Training loss: 2.5033...  0.0801 sec/batch\n"
     ]
    },
    {
     "data": {
      "text/plain": [
       "'checkpoints/i200_l128.ckpt'"
      ]
     },
     "execution_count": 50,
     "metadata": {},
     "output_type": "execute_result"
    },
    {
     "name": "stdout",
     "output_type": "stream",
     "text": [
      "Epoch: 1/20...  Training Step: 250...  Training loss: 2.3509...  0.0909 sec/batch\n",
      "Epoch: 1/20...  Training Step: 300...  Training loss: 2.2682...  0.0841 sec/batch\n",
      "Epoch: 1/20...  Training Step: 350...  Training loss: 2.1451...  0.0870 sec/batch\n",
      "Epoch: 1/20...  Training Step: 400...  Training loss: 2.1544...  0.0869 sec/batch\n"
     ]
    },
    {
     "data": {
      "text/plain": [
       "'checkpoints/i400_l128.ckpt'"
      ]
     },
     "execution_count": 50,
     "metadata": {},
     "output_type": "execute_result"
    },
    {
     "name": "stdout",
     "output_type": "stream",
     "text": [
      "Epoch: 1/20...  Training Step: 450...  Training loss: 2.2551...  0.0896 sec/batch\n",
      "Epoch: 1/20...  Training Step: 500...  Training loss: 2.2566...  0.0894 sec/batch\n",
      "Epoch: 1/20...  Training Step: 550...  Training loss: 2.0085...  0.0945 sec/batch\n",
      "Epoch: 1/20...  Training Step: 600...  Training loss: 1.8905...  0.0894 sec/batch\n"
     ]
    },
    {
     "data": {
      "text/plain": [
       "'checkpoints/i600_l128.ckpt'"
      ]
     },
     "execution_count": 50,
     "metadata": {},
     "output_type": "execute_result"
    },
    {
     "name": "stdout",
     "output_type": "stream",
     "text": [
      "Epoch: 1/20...  Training Step: 650...  Training loss: 1.9760...  0.0883 sec/batch\n",
      "Epoch: 1/20...  Training Step: 700...  Training loss: 1.9378...  0.0896 sec/batch\n",
      "Epoch: 1/20...  Training Step: 750...  Training loss: 2.0418...  0.1207 sec/batch\n",
      "Epoch: 1/20...  Training Step: 800...  Training loss: 1.9914...  0.0882 sec/batch\n"
     ]
    },
    {
     "data": {
      "text/plain": [
       "'checkpoints/i800_l128.ckpt'"
      ]
     },
     "execution_count": 50,
     "metadata": {},
     "output_type": "execute_result"
    },
    {
     "name": "stdout",
     "output_type": "stream",
     "text": [
      "Epoch: 1/20...  Training Step: 850...  Training loss: 2.1293...  0.0940 sec/batch\n",
      "Epoch: 1/20...  Training Step: 900...  Training loss: 1.9441...  0.0860 sec/batch\n",
      "Epoch: 1/20...  Training Step: 950...  Training loss: 1.9584...  0.1028 sec/batch\n",
      "Epoch: 1/20...  Training Step: 1000...  Training loss: 1.9105...  0.0916 sec/batch\n"
     ]
    },
    {
     "data": {
      "text/plain": [
       "'checkpoints/i1000_l128.ckpt'"
      ]
     },
     "execution_count": 50,
     "metadata": {},
     "output_type": "execute_result"
    },
    {
     "name": "stdout",
     "output_type": "stream",
     "text": [
      "Epoch: 1/20...  Training Step: 1050...  Training loss: 2.0175...  0.1001 sec/batch\n",
      "Epoch: 1/20...  Training Step: 1100...  Training loss: 1.9235...  0.1066 sec/batch\n",
      "Epoch: 1/20...  Training Step: 1150...  Training loss: 1.9884...  0.1059 sec/batch\n",
      "Epoch: 1/20...  Training Step: 1200...  Training loss: 1.9318...  0.0932 sec/batch\n"
     ]
    },
    {
     "data": {
      "text/plain": [
       "'checkpoints/i1200_l128.ckpt'"
      ]
     },
     "execution_count": 50,
     "metadata": {},
     "output_type": "execute_result"
    },
    {
     "name": "stdout",
     "output_type": "stream",
     "text": [
      "Epoch: 1/20...  Training Step: 1250...  Training loss: 1.7453...  0.0876 sec/batch\n",
      "Epoch: 1/20...  Training Step: 1300...  Training loss: 1.8795...  0.0853 sec/batch\n",
      "Epoch: 1/20...  Training Step: 1350...  Training loss: 1.7627...  0.1239 sec/batch\n",
      "Epoch: 1/20...  Training Step: 1400...  Training loss: 2.0159...  0.0931 sec/batch\n"
     ]
    },
    {
     "data": {
      "text/plain": [
       "'checkpoints/i1400_l128.ckpt'"
      ]
     },
     "execution_count": 50,
     "metadata": {},
     "output_type": "execute_result"
    },
    {
     "name": "stdout",
     "output_type": "stream",
     "text": [
      "Epoch: 1/20...  Training Step: 1450...  Training loss: 1.8852...  0.0892 sec/batch\n",
      "Epoch: 1/20...  Training Step: 1500...  Training loss: 1.8942...  0.1130 sec/batch\n",
      "Epoch: 1/20...  Training Step: 1550...  Training loss: 1.8190...  0.1000 sec/batch\n",
      "Epoch: 1/20...  Training Step: 1600...  Training loss: 1.8600...  0.1086 sec/batch\n"
     ]
    },
    {
     "data": {
      "text/plain": [
       "'checkpoints/i1600_l128.ckpt'"
      ]
     },
     "execution_count": 50,
     "metadata": {},
     "output_type": "execute_result"
    },
    {
     "name": "stdout",
     "output_type": "stream",
     "text": [
      "Epoch: 1/20...  Training Step: 1650...  Training loss: 1.7966...  0.0899 sec/batch\n",
      "Epoch: 1/20...  Training Step: 1700...  Training loss: 1.8793...  0.0882 sec/batch\n",
      "Epoch: 1/20...  Training Step: 1750...  Training loss: 1.9786...  0.0998 sec/batch\n",
      "Epoch: 1/20...  Training Step: 1800...  Training loss: 1.9039...  0.0949 sec/batch\n"
     ]
    },
    {
     "data": {
      "text/plain": [
       "'checkpoints/i1800_l128.ckpt'"
      ]
     },
     "execution_count": 50,
     "metadata": {},
     "output_type": "execute_result"
    },
    {
     "name": "stdout",
     "output_type": "stream",
     "text": [
      "Epoch: 1/20...  Training Step: 1850...  Training loss: 1.9555...  0.0945 sec/batch\n",
      "Epoch: 1/20...  Training Step: 1900...  Training loss: 1.6960...  0.1061 sec/batch\n",
      "Epoch: 1/20...  Training Step: 1950...  Training loss: 1.7604...  0.0922 sec/batch\n",
      "Epoch: 1/20...  Training Step: 2000...  Training loss: 1.8389...  0.0950 sec/batch\n"
     ]
    },
    {
     "data": {
      "text/plain": [
       "'checkpoints/i2000_l128.ckpt'"
      ]
     },
     "execution_count": 50,
     "metadata": {},
     "output_type": "execute_result"
    },
    {
     "name": "stdout",
     "output_type": "stream",
     "text": [
      "Epoch: 1/20...  Training Step: 2050...  Training loss: 1.9571...  0.1073 sec/batch\n",
      "Epoch: 1/20...  Training Step: 2100...  Training loss: 1.7697...  0.1059 sec/batch\n",
      "Epoch: 1/20...  Training Step: 2150...  Training loss: 1.8502...  0.0910 sec/batch\n",
      "Epoch: 1/20...  Training Step: 2200...  Training loss: 1.7663...  0.0900 sec/batch\n"
     ]
    },
    {
     "data": {
      "text/plain": [
       "'checkpoints/i2200_l128.ckpt'"
      ]
     },
     "execution_count": 50,
     "metadata": {},
     "output_type": "execute_result"
    },
    {
     "name": "stdout",
     "output_type": "stream",
     "text": [
      "Epoch: 1/20...  Training Step: 2250...  Training loss: 1.7772...  0.0922 sec/batch\n",
      "Epoch: 1/20...  Training Step: 2300...  Training loss: 1.7302...  0.1007 sec/batch\n",
      "Epoch: 1/20...  Training Step: 2350...  Training loss: 1.8831...  0.0961 sec/batch\n",
      "Epoch: 1/20...  Training Step: 2400...  Training loss: 1.8867...  0.0927 sec/batch\n"
     ]
    },
    {
     "data": {
      "text/plain": [
       "'checkpoints/i2400_l128.ckpt'"
      ]
     },
     "execution_count": 50,
     "metadata": {},
     "output_type": "execute_result"
    },
    {
     "name": "stdout",
     "output_type": "stream",
     "text": [
      "Epoch: 1/20...  Training Step: 2450...  Training loss: 1.9647...  0.0960 sec/batch\n",
      "Epoch: 1/20...  Training Step: 2500...  Training loss: 1.7738...  0.1290 sec/batch\n",
      "Epoch: 1/20...  Training Step: 2550...  Training loss: 1.8321...  0.1156 sec/batch\n",
      "Epoch: 1/20...  Training Step: 2600...  Training loss: 1.6951...  0.0931 sec/batch\n"
     ]
    },
    {
     "data": {
      "text/plain": [
       "'checkpoints/i2600_l128.ckpt'"
      ]
     },
     "execution_count": 50,
     "metadata": {},
     "output_type": "execute_result"
    },
    {
     "name": "stdout",
     "output_type": "stream",
     "text": [
      "Epoch: 1/20...  Training Step: 2650...  Training loss: 1.9141...  0.0914 sec/batch\n",
      "Epoch: 1/20...  Training Step: 2700...  Training loss: 1.8962...  0.0843 sec/batch\n",
      "Epoch: 1/20...  Training Step: 2750...  Training loss: 1.6894...  0.0992 sec/batch\n",
      "Epoch: 1/20...  Training Step: 2800...  Training loss: 1.7124...  0.1758 sec/batch\n"
     ]
    },
    {
     "data": {
      "text/plain": [
       "'checkpoints/i2800_l128.ckpt'"
      ]
     },
     "execution_count": 50,
     "metadata": {},
     "output_type": "execute_result"
    },
    {
     "name": "stdout",
     "output_type": "stream",
     "text": [
      "Epoch: 1/20...  Training Step: 2850...  Training loss: 1.8884...  0.0834 sec/batch\n",
      "Epoch: 1/20...  Training Step: 2900...  Training loss: 1.6022...  0.1018 sec/batch\n",
      "Epoch: 1/20...  Training Step: 2950...  Training loss: 1.5974...  0.0888 sec/batch\n",
      "Epoch: 1/20...  Training Step: 3000...  Training loss: 1.7669...  0.0953 sec/batch\n"
     ]
    },
    {
     "data": {
      "text/plain": [
       "'checkpoints/i3000_l128.ckpt'"
      ]
     },
     "execution_count": 50,
     "metadata": {},
     "output_type": "execute_result"
    },
    {
     "name": "stdout",
     "output_type": "stream",
     "text": [
      "Epoch: 1/20...  Training Step: 3050...  Training loss: 1.9109...  0.1035 sec/batch\n",
      "Epoch: 1/20...  Training Step: 3100...  Training loss: 1.7527...  0.0875 sec/batch\n",
      "Epoch: 1/20...  Training Step: 3150...  Training loss: 1.6828...  0.1131 sec/batch\n",
      "Epoch: 1/20...  Training Step: 3200...  Training loss: 1.9199...  0.1122 sec/batch\n"
     ]
    },
    {
     "data": {
      "text/plain": [
       "'checkpoints/i3200_l128.ckpt'"
      ]
     },
     "execution_count": 50,
     "metadata": {},
     "output_type": "execute_result"
    },
    {
     "name": "stdout",
     "output_type": "stream",
     "text": [
      "Epoch: 1/20...  Training Step: 3250...  Training loss: 1.7381...  0.1055 sec/batch\n",
      "Epoch: 1/20...  Training Step: 3300...  Training loss: 1.8291...  0.0993 sec/batch\n",
      "Epoch: 1/20...  Training Step: 3350...  Training loss: 1.5964...  0.0860 sec/batch\n",
      "Epoch: 1/20...  Training Step: 3400...  Training loss: 1.7414...  0.0890 sec/batch\n"
     ]
    },
    {
     "data": {
      "text/plain": [
       "'checkpoints/i3400_l128.ckpt'"
      ]
     },
     "execution_count": 50,
     "metadata": {},
     "output_type": "execute_result"
    },
    {
     "name": "stdout",
     "output_type": "stream",
     "text": [
      "Epoch: 1/20...  Training Step: 3450...  Training loss: 1.7865...  0.1245 sec/batch\n",
      "Epoch: 1/20...  Training Step: 3500...  Training loss: 1.6594...  0.0864 sec/batch\n",
      "Epoch: 1/20...  Training Step: 3550...  Training loss: 1.8544...  0.1037 sec/batch\n",
      "Epoch: 1/20...  Training Step: 3600...  Training loss: 1.7589...  0.0895 sec/batch\n"
     ]
    },
    {
     "data": {
      "text/plain": [
       "'checkpoints/i3600_l128.ckpt'"
      ]
     },
     "execution_count": 50,
     "metadata": {},
     "output_type": "execute_result"
    },
    {
     "name": "stdout",
     "output_type": "stream",
     "text": [
      "Epoch: 1/20...  Training Step: 3650...  Training loss: 1.9571...  0.0900 sec/batch\n",
      "Epoch: 1/20...  Training Step: 3700...  Training loss: 1.6702...  0.0874 sec/batch\n",
      "Epoch: 1/20...  Training Step: 3750...  Training loss: 1.8214...  0.0868 sec/batch\n",
      "Epoch: 1/20...  Training Step: 3800...  Training loss: 1.7217...  0.0895 sec/batch\n"
     ]
    },
    {
     "data": {
      "text/plain": [
       "'checkpoints/i3800_l128.ckpt'"
      ]
     },
     "execution_count": 50,
     "metadata": {},
     "output_type": "execute_result"
    },
    {
     "name": "stdout",
     "output_type": "stream",
     "text": [
      "Epoch: 1/20...  Training Step: 3850...  Training loss: 1.7596...  0.1125 sec/batch\n",
      "Epoch: 1/20...  Training Step: 3900...  Training loss: 1.8837...  0.0912 sec/batch\n",
      "Epoch: 1/20...  Training Step: 3950...  Training loss: 1.7517...  0.0913 sec/batch\n",
      "3970\n",
      "(1985000,)\n",
      "(10, 198500)\n",
      "Epoch: 2/20...  Training Step: 4000...  Training loss: 1.7390...  0.0895 sec/batch\n"
     ]
    },
    {
     "data": {
      "text/plain": [
       "'checkpoints/i4000_l128.ckpt'"
      ]
     },
     "execution_count": 50,
     "metadata": {},
     "output_type": "execute_result"
    },
    {
     "name": "stdout",
     "output_type": "stream",
     "text": [
      "Epoch: 2/20...  Training Step: 4050...  Training loss: 1.7847...  0.0886 sec/batch\n",
      "Epoch: 2/20...  Training Step: 4100...  Training loss: 1.6714...  0.0847 sec/batch\n",
      "Epoch: 2/20...  Training Step: 4150...  Training loss: 1.5946...  0.0889 sec/batch\n",
      "Epoch: 2/20...  Training Step: 4200...  Training loss: 1.6708...  0.0885 sec/batch\n"
     ]
    },
    {
     "data": {
      "text/plain": [
       "'checkpoints/i4200_l128.ckpt'"
      ]
     },
     "execution_count": 50,
     "metadata": {},
     "output_type": "execute_result"
    },
    {
     "name": "stdout",
     "output_type": "stream",
     "text": [
      "Epoch: 2/20...  Training Step: 4250...  Training loss: 1.8172...  0.0889 sec/batch\n",
      "Epoch: 2/20...  Training Step: 4300...  Training loss: 1.7482...  0.0876 sec/batch\n",
      "Epoch: 2/20...  Training Step: 4350...  Training loss: 1.7329...  0.0869 sec/batch\n",
      "Epoch: 2/20...  Training Step: 4400...  Training loss: 1.6701...  0.0872 sec/batch\n"
     ]
    },
    {
     "data": {
      "text/plain": [
       "'checkpoints/i4400_l128.ckpt'"
      ]
     },
     "execution_count": 50,
     "metadata": {},
     "output_type": "execute_result"
    },
    {
     "name": "stdout",
     "output_type": "stream",
     "text": [
      "Epoch: 2/20...  Training Step: 4450...  Training loss: 1.7725...  0.0875 sec/batch\n",
      "Epoch: 2/20...  Training Step: 4500...  Training loss: 1.7625...  0.0913 sec/batch\n",
      "Epoch: 2/20...  Training Step: 4550...  Training loss: 1.9068...  0.0866 sec/batch\n",
      "Epoch: 2/20...  Training Step: 4600...  Training loss: 1.7635...  0.0904 sec/batch\n"
     ]
    },
    {
     "data": {
      "text/plain": [
       "'checkpoints/i4600_l128.ckpt'"
      ]
     },
     "execution_count": 50,
     "metadata": {},
     "output_type": "execute_result"
    },
    {
     "name": "stdout",
     "output_type": "stream",
     "text": [
      "Epoch: 2/20...  Training Step: 4650...  Training loss: 1.9075...  0.0876 sec/batch\n",
      "Epoch: 2/20...  Training Step: 4700...  Training loss: 1.6637...  0.0889 sec/batch\n",
      "Epoch: 2/20...  Training Step: 4750...  Training loss: 1.7816...  0.0878 sec/batch\n",
      "Epoch: 2/20...  Training Step: 4800...  Training loss: 1.6810...  0.0884 sec/batch\n"
     ]
    },
    {
     "data": {
      "text/plain": [
       "'checkpoints/i4800_l128.ckpt'"
      ]
     },
     "execution_count": 50,
     "metadata": {},
     "output_type": "execute_result"
    },
    {
     "name": "stdout",
     "output_type": "stream",
     "text": [
      "Epoch: 2/20...  Training Step: 4850...  Training loss: 1.6791...  0.0890 sec/batch\n",
      "Epoch: 2/20...  Training Step: 4900...  Training loss: 1.7792...  0.0893 sec/batch\n",
      "Epoch: 2/20...  Training Step: 4950...  Training loss: 1.6740...  0.0883 sec/batch\n",
      "Epoch: 2/20...  Training Step: 5000...  Training loss: 1.6746...  0.0887 sec/batch\n"
     ]
    },
    {
     "data": {
      "text/plain": [
       "'checkpoints/i5000_l128.ckpt'"
      ]
     },
     "execution_count": 50,
     "metadata": {},
     "output_type": "execute_result"
    },
    {
     "name": "stdout",
     "output_type": "stream",
     "text": [
      "Epoch: 2/20...  Training Step: 5050...  Training loss: 1.5684...  0.0865 sec/batch\n",
      "Epoch: 2/20...  Training Step: 5100...  Training loss: 1.5842...  0.0890 sec/batch\n",
      "Epoch: 2/20...  Training Step: 5150...  Training loss: 1.7501...  0.0916 sec/batch\n",
      "Epoch: 2/20...  Training Step: 5200...  Training loss: 1.8112...  0.0875 sec/batch\n"
     ]
    },
    {
     "data": {
      "text/plain": [
       "'checkpoints/i5200_l128.ckpt'"
      ]
     },
     "execution_count": 50,
     "metadata": {},
     "output_type": "execute_result"
    },
    {
     "name": "stdout",
     "output_type": "stream",
     "text": [
      "Epoch: 2/20...  Training Step: 5250...  Training loss: 1.6290...  0.1056 sec/batch\n",
      "Epoch: 2/20...  Training Step: 5300...  Training loss: 1.7998...  0.0911 sec/batch\n",
      "Epoch: 2/20...  Training Step: 5350...  Training loss: 1.7215...  0.0875 sec/batch\n",
      "Epoch: 2/20...  Training Step: 5400...  Training loss: 1.7701...  0.0873 sec/batch\n"
     ]
    },
    {
     "data": {
      "text/plain": [
       "'checkpoints/i5400_l128.ckpt'"
      ]
     },
     "execution_count": 50,
     "metadata": {},
     "output_type": "execute_result"
    },
    {
     "name": "stdout",
     "output_type": "stream",
     "text": [
      "Epoch: 2/20...  Training Step: 5450...  Training loss: 1.7783...  0.0894 sec/batch\n",
      "Epoch: 2/20...  Training Step: 5500...  Training loss: 1.7489...  0.0851 sec/batch\n",
      "Epoch: 2/20...  Training Step: 5550...  Training loss: 1.7034...  0.0865 sec/batch\n",
      "Epoch: 2/20...  Training Step: 5600...  Training loss: 1.7768...  0.0941 sec/batch\n"
     ]
    },
    {
     "data": {
      "text/plain": [
       "'checkpoints/i5600_l128.ckpt'"
      ]
     },
     "execution_count": 50,
     "metadata": {},
     "output_type": "execute_result"
    },
    {
     "name": "stdout",
     "output_type": "stream",
     "text": [
      "Epoch: 2/20...  Training Step: 5650...  Training loss: 1.7376...  0.0870 sec/batch\n",
      "Epoch: 2/20...  Training Step: 5700...  Training loss: 1.6266...  0.0887 sec/batch\n",
      "Epoch: 2/20...  Training Step: 5750...  Training loss: 1.6591...  0.0874 sec/batch\n",
      "Epoch: 2/20...  Training Step: 5800...  Training loss: 1.7137...  0.0941 sec/batch\n"
     ]
    },
    {
     "data": {
      "text/plain": [
       "'checkpoints/i5800_l128.ckpt'"
      ]
     },
     "execution_count": 50,
     "metadata": {},
     "output_type": "execute_result"
    },
    {
     "name": "stdout",
     "output_type": "stream",
     "text": [
      "Epoch: 2/20...  Training Step: 5850...  Training loss: 1.8600...  0.0936 sec/batch\n",
      "Epoch: 2/20...  Training Step: 5900...  Training loss: 1.6894...  0.0894 sec/batch\n",
      "Epoch: 2/20...  Training Step: 5950...  Training loss: 1.7060...  0.0970 sec/batch\n",
      "Epoch: 2/20...  Training Step: 6000...  Training loss: 1.6036...  0.0871 sec/batch\n"
     ]
    },
    {
     "data": {
      "text/plain": [
       "'checkpoints/i6000_l128.ckpt'"
      ]
     },
     "execution_count": 50,
     "metadata": {},
     "output_type": "execute_result"
    },
    {
     "name": "stdout",
     "output_type": "stream",
     "text": [
      "Epoch: 2/20...  Training Step: 6050...  Training loss: 1.6934...  0.0856 sec/batch\n",
      "Epoch: 2/20...  Training Step: 6100...  Training loss: 1.7999...  0.0857 sec/batch\n",
      "Epoch: 2/20...  Training Step: 6150...  Training loss: 1.7550...  0.0867 sec/batch\n",
      "Epoch: 2/20...  Training Step: 6200...  Training loss: 1.7235...  0.0982 sec/batch\n"
     ]
    },
    {
     "data": {
      "text/plain": [
       "'checkpoints/i6200_l128.ckpt'"
      ]
     },
     "execution_count": 50,
     "metadata": {},
     "output_type": "execute_result"
    },
    {
     "name": "stdout",
     "output_type": "stream",
     "text": [
      "Epoch: 2/20...  Training Step: 6250...  Training loss: 1.6746...  0.0889 sec/batch\n",
      "Epoch: 2/20...  Training Step: 6300...  Training loss: 1.6608...  0.1081 sec/batch\n",
      "Epoch: 2/20...  Training Step: 6350...  Training loss: 1.7849...  0.0887 sec/batch\n",
      "Epoch: 2/20...  Training Step: 6400...  Training loss: 1.6801...  0.0853 sec/batch\n"
     ]
    },
    {
     "data": {
      "text/plain": [
       "'checkpoints/i6400_l128.ckpt'"
      ]
     },
     "execution_count": 50,
     "metadata": {},
     "output_type": "execute_result"
    },
    {
     "name": "stdout",
     "output_type": "stream",
     "text": [
      "Epoch: 2/20...  Training Step: 6450...  Training loss: 1.7278...  0.0895 sec/batch\n",
      "Epoch: 2/20...  Training Step: 6500...  Training loss: 1.6996...  0.0863 sec/batch\n",
      "Epoch: 2/20...  Training Step: 6550...  Training loss: 1.7534...  0.0862 sec/batch\n",
      "Epoch: 2/20...  Training Step: 6600...  Training loss: 1.8596...  0.1013 sec/batch\n"
     ]
    },
    {
     "data": {
      "text/plain": [
       "'checkpoints/i6600_l128.ckpt'"
      ]
     },
     "execution_count": 50,
     "metadata": {},
     "output_type": "execute_result"
    },
    {
     "name": "stdout",
     "output_type": "stream",
     "text": [
      "Epoch: 2/20...  Training Step: 6650...  Training loss: 1.5449...  0.0981 sec/batch\n",
      "Epoch: 2/20...  Training Step: 6700...  Training loss: 1.6490...  0.0883 sec/batch\n",
      "Epoch: 2/20...  Training Step: 6750...  Training loss: 1.6279...  0.0908 sec/batch\n",
      "Epoch: 2/20...  Training Step: 6800...  Training loss: 1.7820...  0.0856 sec/batch\n"
     ]
    },
    {
     "data": {
      "text/plain": [
       "'checkpoints/i6800_l128.ckpt'"
      ]
     },
     "execution_count": 50,
     "metadata": {},
     "output_type": "execute_result"
    },
    {
     "name": "stdout",
     "output_type": "stream",
     "text": [
      "Epoch: 2/20...  Training Step: 6850...  Training loss: 1.5887...  0.1056 sec/batch\n",
      "Epoch: 2/20...  Training Step: 6900...  Training loss: 1.6307...  0.0859 sec/batch\n",
      "Epoch: 2/20...  Training Step: 6950...  Training loss: 1.8667...  0.0897 sec/batch\n",
      "Epoch: 2/20...  Training Step: 7000...  Training loss: 1.5472...  0.0886 sec/batch\n"
     ]
    },
    {
     "data": {
      "text/plain": [
       "'checkpoints/i7000_l128.ckpt'"
      ]
     },
     "execution_count": 50,
     "metadata": {},
     "output_type": "execute_result"
    },
    {
     "name": "stdout",
     "output_type": "stream",
     "text": [
      "Epoch: 2/20...  Training Step: 7050...  Training loss: 1.6811...  0.0893 sec/batch\n",
      "Epoch: 2/20...  Training Step: 7100...  Training loss: 1.6380...  0.0886 sec/batch\n",
      "Epoch: 2/20...  Training Step: 7150...  Training loss: 1.5529...  0.0968 sec/batch\n",
      "Epoch: 2/20...  Training Step: 7200...  Training loss: 1.7390...  0.0888 sec/batch\n"
     ]
    },
    {
     "data": {
      "text/plain": [
       "'checkpoints/i7200_l128.ckpt'"
      ]
     },
     "execution_count": 50,
     "metadata": {},
     "output_type": "execute_result"
    },
    {
     "name": "stdout",
     "output_type": "stream",
     "text": [
      "Epoch: 2/20...  Training Step: 7250...  Training loss: 1.5253...  0.0914 sec/batch\n",
      "Epoch: 2/20...  Training Step: 7300...  Training loss: 1.7316...  0.0881 sec/batch\n",
      "Epoch: 2/20...  Training Step: 7350...  Training loss: 1.6099...  0.0904 sec/batch\n",
      "Epoch: 2/20...  Training Step: 7400...  Training loss: 1.5248...  0.0873 sec/batch\n"
     ]
    },
    {
     "data": {
      "text/plain": [
       "'checkpoints/i7400_l128.ckpt'"
      ]
     },
     "execution_count": 50,
     "metadata": {},
     "output_type": "execute_result"
    },
    {
     "name": "stdout",
     "output_type": "stream",
     "text": [
      "Epoch: 2/20...  Training Step: 7450...  Training loss: 1.4904...  0.0894 sec/batch\n",
      "Epoch: 2/20...  Training Step: 7500...  Training loss: 1.5421...  0.1018 sec/batch\n",
      "Epoch: 2/20...  Training Step: 7550...  Training loss: 1.5535...  0.1077 sec/batch\n",
      "Epoch: 2/20...  Training Step: 7600...  Training loss: 1.6556...  0.0883 sec/batch\n"
     ]
    },
    {
     "data": {
      "text/plain": [
       "'checkpoints/i7600_l128.ckpt'"
      ]
     },
     "execution_count": 50,
     "metadata": {},
     "output_type": "execute_result"
    },
    {
     "name": "stdout",
     "output_type": "stream",
     "text": [
      "Epoch: 2/20...  Training Step: 7650...  Training loss: 1.8218...  0.0913 sec/batch\n",
      "Epoch: 2/20...  Training Step: 7700...  Training loss: 1.8933...  0.0898 sec/batch\n",
      "Epoch: 2/20...  Training Step: 7750...  Training loss: 1.9316...  0.0868 sec/batch\n",
      "Epoch: 2/20...  Training Step: 7800...  Training loss: 1.7654...  0.0881 sec/batch\n"
     ]
    },
    {
     "data": {
      "text/plain": [
       "'checkpoints/i7800_l128.ckpt'"
      ]
     },
     "execution_count": 50,
     "metadata": {},
     "output_type": "execute_result"
    },
    {
     "name": "stdout",
     "output_type": "stream",
     "text": [
      "Epoch: 2/20...  Training Step: 7850...  Training loss: 1.7297...  0.0899 sec/batch\n",
      "Epoch: 2/20...  Training Step: 7900...  Training loss: 1.7775...  0.1204 sec/batch\n",
      "3970\n",
      "(1985000,)\n",
      "(10, 198500)\n",
      "Epoch: 3/20...  Training Step: 7950...  Training loss: 1.6987...  0.0868 sec/batch\n",
      "Epoch: 3/20...  Training Step: 8000...  Training loss: 1.7364...  0.0983 sec/batch\n"
     ]
    },
    {
     "data": {
      "text/plain": [
       "'checkpoints/i8000_l128.ckpt'"
      ]
     },
     "execution_count": 50,
     "metadata": {},
     "output_type": "execute_result"
    },
    {
     "name": "stdout",
     "output_type": "stream",
     "text": [
      "Epoch: 3/20...  Training Step: 8050...  Training loss: 1.6955...  0.1234 sec/batch\n",
      "Epoch: 3/20...  Training Step: 8100...  Training loss: 1.8407...  0.0923 sec/batch\n",
      "Epoch: 3/20...  Training Step: 8150...  Training loss: 1.6368...  0.0896 sec/batch\n",
      "Epoch: 3/20...  Training Step: 8200...  Training loss: 1.5918...  0.0873 sec/batch\n"
     ]
    },
    {
     "data": {
      "text/plain": [
       "'checkpoints/i8200_l128.ckpt'"
      ]
     },
     "execution_count": 50,
     "metadata": {},
     "output_type": "execute_result"
    },
    {
     "name": "stdout",
     "output_type": "stream",
     "text": [
      "Epoch: 3/20...  Training Step: 8250...  Training loss: 1.7481...  0.0885 sec/batch\n",
      "Epoch: 3/20...  Training Step: 8300...  Training loss: 1.8077...  0.0895 sec/batch\n",
      "Epoch: 3/20...  Training Step: 8350...  Training loss: 1.7257...  0.0890 sec/batch\n",
      "Epoch: 3/20...  Training Step: 8400...  Training loss: 1.8435...  0.0903 sec/batch\n"
     ]
    },
    {
     "data": {
      "text/plain": [
       "'checkpoints/i8400_l128.ckpt'"
      ]
     },
     "execution_count": 50,
     "metadata": {},
     "output_type": "execute_result"
    },
    {
     "name": "stdout",
     "output_type": "stream",
     "text": [
      "Epoch: 3/20...  Training Step: 8450...  Training loss: 1.7452...  0.1081 sec/batch\n",
      "Epoch: 3/20...  Training Step: 8500...  Training loss: 1.6810...  0.0898 sec/batch\n",
      "Epoch: 3/20...  Training Step: 8550...  Training loss: 1.6605...  0.0917 sec/batch\n",
      "Epoch: 3/20...  Training Step: 8600...  Training loss: 1.6840...  0.0860 sec/batch\n"
     ]
    },
    {
     "data": {
      "text/plain": [
       "'checkpoints/i8600_l128.ckpt'"
      ]
     },
     "execution_count": 50,
     "metadata": {},
     "output_type": "execute_result"
    },
    {
     "name": "stdout",
     "output_type": "stream",
     "text": [
      "Epoch: 3/20...  Training Step: 8650...  Training loss: 1.7585...  0.0853 sec/batch\n",
      "Epoch: 3/20...  Training Step: 8700...  Training loss: 1.6351...  0.0869 sec/batch\n",
      "Epoch: 3/20...  Training Step: 8750...  Training loss: 1.5870...  0.1093 sec/batch\n",
      "Epoch: 3/20...  Training Step: 8800...  Training loss: 1.8310...  0.0956 sec/batch\n"
     ]
    },
    {
     "data": {
      "text/plain": [
       "'checkpoints/i8800_l128.ckpt'"
      ]
     },
     "execution_count": 50,
     "metadata": {},
     "output_type": "execute_result"
    },
    {
     "name": "stdout",
     "output_type": "stream",
     "text": [
      "Epoch: 3/20...  Training Step: 8850...  Training loss: 1.6923...  0.0877 sec/batch\n",
      "Epoch: 3/20...  Training Step: 8900...  Training loss: 1.7659...  0.0867 sec/batch\n",
      "Epoch: 3/20...  Training Step: 8950...  Training loss: 1.7990...  0.0886 sec/batch\n",
      "Epoch: 3/20...  Training Step: 9000...  Training loss: 1.6547...  0.0924 sec/batch\n"
     ]
    },
    {
     "data": {
      "text/plain": [
       "'checkpoints/i9000_l128.ckpt'"
      ]
     },
     "execution_count": 50,
     "metadata": {},
     "output_type": "execute_result"
    },
    {
     "name": "stdout",
     "output_type": "stream",
     "text": [
      "Epoch: 3/20...  Training Step: 9050...  Training loss: 1.6011...  0.0978 sec/batch\n",
      "Epoch: 3/20...  Training Step: 9100...  Training loss: 1.4638...  0.0881 sec/batch\n",
      "Epoch: 3/20...  Training Step: 9150...  Training loss: 1.7122...  0.0989 sec/batch\n",
      "Epoch: 3/20...  Training Step: 9200...  Training loss: 1.5749...  0.0903 sec/batch\n"
     ]
    },
    {
     "data": {
      "text/plain": [
       "'checkpoints/i9200_l128.ckpt'"
      ]
     },
     "execution_count": 50,
     "metadata": {},
     "output_type": "execute_result"
    },
    {
     "name": "stdout",
     "output_type": "stream",
     "text": [
      "Epoch: 3/20...  Training Step: 9250...  Training loss: 1.6608...  0.0858 sec/batch\n",
      "Epoch: 3/20...  Training Step: 9300...  Training loss: 1.5209...  0.0885 sec/batch\n",
      "Epoch: 3/20...  Training Step: 9350...  Training loss: 1.7008...  0.1063 sec/batch\n",
      "Epoch: 3/20...  Training Step: 9400...  Training loss: 1.6662...  0.1426 sec/batch\n"
     ]
    },
    {
     "data": {
      "text/plain": [
       "'checkpoints/i9400_l128.ckpt'"
      ]
     },
     "execution_count": 50,
     "metadata": {},
     "output_type": "execute_result"
    },
    {
     "name": "stdout",
     "output_type": "stream",
     "text": [
      "Epoch: 3/20...  Training Step: 9450...  Training loss: 1.6060...  0.1006 sec/batch\n",
      "Epoch: 3/20...  Training Step: 9500...  Training loss: 1.7333...  0.1327 sec/batch\n",
      "Epoch: 3/20...  Training Step: 9550...  Training loss: 1.7656...  0.1095 sec/batch\n",
      "Epoch: 3/20...  Training Step: 9600...  Training loss: 1.5419...  0.0991 sec/batch\n"
     ]
    },
    {
     "data": {
      "text/plain": [
       "'checkpoints/i9600_l128.ckpt'"
      ]
     },
     "execution_count": 50,
     "metadata": {},
     "output_type": "execute_result"
    },
    {
     "name": "stdout",
     "output_type": "stream",
     "text": [
      "Epoch: 3/20...  Training Step: 9650...  Training loss: 1.6253...  0.0991 sec/batch\n",
      "Epoch: 3/20...  Training Step: 9700...  Training loss: 1.5685...  0.0919 sec/batch\n",
      "Epoch: 3/20...  Training Step: 9750...  Training loss: 1.4453...  0.0920 sec/batch\n",
      "Epoch: 3/20...  Training Step: 9800...  Training loss: 1.7089...  0.1002 sec/batch\n"
     ]
    },
    {
     "data": {
      "text/plain": [
       "'checkpoints/i9800_l128.ckpt'"
      ]
     },
     "execution_count": 50,
     "metadata": {},
     "output_type": "execute_result"
    },
    {
     "name": "stdout",
     "output_type": "stream",
     "text": [
      "Epoch: 3/20...  Training Step: 9850...  Training loss: 1.5895...  0.1157 sec/batch\n",
      "Epoch: 3/20...  Training Step: 9900...  Training loss: 1.6608...  0.1126 sec/batch\n",
      "Epoch: 3/20...  Training Step: 9950...  Training loss: 1.7499...  0.1062 sec/batch\n",
      "Epoch: 3/20...  Training Step: 10000...  Training loss: 1.5884...  0.1043 sec/batch\n"
     ]
    },
    {
     "data": {
      "text/plain": [
       "'checkpoints/i10000_l128.ckpt'"
      ]
     },
     "execution_count": 50,
     "metadata": {},
     "output_type": "execute_result"
    },
    {
     "name": "stdout",
     "output_type": "stream",
     "text": [
      "Epoch: 3/20...  Training Step: 10050...  Training loss: 1.5768...  0.0970 sec/batch\n",
      "Epoch: 3/20...  Training Step: 10100...  Training loss: 1.7114...  0.1052 sec/batch\n",
      "Epoch: 3/20...  Training Step: 10150...  Training loss: 1.7588...  0.1026 sec/batch\n",
      "Epoch: 3/20...  Training Step: 10200...  Training loss: 1.7997...  0.1058 sec/batch\n"
     ]
    },
    {
     "data": {
      "text/plain": [
       "'checkpoints/i10200_l128.ckpt'"
      ]
     },
     "execution_count": 50,
     "metadata": {},
     "output_type": "execute_result"
    },
    {
     "name": "stdout",
     "output_type": "stream",
     "text": [
      "Epoch: 3/20...  Training Step: 10250...  Training loss: 1.6350...  0.0996 sec/batch\n",
      "Epoch: 3/20...  Training Step: 10300...  Training loss: 1.8057...  0.0982 sec/batch\n",
      "Epoch: 3/20...  Training Step: 10350...  Training loss: 1.6079...  0.0997 sec/batch\n",
      "Epoch: 3/20...  Training Step: 10400...  Training loss: 1.7991...  0.1031 sec/batch\n"
     ]
    },
    {
     "data": {
      "text/plain": [
       "'checkpoints/i10400_l128.ckpt'"
      ]
     },
     "execution_count": 50,
     "metadata": {},
     "output_type": "execute_result"
    },
    {
     "name": "stdout",
     "output_type": "stream",
     "text": [
      "Epoch: 3/20...  Training Step: 10450...  Training loss: 1.6870...  0.1033 sec/batch\n",
      "Epoch: 3/20...  Training Step: 10500...  Training loss: 1.4963...  0.0982 sec/batch\n",
      "Epoch: 3/20...  Training Step: 10550...  Training loss: 1.7354...  0.0973 sec/batch\n",
      "Epoch: 3/20...  Training Step: 10600...  Training loss: 1.7231...  0.1015 sec/batch\n"
     ]
    },
    {
     "data": {
      "text/plain": [
       "'checkpoints/i10600_l128.ckpt'"
      ]
     },
     "execution_count": 50,
     "metadata": {},
     "output_type": "execute_result"
    },
    {
     "name": "stdout",
     "output_type": "stream",
     "text": [
      "Epoch: 3/20...  Training Step: 10650...  Training loss: 1.6490...  0.1024 sec/batch\n",
      "Epoch: 3/20...  Training Step: 10700...  Training loss: 1.7155...  0.1047 sec/batch\n",
      "Epoch: 3/20...  Training Step: 10750...  Training loss: 1.7170...  0.1118 sec/batch\n",
      "Epoch: 3/20...  Training Step: 10800...  Training loss: 1.5902...  0.1079 sec/batch\n"
     ]
    },
    {
     "data": {
      "text/plain": [
       "'checkpoints/i10800_l128.ckpt'"
      ]
     },
     "execution_count": 50,
     "metadata": {},
     "output_type": "execute_result"
    },
    {
     "name": "stdout",
     "output_type": "stream",
     "text": [
      "Epoch: 3/20...  Training Step: 10850...  Training loss: 1.5781...  0.1224 sec/batch\n",
      "Epoch: 3/20...  Training Step: 10900...  Training loss: 1.7209...  0.1075 sec/batch\n",
      "Epoch: 3/20...  Training Step: 10950...  Training loss: 1.7488...  0.1065 sec/batch\n",
      "Epoch: 3/20...  Training Step: 11000...  Training loss: 1.6450...  0.1076 sec/batch\n"
     ]
    },
    {
     "data": {
      "text/plain": [
       "'checkpoints/i11000_l128.ckpt'"
      ]
     },
     "execution_count": 50,
     "metadata": {},
     "output_type": "execute_result"
    },
    {
     "name": "stdout",
     "output_type": "stream",
     "text": [
      "Epoch: 3/20...  Training Step: 11050...  Training loss: 1.6063...  0.1072 sec/batch\n",
      "Epoch: 3/20...  Training Step: 11100...  Training loss: 1.5502...  0.1080 sec/batch\n",
      "Epoch: 3/20...  Training Step: 11150...  Training loss: 1.5630...  0.1020 sec/batch\n",
      "Epoch: 3/20...  Training Step: 11200...  Training loss: 1.6214...  0.1049 sec/batch\n"
     ]
    },
    {
     "data": {
      "text/plain": [
       "'checkpoints/i11200_l128.ckpt'"
      ]
     },
     "execution_count": 50,
     "metadata": {},
     "output_type": "execute_result"
    },
    {
     "name": "stdout",
     "output_type": "stream",
     "text": [
      "Epoch: 3/20...  Training Step: 11250...  Training loss: 1.6736...  0.1012 sec/batch\n",
      "Epoch: 3/20...  Training Step: 11300...  Training loss: 1.5859...  0.1052 sec/batch\n",
      "Epoch: 3/20...  Training Step: 11350...  Training loss: 1.7080...  0.1058 sec/batch\n",
      "Epoch: 3/20...  Training Step: 11400...  Training loss: 1.5841...  0.0996 sec/batch\n"
     ]
    },
    {
     "data": {
      "text/plain": [
       "'checkpoints/i11400_l128.ckpt'"
      ]
     },
     "execution_count": 50,
     "metadata": {},
     "output_type": "execute_result"
    },
    {
     "name": "stdout",
     "output_type": "stream",
     "text": [
      "Epoch: 3/20...  Training Step: 11450...  Training loss: 1.6654...  0.1100 sec/batch\n",
      "Epoch: 3/20...  Training Step: 11500...  Training loss: 1.6551...  0.1129 sec/batch\n",
      "Epoch: 3/20...  Training Step: 11550...  Training loss: 1.7579...  0.1120 sec/batch\n",
      "Epoch: 3/20...  Training Step: 11600...  Training loss: 1.8124...  0.1026 sec/batch\n"
     ]
    },
    {
     "data": {
      "text/plain": [
       "'checkpoints/i11600_l128.ckpt'"
      ]
     },
     "execution_count": 50,
     "metadata": {},
     "output_type": "execute_result"
    },
    {
     "name": "stdout",
     "output_type": "stream",
     "text": [
      "Epoch: 3/20...  Training Step: 11650...  Training loss: 1.6486...  0.1100 sec/batch\n",
      "Epoch: 3/20...  Training Step: 11700...  Training loss: 1.5388...  0.1042 sec/batch\n",
      "Epoch: 3/20...  Training Step: 11750...  Training loss: 1.6761...  0.1110 sec/batch\n",
      "Epoch: 3/20...  Training Step: 11800...  Training loss: 1.7083...  0.1073 sec/batch\n"
     ]
    },
    {
     "data": {
      "text/plain": [
       "'checkpoints/i11800_l128.ckpt'"
      ]
     },
     "execution_count": 50,
     "metadata": {},
     "output_type": "execute_result"
    },
    {
     "name": "stdout",
     "output_type": "stream",
     "text": [
      "Epoch: 3/20...  Training Step: 11850...  Training loss: 1.9741...  0.1148 sec/batch\n",
      "Epoch: 3/20...  Training Step: 11900...  Training loss: 1.6851...  0.1033 sec/batch\n",
      "3970\n",
      "(1985000,)\n",
      "(10, 198500)\n",
      "Epoch: 4/20...  Training Step: 11950...  Training loss: 1.8093...  0.1074 sec/batch\n",
      "Epoch: 4/20...  Training Step: 12000...  Training loss: 1.6990...  0.0999 sec/batch\n"
     ]
    },
    {
     "data": {
      "text/plain": [
       "'checkpoints/i12000_l128.ckpt'"
      ]
     },
     "execution_count": 50,
     "metadata": {},
     "output_type": "execute_result"
    },
    {
     "name": "stdout",
     "output_type": "stream",
     "text": [
      "Epoch: 4/20...  Training Step: 12050...  Training loss: 1.5958...  0.1059 sec/batch\n",
      "Epoch: 4/20...  Training Step: 12100...  Training loss: 1.6144...  0.1013 sec/batch\n",
      "Epoch: 4/20...  Training Step: 12150...  Training loss: 1.7152...  0.1013 sec/batch\n",
      "Epoch: 4/20...  Training Step: 12200...  Training loss: 1.5612...  0.1058 sec/batch\n"
     ]
    },
    {
     "data": {
      "text/plain": [
       "'checkpoints/i12200_l128.ckpt'"
      ]
     },
     "execution_count": 50,
     "metadata": {},
     "output_type": "execute_result"
    },
    {
     "name": "stdout",
     "output_type": "stream",
     "text": [
      "Epoch: 4/20...  Training Step: 12250...  Training loss: 1.6627...  0.1085 sec/batch\n",
      "Epoch: 4/20...  Training Step: 12300...  Training loss: 1.5599...  0.1039 sec/batch\n",
      "Epoch: 4/20...  Training Step: 12350...  Training loss: 1.6790...  0.1207 sec/batch\n",
      "Epoch: 4/20...  Training Step: 12400...  Training loss: 1.7232...  0.1116 sec/batch\n"
     ]
    },
    {
     "data": {
      "text/plain": [
       "'checkpoints/i12400_l128.ckpt'"
      ]
     },
     "execution_count": 50,
     "metadata": {},
     "output_type": "execute_result"
    },
    {
     "name": "stdout",
     "output_type": "stream",
     "text": [
      "Epoch: 4/20...  Training Step: 12450...  Training loss: 1.4631...  0.0996 sec/batch\n",
      "Epoch: 4/20...  Training Step: 12500...  Training loss: 1.7874...  0.1033 sec/batch\n",
      "Epoch: 4/20...  Training Step: 12550...  Training loss: 1.5488...  0.1013 sec/batch\n",
      "Epoch: 4/20...  Training Step: 12600...  Training loss: 1.6646...  0.1094 sec/batch\n"
     ]
    },
    {
     "data": {
      "text/plain": [
       "'checkpoints/i12600_l128.ckpt'"
      ]
     },
     "execution_count": 50,
     "metadata": {},
     "output_type": "execute_result"
    },
    {
     "name": "stdout",
     "output_type": "stream",
     "text": [
      "Epoch: 4/20...  Training Step: 12650...  Training loss: 1.5660...  0.1002 sec/batch\n",
      "Epoch: 4/20...  Training Step: 12700...  Training loss: 1.6588...  0.1060 sec/batch\n",
      "Epoch: 4/20...  Training Step: 12750...  Training loss: 1.5624...  0.1122 sec/batch\n",
      "Epoch: 4/20...  Training Step: 12800...  Training loss: 1.6172...  0.1156 sec/batch\n"
     ]
    },
    {
     "data": {
      "text/plain": [
       "'checkpoints/i12800_l128.ckpt'"
      ]
     },
     "execution_count": 50,
     "metadata": {},
     "output_type": "execute_result"
    },
    {
     "name": "stdout",
     "output_type": "stream",
     "text": [
      "Epoch: 4/20...  Training Step: 12850...  Training loss: 1.5843...  0.0990 sec/batch\n",
      "Epoch: 4/20...  Training Step: 12900...  Training loss: 1.5378...  0.0881 sec/batch\n",
      "Epoch: 4/20...  Training Step: 12950...  Training loss: 1.5605...  0.1008 sec/batch\n",
      "Epoch: 4/20...  Training Step: 13000...  Training loss: 1.7779...  0.0919 sec/batch\n"
     ]
    },
    {
     "data": {
      "text/plain": [
       "'checkpoints/i13000_l128.ckpt'"
      ]
     },
     "execution_count": 50,
     "metadata": {},
     "output_type": "execute_result"
    },
    {
     "name": "stdout",
     "output_type": "stream",
     "text": [
      "Epoch: 4/20...  Training Step: 13050...  Training loss: 1.7979...  0.0888 sec/batch\n",
      "Epoch: 4/20...  Training Step: 13100...  Training loss: 1.6453...  0.0923 sec/batch\n",
      "Epoch: 4/20...  Training Step: 13150...  Training loss: 1.4801...  0.0887 sec/batch\n",
      "Epoch: 4/20...  Training Step: 13200...  Training loss: 1.8215...  0.0892 sec/batch\n"
     ]
    },
    {
     "data": {
      "text/plain": [
       "'checkpoints/i13200_l128.ckpt'"
      ]
     },
     "execution_count": 50,
     "metadata": {},
     "output_type": "execute_result"
    },
    {
     "name": "stdout",
     "output_type": "stream",
     "text": [
      "Epoch: 4/20...  Training Step: 13250...  Training loss: 1.6302...  0.0896 sec/batch\n",
      "Epoch: 4/20...  Training Step: 13300...  Training loss: 1.6554...  0.0889 sec/batch\n",
      "Epoch: 4/20...  Training Step: 13350...  Training loss: 1.6179...  0.0875 sec/batch\n",
      "Epoch: 4/20...  Training Step: 13400...  Training loss: 1.6615...  0.0885 sec/batch\n"
     ]
    },
    {
     "data": {
      "text/plain": [
       "'checkpoints/i13400_l128.ckpt'"
      ]
     },
     "execution_count": 50,
     "metadata": {},
     "output_type": "execute_result"
    },
    {
     "name": "stdout",
     "output_type": "stream",
     "text": [
      "Epoch: 4/20...  Training Step: 13450...  Training loss: 1.7108...  0.0895 sec/batch\n",
      "Epoch: 4/20...  Training Step: 13500...  Training loss: 1.6448...  0.0892 sec/batch\n",
      "Epoch: 4/20...  Training Step: 13550...  Training loss: 1.7320...  0.0886 sec/batch\n",
      "Epoch: 4/20...  Training Step: 13600...  Training loss: 1.6117...  0.0876 sec/batch\n"
     ]
    },
    {
     "data": {
      "text/plain": [
       "'checkpoints/i13600_l128.ckpt'"
      ]
     },
     "execution_count": 50,
     "metadata": {},
     "output_type": "execute_result"
    },
    {
     "name": "stdout",
     "output_type": "stream",
     "text": [
      "Epoch: 4/20...  Training Step: 13650...  Training loss: 1.6041...  0.0883 sec/batch\n",
      "Epoch: 4/20...  Training Step: 13700...  Training loss: 1.5949...  0.0892 sec/batch\n",
      "Epoch: 4/20...  Training Step: 13750...  Training loss: 1.5915...  0.0894 sec/batch\n",
      "Epoch: 4/20...  Training Step: 13800...  Training loss: 1.6728...  0.0881 sec/batch\n"
     ]
    },
    {
     "data": {
      "text/plain": [
       "'checkpoints/i13800_l128.ckpt'"
      ]
     },
     "execution_count": 50,
     "metadata": {},
     "output_type": "execute_result"
    },
    {
     "name": "stdout",
     "output_type": "stream",
     "text": [
      "Epoch: 4/20...  Training Step: 13850...  Training loss: 1.9127...  0.0883 sec/batch\n",
      "Epoch: 4/20...  Training Step: 13900...  Training loss: 1.6305...  0.1035 sec/batch\n",
      "Epoch: 4/20...  Training Step: 13950...  Training loss: 1.6983...  0.0907 sec/batch\n",
      "Epoch: 4/20...  Training Step: 14000...  Training loss: 1.5778...  0.0887 sec/batch\n"
     ]
    },
    {
     "data": {
      "text/plain": [
       "'checkpoints/i14000_l128.ckpt'"
      ]
     },
     "execution_count": 50,
     "metadata": {},
     "output_type": "execute_result"
    },
    {
     "name": "stdout",
     "output_type": "stream",
     "text": [
      "Epoch: 4/20...  Training Step: 14050...  Training loss: 1.6315...  0.0904 sec/batch\n",
      "Epoch: 4/20...  Training Step: 14100...  Training loss: 1.5538...  0.0929 sec/batch\n",
      "Epoch: 4/20...  Training Step: 14150...  Training loss: 1.8413...  0.0882 sec/batch\n",
      "Epoch: 4/20...  Training Step: 14200...  Training loss: 1.6109...  0.0899 sec/batch\n"
     ]
    },
    {
     "data": {
      "text/plain": [
       "'checkpoints/i14200_l128.ckpt'"
      ]
     },
     "execution_count": 50,
     "metadata": {},
     "output_type": "execute_result"
    },
    {
     "name": "stdout",
     "output_type": "stream",
     "text": [
      "Epoch: 4/20...  Training Step: 14250...  Training loss: 1.7217...  0.0901 sec/batch\n",
      "Epoch: 4/20...  Training Step: 14300...  Training loss: 1.6951...  0.0886 sec/batch\n",
      "Epoch: 4/20...  Training Step: 14350...  Training loss: 1.6154...  0.0925 sec/batch\n",
      "Epoch: 4/20...  Training Step: 14400...  Training loss: 1.6338...  0.0952 sec/batch\n"
     ]
    },
    {
     "data": {
      "text/plain": [
       "'checkpoints/i14400_l128.ckpt'"
      ]
     },
     "execution_count": 50,
     "metadata": {},
     "output_type": "execute_result"
    },
    {
     "name": "stdout",
     "output_type": "stream",
     "text": [
      "Epoch: 4/20...  Training Step: 14450...  Training loss: 1.7354...  0.0889 sec/batch\n",
      "Epoch: 4/20...  Training Step: 14500...  Training loss: 1.6507...  0.0905 sec/batch\n",
      "Epoch: 4/20...  Training Step: 14550...  Training loss: 1.5542...  0.0896 sec/batch\n",
      "Epoch: 4/20...  Training Step: 14600...  Training loss: 1.7269...  0.0917 sec/batch\n"
     ]
    },
    {
     "data": {
      "text/plain": [
       "'checkpoints/i14600_l128.ckpt'"
      ]
     },
     "execution_count": 50,
     "metadata": {},
     "output_type": "execute_result"
    },
    {
     "name": "stdout",
     "output_type": "stream",
     "text": [
      "Epoch: 4/20...  Training Step: 14650...  Training loss: 1.5781...  0.0872 sec/batch\n",
      "Epoch: 4/20...  Training Step: 14700...  Training loss: 1.5715...  0.0891 sec/batch\n",
      "Epoch: 4/20...  Training Step: 14750...  Training loss: 1.6220...  0.0912 sec/batch\n",
      "Epoch: 4/20...  Training Step: 14800...  Training loss: 1.4879...  0.0965 sec/batch\n"
     ]
    },
    {
     "data": {
      "text/plain": [
       "'checkpoints/i14800_l128.ckpt'"
      ]
     },
     "execution_count": 50,
     "metadata": {},
     "output_type": "execute_result"
    },
    {
     "name": "stdout",
     "output_type": "stream",
     "text": [
      "Epoch: 4/20...  Training Step: 14850...  Training loss: 1.6419...  0.0969 sec/batch\n",
      "Epoch: 4/20...  Training Step: 14900...  Training loss: 1.6923...  0.0881 sec/batch\n",
      "Epoch: 4/20...  Training Step: 14950...  Training loss: 1.7473...  0.0882 sec/batch\n",
      "Epoch: 4/20...  Training Step: 15000...  Training loss: 1.5982...  0.0989 sec/batch\n"
     ]
    },
    {
     "data": {
      "text/plain": [
       "'checkpoints/i15000_l128.ckpt'"
      ]
     },
     "execution_count": 50,
     "metadata": {},
     "output_type": "execute_result"
    },
    {
     "name": "stdout",
     "output_type": "stream",
     "text": [
      "Epoch: 4/20...  Training Step: 15050...  Training loss: 1.8018...  0.0888 sec/batch\n",
      "Epoch: 4/20...  Training Step: 15100...  Training loss: 1.4963...  0.0953 sec/batch\n",
      "Epoch: 4/20...  Training Step: 15150...  Training loss: 1.5618...  0.0901 sec/batch\n",
      "Epoch: 4/20...  Training Step: 15200...  Training loss: 1.7992...  0.0879 sec/batch\n"
     ]
    },
    {
     "data": {
      "text/plain": [
       "'checkpoints/i15200_l128.ckpt'"
      ]
     },
     "execution_count": 50,
     "metadata": {},
     "output_type": "execute_result"
    },
    {
     "name": "stdout",
     "output_type": "stream",
     "text": [
      "Epoch: 4/20...  Training Step: 15250...  Training loss: 1.6628...  0.0936 sec/batch\n",
      "Epoch: 4/20...  Training Step: 15300...  Training loss: 1.5982...  0.0907 sec/batch\n",
      "Epoch: 4/20...  Training Step: 15350...  Training loss: 1.6979...  0.0891 sec/batch\n",
      "Epoch: 4/20...  Training Step: 15400...  Training loss: 1.7690...  0.0886 sec/batch\n"
     ]
    },
    {
     "data": {
      "text/plain": [
       "'checkpoints/i15400_l128.ckpt'"
      ]
     },
     "execution_count": 50,
     "metadata": {},
     "output_type": "execute_result"
    },
    {
     "name": "stdout",
     "output_type": "stream",
     "text": [
      "Epoch: 4/20...  Training Step: 15450...  Training loss: 1.5511...  0.0893 sec/batch\n",
      "Epoch: 4/20...  Training Step: 15500...  Training loss: 1.6160...  0.0887 sec/batch\n",
      "Epoch: 4/20...  Training Step: 15550...  Training loss: 1.5389...  0.0873 sec/batch\n",
      "Epoch: 4/20...  Training Step: 15600...  Training loss: 1.5735...  0.0884 sec/batch\n"
     ]
    },
    {
     "data": {
      "text/plain": [
       "'checkpoints/i15600_l128.ckpt'"
      ]
     },
     "execution_count": 50,
     "metadata": {},
     "output_type": "execute_result"
    },
    {
     "name": "stdout",
     "output_type": "stream",
     "text": [
      "Epoch: 4/20...  Training Step: 15650...  Training loss: 1.6451...  0.0948 sec/batch\n",
      "Epoch: 4/20...  Training Step: 15700...  Training loss: 1.5765...  0.0896 sec/batch\n",
      "Epoch: 4/20...  Training Step: 15750...  Training loss: 1.7899...  0.0905 sec/batch\n",
      "Epoch: 4/20...  Training Step: 15800...  Training loss: 1.7949...  0.0899 sec/batch\n"
     ]
    },
    {
     "data": {
      "text/plain": [
       "'checkpoints/i15800_l128.ckpt'"
      ]
     },
     "execution_count": 50,
     "metadata": {},
     "output_type": "execute_result"
    },
    {
     "name": "stdout",
     "output_type": "stream",
     "text": [
      "Epoch: 4/20...  Training Step: 15850...  Training loss: 1.6283...  0.0857 sec/batch\n",
      "3970\n",
      "(1985000,)\n",
      "(10, 198500)\n",
      "Epoch: 5/20...  Training Step: 15900...  Training loss: 1.7419...  0.0892 sec/batch\n",
      "Epoch: 5/20...  Training Step: 15950...  Training loss: 1.6728...  0.0891 sec/batch\n",
      "Epoch: 5/20...  Training Step: 16000...  Training loss: 1.5312...  0.0913 sec/batch\n"
     ]
    },
    {
     "data": {
      "text/plain": [
       "'checkpoints/i16000_l128.ckpt'"
      ]
     },
     "execution_count": 50,
     "metadata": {},
     "output_type": "execute_result"
    },
    {
     "name": "stdout",
     "output_type": "stream",
     "text": [
      "Epoch: 5/20...  Training Step: 16050...  Training loss: 1.6343...  0.0880 sec/batch\n",
      "Epoch: 5/20...  Training Step: 16100...  Training loss: 1.6286...  0.0872 sec/batch\n",
      "Epoch: 5/20...  Training Step: 16150...  Training loss: 1.7182...  0.0910 sec/batch\n",
      "Epoch: 5/20...  Training Step: 16200...  Training loss: 1.6816...  0.0871 sec/batch\n"
     ]
    },
    {
     "data": {
      "text/plain": [
       "'checkpoints/i16200_l128.ckpt'"
      ]
     },
     "execution_count": 50,
     "metadata": {},
     "output_type": "execute_result"
    },
    {
     "name": "stdout",
     "output_type": "stream",
     "text": [
      "Epoch: 5/20...  Training Step: 16250...  Training loss: 1.6533...  0.0896 sec/batch\n",
      "Epoch: 5/20...  Training Step: 16300...  Training loss: 1.6660...  0.0890 sec/batch\n",
      "Epoch: 5/20...  Training Step: 16350...  Training loss: 1.6799...  0.0933 sec/batch\n",
      "Epoch: 5/20...  Training Step: 16400...  Training loss: 1.6001...  0.0903 sec/batch\n"
     ]
    },
    {
     "data": {
      "text/plain": [
       "'checkpoints/i16400_l128.ckpt'"
      ]
     },
     "execution_count": 50,
     "metadata": {},
     "output_type": "execute_result"
    },
    {
     "name": "stdout",
     "output_type": "stream",
     "text": [
      "Epoch: 5/20...  Training Step: 16450...  Training loss: 1.6533...  0.0875 sec/batch\n",
      "Epoch: 5/20...  Training Step: 16500...  Training loss: 1.4724...  0.0946 sec/batch\n",
      "Epoch: 5/20...  Training Step: 16550...  Training loss: 1.7251...  0.0896 sec/batch\n",
      "Epoch: 5/20...  Training Step: 16600...  Training loss: 1.6438...  0.0908 sec/batch\n"
     ]
    },
    {
     "data": {
      "text/plain": [
       "'checkpoints/i16600_l128.ckpt'"
      ]
     },
     "execution_count": 50,
     "metadata": {},
     "output_type": "execute_result"
    },
    {
     "name": "stdout",
     "output_type": "stream",
     "text": [
      "Epoch: 5/20...  Training Step: 16650...  Training loss: 1.6143...  0.0881 sec/batch\n",
      "Epoch: 5/20...  Training Step: 16700...  Training loss: 1.6961...  0.0878 sec/batch\n",
      "Epoch: 5/20...  Training Step: 16750...  Training loss: 1.7158...  0.0899 sec/batch\n",
      "Epoch: 5/20...  Training Step: 16800...  Training loss: 1.5005...  0.0892 sec/batch\n"
     ]
    },
    {
     "data": {
      "text/plain": [
       "'checkpoints/i16800_l128.ckpt'"
      ]
     },
     "execution_count": 50,
     "metadata": {},
     "output_type": "execute_result"
    },
    {
     "name": "stdout",
     "output_type": "stream",
     "text": [
      "Epoch: 5/20...  Training Step: 16850...  Training loss: 1.5102...  0.0879 sec/batch\n",
      "Epoch: 5/20...  Training Step: 16900...  Training loss: 1.4722...  0.0888 sec/batch\n",
      "Epoch: 5/20...  Training Step: 16950...  Training loss: 1.5624...  0.0901 sec/batch\n",
      "Epoch: 5/20...  Training Step: 17000...  Training loss: 1.4163...  0.0874 sec/batch\n"
     ]
    },
    {
     "data": {
      "text/plain": [
       "'checkpoints/i17000_l128.ckpt'"
      ]
     },
     "execution_count": 50,
     "metadata": {},
     "output_type": "execute_result"
    },
    {
     "name": "stdout",
     "output_type": "stream",
     "text": [
      "Epoch: 5/20...  Training Step: 17050...  Training loss: 1.5267...  0.0870 sec/batch\n",
      "Epoch: 5/20...  Training Step: 17100...  Training loss: 1.5167...  0.0888 sec/batch\n",
      "Epoch: 5/20...  Training Step: 17150...  Training loss: 1.5845...  0.0928 sec/batch\n",
      "Epoch: 5/20...  Training Step: 17200...  Training loss: 1.6541...  0.0862 sec/batch\n"
     ]
    },
    {
     "data": {
      "text/plain": [
       "'checkpoints/i17200_l128.ckpt'"
      ]
     },
     "execution_count": 50,
     "metadata": {},
     "output_type": "execute_result"
    },
    {
     "name": "stdout",
     "output_type": "stream",
     "text": [
      "Epoch: 5/20...  Training Step: 17250...  Training loss: 1.6104...  0.0900 sec/batch\n",
      "Epoch: 5/20...  Training Step: 17300...  Training loss: 1.6397...  0.0890 sec/batch\n",
      "Epoch: 5/20...  Training Step: 17350...  Training loss: 1.5729...  0.0892 sec/batch\n",
      "Epoch: 5/20...  Training Step: 17400...  Training loss: 1.5954...  0.0871 sec/batch\n"
     ]
    },
    {
     "data": {
      "text/plain": [
       "'checkpoints/i17400_l128.ckpt'"
      ]
     },
     "execution_count": 50,
     "metadata": {},
     "output_type": "execute_result"
    },
    {
     "name": "stdout",
     "output_type": "stream",
     "text": [
      "Epoch: 5/20...  Training Step: 17450...  Training loss: 1.6606...  0.0861 sec/batch\n",
      "Epoch: 5/20...  Training Step: 17500...  Training loss: 1.7067...  0.0869 sec/batch\n",
      "Epoch: 5/20...  Training Step: 17550...  Training loss: 1.7819...  0.0980 sec/batch\n",
      "Epoch: 5/20...  Training Step: 17600...  Training loss: 1.5974...  0.0905 sec/batch\n"
     ]
    },
    {
     "data": {
      "text/plain": [
       "'checkpoints/i17600_l128.ckpt'"
      ]
     },
     "execution_count": 50,
     "metadata": {},
     "output_type": "execute_result"
    },
    {
     "name": "stdout",
     "output_type": "stream",
     "text": [
      "Epoch: 5/20...  Training Step: 17650...  Training loss: 1.6596...  0.0898 sec/batch\n",
      "Epoch: 5/20...  Training Step: 17700...  Training loss: 1.6145...  0.0871 sec/batch\n",
      "Epoch: 5/20...  Training Step: 17750...  Training loss: 1.4449...  0.0892 sec/batch\n",
      "Epoch: 5/20...  Training Step: 17800...  Training loss: 1.5905...  0.0880 sec/batch\n"
     ]
    },
    {
     "data": {
      "text/plain": [
       "'checkpoints/i17800_l128.ckpt'"
      ]
     },
     "execution_count": 50,
     "metadata": {},
     "output_type": "execute_result"
    },
    {
     "name": "stdout",
     "output_type": "stream",
     "text": [
      "Epoch: 5/20...  Training Step: 17850...  Training loss: 1.6675...  0.0899 sec/batch\n",
      "Epoch: 5/20...  Training Step: 17900...  Training loss: 1.4805...  0.0862 sec/batch\n",
      "Epoch: 5/20...  Training Step: 17950...  Training loss: 1.4926...  0.0880 sec/batch\n",
      "Epoch: 5/20...  Training Step: 18000...  Training loss: 1.4022...  0.0899 sec/batch\n"
     ]
    },
    {
     "data": {
      "text/plain": [
       "'checkpoints/i18000_l128.ckpt'"
      ]
     },
     "execution_count": 50,
     "metadata": {},
     "output_type": "execute_result"
    },
    {
     "name": "stdout",
     "output_type": "stream",
     "text": [
      "Epoch: 5/20...  Training Step: 18050...  Training loss: 1.5153...  0.0896 sec/batch\n",
      "Epoch: 5/20...  Training Step: 18100...  Training loss: 1.6476...  0.0925 sec/batch\n",
      "Epoch: 5/20...  Training Step: 18150...  Training loss: 1.5625...  0.0931 sec/batch\n",
      "Epoch: 5/20...  Training Step: 18200...  Training loss: 1.5088...  0.0886 sec/batch\n"
     ]
    },
    {
     "data": {
      "text/plain": [
       "'checkpoints/i18200_l128.ckpt'"
      ]
     },
     "execution_count": 50,
     "metadata": {},
     "output_type": "execute_result"
    },
    {
     "name": "stdout",
     "output_type": "stream",
     "text": [
      "Epoch: 5/20...  Training Step: 18250...  Training loss: 1.5032...  0.0887 sec/batch\n",
      "Epoch: 5/20...  Training Step: 18300...  Training loss: 1.7777...  0.0973 sec/batch\n",
      "Epoch: 5/20...  Training Step: 18350...  Training loss: 1.5809...  0.1156 sec/batch\n",
      "Epoch: 5/20...  Training Step: 18400...  Training loss: 1.6867...  0.0874 sec/batch\n"
     ]
    },
    {
     "data": {
      "text/plain": [
       "'checkpoints/i18400_l128.ckpt'"
      ]
     },
     "execution_count": 50,
     "metadata": {},
     "output_type": "execute_result"
    },
    {
     "name": "stdout",
     "output_type": "stream",
     "text": [
      "Epoch: 5/20...  Training Step: 18450...  Training loss: 1.5380...  0.0882 sec/batch\n",
      "Epoch: 5/20...  Training Step: 18500...  Training loss: 1.4419...  0.0888 sec/batch\n",
      "Epoch: 5/20...  Training Step: 18550...  Training loss: 1.5774...  0.0897 sec/batch\n",
      "Epoch: 5/20...  Training Step: 18600...  Training loss: 1.5064...  0.0900 sec/batch\n"
     ]
    },
    {
     "data": {
      "text/plain": [
       "'checkpoints/i18600_l128.ckpt'"
      ]
     },
     "execution_count": 50,
     "metadata": {},
     "output_type": "execute_result"
    },
    {
     "name": "stdout",
     "output_type": "stream",
     "text": [
      "Epoch: 5/20...  Training Step: 18650...  Training loss: 1.6973...  0.0888 sec/batch\n",
      "Epoch: 5/20...  Training Step: 18700...  Training loss: 1.7446...  0.0934 sec/batch\n",
      "Epoch: 5/20...  Training Step: 18750...  Training loss: 1.5479...  0.0903 sec/batch\n",
      "Epoch: 5/20...  Training Step: 18800...  Training loss: 1.7497...  0.0883 sec/batch\n"
     ]
    },
    {
     "data": {
      "text/plain": [
       "'checkpoints/i18800_l128.ckpt'"
      ]
     },
     "execution_count": 50,
     "metadata": {},
     "output_type": "execute_result"
    },
    {
     "name": "stdout",
     "output_type": "stream",
     "text": [
      "Epoch: 5/20...  Training Step: 18850...  Training loss: 1.5033...  0.0875 sec/batch\n",
      "Epoch: 5/20...  Training Step: 18900...  Training loss: 1.6933...  0.0897 sec/batch\n",
      "Epoch: 5/20...  Training Step: 18950...  Training loss: 1.5567...  0.0903 sec/batch\n",
      "Epoch: 5/20...  Training Step: 19000...  Training loss: 1.5444...  0.0889 sec/batch\n"
     ]
    },
    {
     "data": {
      "text/plain": [
       "'checkpoints/i19000_l128.ckpt'"
      ]
     },
     "execution_count": 50,
     "metadata": {},
     "output_type": "execute_result"
    },
    {
     "name": "stdout",
     "output_type": "stream",
     "text": [
      "Epoch: 5/20...  Training Step: 19050...  Training loss: 1.6584...  0.0914 sec/batch\n",
      "Epoch: 5/20...  Training Step: 19100...  Training loss: 1.5629...  0.0895 sec/batch\n",
      "Epoch: 5/20...  Training Step: 19150...  Training loss: 1.6907...  0.0888 sec/batch\n",
      "Epoch: 5/20...  Training Step: 19200...  Training loss: 1.6046...  0.0953 sec/batch\n"
     ]
    },
    {
     "data": {
      "text/plain": [
       "'checkpoints/i19200_l128.ckpt'"
      ]
     },
     "execution_count": 50,
     "metadata": {},
     "output_type": "execute_result"
    },
    {
     "name": "stdout",
     "output_type": "stream",
     "text": [
      "Epoch: 5/20...  Training Step: 19250...  Training loss: 1.5603...  0.0957 sec/batch\n",
      "Epoch: 5/20...  Training Step: 19300...  Training loss: 1.7823...  0.0906 sec/batch\n",
      "Epoch: 5/20...  Training Step: 19350...  Training loss: 1.6101...  0.0901 sec/batch\n",
      "Epoch: 5/20...  Training Step: 19400...  Training loss: 1.5710...  0.0897 sec/batch\n"
     ]
    },
    {
     "data": {
      "text/plain": [
       "'checkpoints/i19400_l128.ckpt'"
      ]
     },
     "execution_count": 50,
     "metadata": {},
     "output_type": "execute_result"
    },
    {
     "name": "stdout",
     "output_type": "stream",
     "text": [
      "Epoch: 5/20...  Training Step: 19450...  Training loss: 1.3210...  0.1006 sec/batch\n",
      "Epoch: 5/20...  Training Step: 19500...  Training loss: 1.5368...  0.0901 sec/batch\n",
      "Epoch: 5/20...  Training Step: 19550...  Training loss: 1.6789...  0.0881 sec/batch\n",
      "Epoch: 5/20...  Training Step: 19600...  Training loss: 1.6103...  0.0876 sec/batch\n"
     ]
    },
    {
     "data": {
      "text/plain": [
       "'checkpoints/i19600_l128.ckpt'"
      ]
     },
     "execution_count": 50,
     "metadata": {},
     "output_type": "execute_result"
    },
    {
     "name": "stdout",
     "output_type": "stream",
     "text": [
      "Epoch: 5/20...  Training Step: 19650...  Training loss: 1.6037...  0.0898 sec/batch\n",
      "Epoch: 5/20...  Training Step: 19700...  Training loss: 1.9650...  0.0866 sec/batch\n",
      "Epoch: 5/20...  Training Step: 19750...  Training loss: 1.6474...  0.0910 sec/batch\n",
      "Epoch: 5/20...  Training Step: 19800...  Training loss: 1.9446...  0.1003 sec/batch\n"
     ]
    },
    {
     "data": {
      "text/plain": [
       "'checkpoints/i19800_l128.ckpt'"
      ]
     },
     "execution_count": 50,
     "metadata": {},
     "output_type": "execute_result"
    },
    {
     "name": "stdout",
     "output_type": "stream",
     "text": [
      "Epoch: 5/20...  Training Step: 19850...  Training loss: 1.9857...  0.0885 sec/batch\n",
      "3970\n",
      "(1985000,)\n",
      "(10, 198500)\n",
      "Epoch: 6/20...  Training Step: 19900...  Training loss: 1.7018...  0.0935 sec/batch\n",
      "Epoch: 6/20...  Training Step: 19950...  Training loss: 1.5654...  0.0912 sec/batch\n",
      "Epoch: 6/20...  Training Step: 20000...  Training loss: 1.4166...  0.0903 sec/batch\n"
     ]
    },
    {
     "data": {
      "text/plain": [
       "'checkpoints/i20000_l128.ckpt'"
      ]
     },
     "execution_count": 50,
     "metadata": {},
     "output_type": "execute_result"
    },
    {
     "name": "stdout",
     "output_type": "stream",
     "text": [
      "Epoch: 6/20...  Training Step: 20050...  Training loss: 1.6293...  0.0874 sec/batch\n",
      "Epoch: 6/20...  Training Step: 20100...  Training loss: 1.5714...  0.0902 sec/batch\n",
      "Epoch: 6/20...  Training Step: 20150...  Training loss: 1.4932...  0.0875 sec/batch\n",
      "Epoch: 6/20...  Training Step: 20200...  Training loss: 1.5702...  0.0915 sec/batch\n"
     ]
    },
    {
     "data": {
      "text/plain": [
       "'checkpoints/i20200_l128.ckpt'"
      ]
     },
     "execution_count": 50,
     "metadata": {},
     "output_type": "execute_result"
    },
    {
     "name": "stdout",
     "output_type": "stream",
     "text": [
      "Epoch: 6/20...  Training Step: 20250...  Training loss: 1.6231...  0.0879 sec/batch\n",
      "Epoch: 6/20...  Training Step: 20300...  Training loss: 1.6468...  0.0890 sec/batch\n",
      "Epoch: 6/20...  Training Step: 20350...  Training loss: 1.6314...  0.0885 sec/batch\n",
      "Epoch: 6/20...  Training Step: 20400...  Training loss: 1.4409...  0.0885 sec/batch\n"
     ]
    },
    {
     "data": {
      "text/plain": [
       "'checkpoints/i20400_l128.ckpt'"
      ]
     },
     "execution_count": 50,
     "metadata": {},
     "output_type": "execute_result"
    },
    {
     "name": "stdout",
     "output_type": "stream",
     "text": [
      "Epoch: 6/20...  Training Step: 20450...  Training loss: 1.4913...  0.0872 sec/batch\n",
      "Epoch: 6/20...  Training Step: 20500...  Training loss: 1.3814...  0.0889 sec/batch\n",
      "Epoch: 6/20...  Training Step: 20550...  Training loss: 1.4903...  0.0891 sec/batch\n",
      "Epoch: 6/20...  Training Step: 20600...  Training loss: 1.5879...  0.0928 sec/batch\n"
     ]
    },
    {
     "data": {
      "text/plain": [
       "'checkpoints/i20600_l128.ckpt'"
      ]
     },
     "execution_count": 50,
     "metadata": {},
     "output_type": "execute_result"
    },
    {
     "name": "stdout",
     "output_type": "stream",
     "text": [
      "Epoch: 6/20...  Training Step: 20650...  Training loss: 1.5701...  0.0877 sec/batch\n",
      "Epoch: 6/20...  Training Step: 20700...  Training loss: 1.7076...  0.0895 sec/batch\n",
      "Epoch: 6/20...  Training Step: 20750...  Training loss: 1.6522...  0.0893 sec/batch\n",
      "Epoch: 6/20...  Training Step: 20800...  Training loss: 1.6477...  0.0890 sec/batch\n"
     ]
    },
    {
     "data": {
      "text/plain": [
       "'checkpoints/i20800_l128.ckpt'"
      ]
     },
     "execution_count": 50,
     "metadata": {},
     "output_type": "execute_result"
    },
    {
     "name": "stdout",
     "output_type": "stream",
     "text": [
      "Epoch: 6/20...  Training Step: 20850...  Training loss: 1.6803...  0.0965 sec/batch\n",
      "Epoch: 6/20...  Training Step: 20900...  Training loss: 1.6192...  0.0945 sec/batch\n",
      "Epoch: 6/20...  Training Step: 20950...  Training loss: 1.5486...  0.0895 sec/batch\n",
      "Epoch: 6/20...  Training Step: 21000...  Training loss: 1.5464...  0.0931 sec/batch\n"
     ]
    },
    {
     "data": {
      "text/plain": [
       "'checkpoints/i21000_l128.ckpt'"
      ]
     },
     "execution_count": 50,
     "metadata": {},
     "output_type": "execute_result"
    },
    {
     "name": "stdout",
     "output_type": "stream",
     "text": [
      "Epoch: 6/20...  Training Step: 21050...  Training loss: 1.5429...  0.0944 sec/batch\n",
      "Epoch: 6/20...  Training Step: 21100...  Training loss: 1.3843...  0.0903 sec/batch\n",
      "Epoch: 6/20...  Training Step: 21150...  Training loss: 1.5423...  0.0950 sec/batch\n",
      "Epoch: 6/20...  Training Step: 21200...  Training loss: 1.4975...  0.0930 sec/batch\n"
     ]
    },
    {
     "data": {
      "text/plain": [
       "'checkpoints/i21200_l128.ckpt'"
      ]
     },
     "execution_count": 50,
     "metadata": {},
     "output_type": "execute_result"
    },
    {
     "name": "stdout",
     "output_type": "stream",
     "text": [
      "Epoch: 6/20...  Training Step: 21250...  Training loss: 1.6969...  0.0871 sec/batch\n",
      "Epoch: 6/20...  Training Step: 21300...  Training loss: 1.5979...  0.0885 sec/batch\n",
      "Epoch: 6/20...  Training Step: 21350...  Training loss: 1.6694...  0.0899 sec/batch\n",
      "Epoch: 6/20...  Training Step: 21400...  Training loss: 1.5056...  0.0872 sec/batch\n"
     ]
    },
    {
     "data": {
      "text/plain": [
       "'checkpoints/i21400_l128.ckpt'"
      ]
     },
     "execution_count": 50,
     "metadata": {},
     "output_type": "execute_result"
    },
    {
     "name": "stdout",
     "output_type": "stream",
     "text": [
      "Epoch: 6/20...  Training Step: 21450...  Training loss: 1.5982...  0.0890 sec/batch\n",
      "Epoch: 6/20...  Training Step: 21500...  Training loss: 1.5303...  0.0909 sec/batch\n",
      "Epoch: 6/20...  Training Step: 21550...  Training loss: 1.6219...  0.0890 sec/batch\n",
      "Epoch: 6/20...  Training Step: 21600...  Training loss: 1.5802...  0.0873 sec/batch\n"
     ]
    },
    {
     "data": {
      "text/plain": [
       "'checkpoints/i21600_l128.ckpt'"
      ]
     },
     "execution_count": 50,
     "metadata": {},
     "output_type": "execute_result"
    },
    {
     "name": "stdout",
     "output_type": "stream",
     "text": [
      "Epoch: 6/20...  Training Step: 21650...  Training loss: 1.6637...  0.0901 sec/batch\n",
      "Epoch: 6/20...  Training Step: 21700...  Training loss: 1.6795...  0.0879 sec/batch\n",
      "Epoch: 6/20...  Training Step: 21750...  Training loss: 1.4091...  0.0894 sec/batch\n",
      "Epoch: 6/20...  Training Step: 21800...  Training loss: 1.5379...  0.0889 sec/batch\n"
     ]
    },
    {
     "data": {
      "text/plain": [
       "'checkpoints/i21800_l128.ckpt'"
      ]
     },
     "execution_count": 50,
     "metadata": {},
     "output_type": "execute_result"
    },
    {
     "name": "stdout",
     "output_type": "stream",
     "text": [
      "Epoch: 6/20...  Training Step: 21850...  Training loss: 1.6086...  0.0994 sec/batch\n",
      "Epoch: 6/20...  Training Step: 21900...  Training loss: 1.7164...  0.0889 sec/batch\n",
      "Epoch: 6/20...  Training Step: 21950...  Training loss: 1.6500...  0.0991 sec/batch\n",
      "Epoch: 6/20...  Training Step: 22000...  Training loss: 1.5790...  0.0919 sec/batch\n"
     ]
    },
    {
     "data": {
      "text/plain": [
       "'checkpoints/i22000_l128.ckpt'"
      ]
     },
     "execution_count": 50,
     "metadata": {},
     "output_type": "execute_result"
    },
    {
     "name": "stdout",
     "output_type": "stream",
     "text": [
      "Epoch: 6/20...  Training Step: 22050...  Training loss: 1.6254...  0.0875 sec/batch\n",
      "Epoch: 6/20...  Training Step: 22100...  Training loss: 1.6009...  0.0898 sec/batch\n",
      "Epoch: 6/20...  Training Step: 22150...  Training loss: 1.5495...  0.0931 sec/batch\n",
      "Epoch: 6/20...  Training Step: 22200...  Training loss: 1.7127...  0.0883 sec/batch\n"
     ]
    },
    {
     "data": {
      "text/plain": [
       "'checkpoints/i22200_l128.ckpt'"
      ]
     },
     "execution_count": 50,
     "metadata": {},
     "output_type": "execute_result"
    },
    {
     "name": "stdout",
     "output_type": "stream",
     "text": [
      "Epoch: 6/20...  Training Step: 22250...  Training loss: 1.6928...  0.0899 sec/batch\n",
      "Epoch: 6/20...  Training Step: 22300...  Training loss: 1.6656...  0.0860 sec/batch\n",
      "Epoch: 6/20...  Training Step: 22350...  Training loss: 1.5570...  0.0878 sec/batch\n",
      "Epoch: 6/20...  Training Step: 22400...  Training loss: 1.6019...  0.0901 sec/batch\n"
     ]
    },
    {
     "data": {
      "text/plain": [
       "'checkpoints/i22400_l128.ckpt'"
      ]
     },
     "execution_count": 50,
     "metadata": {},
     "output_type": "execute_result"
    },
    {
     "name": "stdout",
     "output_type": "stream",
     "text": [
      "Epoch: 6/20...  Training Step: 22450...  Training loss: 1.5451...  0.0926 sec/batch\n",
      "Epoch: 6/20...  Training Step: 22500...  Training loss: 1.7170...  0.0916 sec/batch\n",
      "Epoch: 6/20...  Training Step: 22550...  Training loss: 1.6882...  0.0932 sec/batch\n",
      "Epoch: 6/20...  Training Step: 22600...  Training loss: 1.5265...  0.0886 sec/batch\n"
     ]
    },
    {
     "data": {
      "text/plain": [
       "'checkpoints/i22600_l128.ckpt'"
      ]
     },
     "execution_count": 50,
     "metadata": {},
     "output_type": "execute_result"
    },
    {
     "name": "stdout",
     "output_type": "stream",
     "text": [
      "Epoch: 6/20...  Training Step: 22650...  Training loss: 1.4650...  0.0916 sec/batch\n",
      "Epoch: 6/20...  Training Step: 22700...  Training loss: 1.7223...  0.0899 sec/batch\n",
      "Epoch: 6/20...  Training Step: 22750...  Training loss: 1.4155...  0.0891 sec/batch\n",
      "Epoch: 6/20...  Training Step: 22800...  Training loss: 1.3760...  0.0936 sec/batch\n"
     ]
    },
    {
     "data": {
      "text/plain": [
       "'checkpoints/i22800_l128.ckpt'"
      ]
     },
     "execution_count": 50,
     "metadata": {},
     "output_type": "execute_result"
    },
    {
     "name": "stdout",
     "output_type": "stream",
     "text": [
      "Epoch: 6/20...  Training Step: 22850...  Training loss: 1.5544...  0.0917 sec/batch\n",
      "Epoch: 6/20...  Training Step: 22900...  Training loss: 1.7427...  0.0892 sec/batch\n",
      "Epoch: 6/20...  Training Step: 22950...  Training loss: 1.5330...  0.0896 sec/batch\n",
      "Epoch: 6/20...  Training Step: 23000...  Training loss: 1.4986...  0.0938 sec/batch\n"
     ]
    },
    {
     "data": {
      "text/plain": [
       "'checkpoints/i23000_l128.ckpt'"
      ]
     },
     "execution_count": 50,
     "metadata": {},
     "output_type": "execute_result"
    },
    {
     "name": "stdout",
     "output_type": "stream",
     "text": [
      "Epoch: 6/20...  Training Step: 23050...  Training loss: 1.6911...  0.0887 sec/batch\n",
      "Epoch: 6/20...  Training Step: 23100...  Training loss: 1.6091...  0.0938 sec/batch\n",
      "Epoch: 6/20...  Training Step: 23150...  Training loss: 1.6319...  0.0931 sec/batch\n",
      "Epoch: 6/20...  Training Step: 23200...  Training loss: 1.4663...  0.0892 sec/batch\n"
     ]
    },
    {
     "data": {
      "text/plain": [
       "'checkpoints/i23200_l128.ckpt'"
      ]
     },
     "execution_count": 50,
     "metadata": {},
     "output_type": "execute_result"
    },
    {
     "name": "stdout",
     "output_type": "stream",
     "text": [
      "Epoch: 6/20...  Training Step: 23250...  Training loss: 1.5395...  0.0886 sec/batch\n",
      "Epoch: 6/20...  Training Step: 23300...  Training loss: 1.5183...  0.0889 sec/batch\n",
      "Epoch: 6/20...  Training Step: 23350...  Training loss: 1.5357...  0.0899 sec/batch\n",
      "Epoch: 6/20...  Training Step: 23400...  Training loss: 1.6653...  0.0909 sec/batch\n"
     ]
    },
    {
     "data": {
      "text/plain": [
       "'checkpoints/i23400_l128.ckpt'"
      ]
     },
     "execution_count": 50,
     "metadata": {},
     "output_type": "execute_result"
    },
    {
     "name": "stdout",
     "output_type": "stream",
     "text": [
      "Epoch: 6/20...  Training Step: 23450...  Training loss: 1.5931...  0.0903 sec/batch\n",
      "Epoch: 6/20...  Training Step: 23500...  Training loss: 1.7091...  0.1057 sec/batch\n",
      "Epoch: 6/20...  Training Step: 23550...  Training loss: 1.5318...  0.0896 sec/batch\n",
      "Epoch: 6/20...  Training Step: 23600...  Training loss: 1.6914...  0.0910 sec/batch\n"
     ]
    },
    {
     "data": {
      "text/plain": [
       "'checkpoints/i23600_l128.ckpt'"
      ]
     },
     "execution_count": 50,
     "metadata": {},
     "output_type": "execute_result"
    },
    {
     "name": "stdout",
     "output_type": "stream",
     "text": [
      "Epoch: 6/20...  Training Step: 23650...  Training loss: 1.5803...  0.0892 sec/batch\n",
      "Epoch: 6/20...  Training Step: 23700...  Training loss: 1.5294...  0.0886 sec/batch\n",
      "Epoch: 6/20...  Training Step: 23750...  Training loss: 1.7464...  0.0921 sec/batch\n",
      "Epoch: 6/20...  Training Step: 23800...  Training loss: 1.5233...  0.0870 sec/batch\n"
     ]
    },
    {
     "data": {
      "text/plain": [
       "'checkpoints/i23800_l128.ckpt'"
      ]
     },
     "execution_count": 50,
     "metadata": {},
     "output_type": "execute_result"
    },
    {
     "name": "stdout",
     "output_type": "stream",
     "text": [
      "3970\n",
      "(1985000,)\n",
      "(10, 198500)\n",
      "Epoch: 7/20...  Training Step: 23850...  Training loss: 1.6098...  0.0888 sec/batch\n",
      "Epoch: 7/20...  Training Step: 23900...  Training loss: 1.5899...  0.0891 sec/batch\n",
      "Epoch: 7/20...  Training Step: 23950...  Training loss: 1.4807...  0.0880 sec/batch\n",
      "Epoch: 7/20...  Training Step: 24000...  Training loss: 1.4509...  0.0889 sec/batch\n"
     ]
    },
    {
     "data": {
      "text/plain": [
       "'checkpoints/i24000_l128.ckpt'"
      ]
     },
     "execution_count": 50,
     "metadata": {},
     "output_type": "execute_result"
    },
    {
     "name": "stdout",
     "output_type": "stream",
     "text": [
      "Epoch: 7/20...  Training Step: 24050...  Training loss: 1.5571...  0.0879 sec/batch\n",
      "Epoch: 7/20...  Training Step: 24100...  Training loss: 1.6447...  0.0907 sec/batch\n",
      "Epoch: 7/20...  Training Step: 24150...  Training loss: 1.6435...  0.0897 sec/batch\n",
      "Epoch: 7/20...  Training Step: 24200...  Training loss: 1.5997...  0.0880 sec/batch\n"
     ]
    },
    {
     "data": {
      "text/plain": [
       "'checkpoints/i24200_l128.ckpt'"
      ]
     },
     "execution_count": 50,
     "metadata": {},
     "output_type": "execute_result"
    },
    {
     "name": "stdout",
     "output_type": "stream",
     "text": [
      "Epoch: 7/20...  Training Step: 24250...  Training loss: 1.5607...  0.0889 sec/batch\n",
      "Epoch: 7/20...  Training Step: 24300...  Training loss: 1.6469...  0.0956 sec/batch\n",
      "Epoch: 7/20...  Training Step: 24350...  Training loss: 1.5666...  0.0888 sec/batch\n",
      "Epoch: 7/20...  Training Step: 24400...  Training loss: 1.7260...  0.0909 sec/batch\n"
     ]
    },
    {
     "data": {
      "text/plain": [
       "'checkpoints/i24400_l128.ckpt'"
      ]
     },
     "execution_count": 50,
     "metadata": {},
     "output_type": "execute_result"
    },
    {
     "name": "stdout",
     "output_type": "stream",
     "text": [
      "Epoch: 7/20...  Training Step: 24450...  Training loss: 1.6488...  0.1194 sec/batch\n",
      "Epoch: 7/20...  Training Step: 24500...  Training loss: 1.7401...  0.0875 sec/batch\n",
      "Epoch: 7/20...  Training Step: 24550...  Training loss: 1.5682...  0.0909 sec/batch\n",
      "Epoch: 7/20...  Training Step: 24600...  Training loss: 1.6551...  0.0876 sec/batch\n"
     ]
    },
    {
     "data": {
      "text/plain": [
       "'checkpoints/i24600_l128.ckpt'"
      ]
     },
     "execution_count": 50,
     "metadata": {},
     "output_type": "execute_result"
    },
    {
     "name": "stdout",
     "output_type": "stream",
     "text": [
      "Epoch: 7/20...  Training Step: 24650...  Training loss: 1.5430...  0.1113 sec/batch\n",
      "Epoch: 7/20...  Training Step: 24700...  Training loss: 1.5348...  0.1013 sec/batch\n",
      "Epoch: 7/20...  Training Step: 24750...  Training loss: 1.5781...  0.1108 sec/batch\n",
      "Epoch: 7/20...  Training Step: 24800...  Training loss: 1.5124...  0.1215 sec/batch\n"
     ]
    },
    {
     "data": {
      "text/plain": [
       "'checkpoints/i24800_l128.ckpt'"
      ]
     },
     "execution_count": 50,
     "metadata": {},
     "output_type": "execute_result"
    },
    {
     "name": "stdout",
     "output_type": "stream",
     "text": [
      "Epoch: 7/20...  Training Step: 24850...  Training loss: 1.5915...  0.0862 sec/batch\n",
      "Epoch: 7/20...  Training Step: 24900...  Training loss: 1.4779...  0.1064 sec/batch\n",
      "Epoch: 7/20...  Training Step: 24950...  Training loss: 1.4402...  0.1301 sec/batch\n",
      "Epoch: 7/20...  Training Step: 25000...  Training loss: 1.5813...  0.0982 sec/batch\n"
     ]
    },
    {
     "data": {
      "text/plain": [
       "'checkpoints/i25000_l128.ckpt'"
      ]
     },
     "execution_count": 50,
     "metadata": {},
     "output_type": "execute_result"
    },
    {
     "name": "stdout",
     "output_type": "stream",
     "text": [
      "Epoch: 7/20...  Training Step: 25050...  Training loss: 1.6800...  0.2558 sec/batch\n",
      "Epoch: 7/20...  Training Step: 25100...  Training loss: 1.4798...  0.0812 sec/batch\n",
      "Epoch: 7/20...  Training Step: 25150...  Training loss: 1.6728...  0.2126 sec/batch\n",
      "Epoch: 7/20...  Training Step: 25200...  Training loss: 1.5679...  0.0897 sec/batch\n"
     ]
    },
    {
     "data": {
      "text/plain": [
       "'checkpoints/i25200_l128.ckpt'"
      ]
     },
     "execution_count": 50,
     "metadata": {},
     "output_type": "execute_result"
    },
    {
     "name": "stdout",
     "output_type": "stream",
     "text": [
      "Epoch: 7/20...  Training Step: 25250...  Training loss: 1.6956...  0.2128 sec/batch\n",
      "Epoch: 7/20...  Training Step: 25300...  Training loss: 1.6109...  0.2192 sec/batch\n",
      "Epoch: 7/20...  Training Step: 25350...  Training loss: 1.6393...  0.0914 sec/batch\n",
      "Epoch: 7/20...  Training Step: 25400...  Training loss: 1.5591...  0.2085 sec/batch\n"
     ]
    },
    {
     "data": {
      "text/plain": [
       "'checkpoints/i25400_l128.ckpt'"
      ]
     },
     "execution_count": 50,
     "metadata": {},
     "output_type": "execute_result"
    },
    {
     "name": "stdout",
     "output_type": "stream",
     "text": [
      "Epoch: 7/20...  Training Step: 25450...  Training loss: 1.6274...  0.0824 sec/batch\n",
      "Epoch: 7/20...  Training Step: 25500...  Training loss: 1.5048...  0.2054 sec/batch\n",
      "Epoch: 7/20...  Training Step: 25550...  Training loss: 1.4511...  0.0813 sec/batch\n",
      "Epoch: 7/20...  Training Step: 25600...  Training loss: 1.4917...  0.1748 sec/batch\n"
     ]
    },
    {
     "data": {
      "text/plain": [
       "'checkpoints/i25600_l128.ckpt'"
      ]
     },
     "execution_count": 50,
     "metadata": {},
     "output_type": "execute_result"
    },
    {
     "name": "stdout",
     "output_type": "stream",
     "text": [
      "Epoch: 7/20...  Training Step: 25650...  Training loss: 1.5818...  0.2035 sec/batch\n",
      "Epoch: 7/20...  Training Step: 25700...  Training loss: 1.6784...  0.1788 sec/batch\n",
      "Epoch: 7/20...  Training Step: 25750...  Training loss: 1.5903...  0.1734 sec/batch\n",
      "Epoch: 7/20...  Training Step: 25800...  Training loss: 1.5438...  0.1923 sec/batch\n"
     ]
    },
    {
     "data": {
      "text/plain": [
       "'checkpoints/i25800_l128.ckpt'"
      ]
     },
     "execution_count": 50,
     "metadata": {},
     "output_type": "execute_result"
    },
    {
     "name": "stdout",
     "output_type": "stream",
     "text": [
      "Epoch: 7/20...  Training Step: 25850...  Training loss: 1.4790...  0.2085 sec/batch\n",
      "Epoch: 7/20...  Training Step: 25900...  Training loss: 1.5140...  0.1853 sec/batch\n",
      "Epoch: 7/20...  Training Step: 25950...  Training loss: 1.6320...  0.1902 sec/batch\n",
      "Epoch: 7/20...  Training Step: 26000...  Training loss: 1.6006...  0.1769 sec/batch\n"
     ]
    },
    {
     "data": {
      "text/plain": [
       "'checkpoints/i26000_l128.ckpt'"
      ]
     },
     "execution_count": 50,
     "metadata": {},
     "output_type": "execute_result"
    },
    {
     "name": "stdout",
     "output_type": "stream",
     "text": [
      "Epoch: 7/20...  Training Step: 26050...  Training loss: 1.5568...  0.2011 sec/batch\n",
      "Epoch: 7/20...  Training Step: 26100...  Training loss: 1.5271...  0.1942 sec/batch\n",
      "Epoch: 7/20...  Training Step: 26150...  Training loss: 1.5108...  0.1855 sec/batch\n",
      "Epoch: 7/20...  Training Step: 26200...  Training loss: 1.6541...  0.2112 sec/batch\n"
     ]
    },
    {
     "data": {
      "text/plain": [
       "'checkpoints/i26200_l128.ckpt'"
      ]
     },
     "execution_count": 50,
     "metadata": {},
     "output_type": "execute_result"
    },
    {
     "name": "stdout",
     "output_type": "stream",
     "text": [
      "Epoch: 7/20...  Training Step: 26250...  Training loss: 1.5111...  0.2116 sec/batch\n",
      "Epoch: 7/20...  Training Step: 26300...  Training loss: 1.6063...  0.1752 sec/batch\n",
      "Epoch: 7/20...  Training Step: 26350...  Training loss: 1.5736...  0.1896 sec/batch\n",
      "Epoch: 7/20...  Training Step: 26400...  Training loss: 1.6412...  0.1860 sec/batch\n"
     ]
    },
    {
     "data": {
      "text/plain": [
       "'checkpoints/i26400_l128.ckpt'"
      ]
     },
     "execution_count": 50,
     "metadata": {},
     "output_type": "execute_result"
    },
    {
     "name": "stdout",
     "output_type": "stream",
     "text": [
      "Epoch: 7/20...  Training Step: 26450...  Training loss: 1.7484...  0.1741 sec/batch\n",
      "Epoch: 7/20...  Training Step: 26500...  Training loss: 1.4416...  0.1669 sec/batch\n",
      "Epoch: 7/20...  Training Step: 26550...  Training loss: 1.5728...  0.2383 sec/batch\n",
      "Epoch: 7/20...  Training Step: 26600...  Training loss: 1.5502...  0.2410 sec/batch\n"
     ]
    },
    {
     "data": {
      "text/plain": [
       "'checkpoints/i26600_l128.ckpt'"
      ]
     },
     "execution_count": 50,
     "metadata": {},
     "output_type": "execute_result"
    },
    {
     "name": "stdout",
     "output_type": "stream",
     "text": [
      "Epoch: 7/20...  Training Step: 26650...  Training loss: 1.5962...  0.2183 sec/batch\n",
      "Epoch: 7/20...  Training Step: 26700...  Training loss: 1.5209...  0.1889 sec/batch\n",
      "Epoch: 7/20...  Training Step: 26750...  Training loss: 1.4712...  0.1790 sec/batch\n",
      "Epoch: 7/20...  Training Step: 26800...  Training loss: 1.7690...  0.2397 sec/batch\n"
     ]
    },
    {
     "data": {
      "text/plain": [
       "'checkpoints/i26800_l128.ckpt'"
      ]
     },
     "execution_count": 50,
     "metadata": {},
     "output_type": "execute_result"
    },
    {
     "name": "stdout",
     "output_type": "stream",
     "text": [
      "Epoch: 7/20...  Training Step: 26850...  Training loss: 1.4996...  0.2183 sec/batch\n",
      "Epoch: 7/20...  Training Step: 26900...  Training loss: 1.6019...  0.2175 sec/batch\n",
      "Epoch: 7/20...  Training Step: 26950...  Training loss: 1.5279...  0.1771 sec/batch\n",
      "Epoch: 7/20...  Training Step: 27000...  Training loss: 1.4870...  0.2275 sec/batch\n"
     ]
    },
    {
     "data": {
      "text/plain": [
       "'checkpoints/i27000_l128.ckpt'"
      ]
     },
     "execution_count": 50,
     "metadata": {},
     "output_type": "execute_result"
    },
    {
     "name": "stdout",
     "output_type": "stream",
     "text": [
      "Epoch: 7/20...  Training Step: 27050...  Training loss: 1.6129...  0.1977 sec/batch\n",
      "Epoch: 7/20...  Training Step: 27100...  Training loss: 1.4094...  0.1722 sec/batch\n",
      "Epoch: 7/20...  Training Step: 27150...  Training loss: 1.6436...  0.1740 sec/batch\n",
      "Epoch: 7/20...  Training Step: 27200...  Training loss: 1.4888...  0.1715 sec/batch\n"
     ]
    },
    {
     "data": {
      "text/plain": [
       "'checkpoints/i27200_l128.ckpt'"
      ]
     },
     "execution_count": 50,
     "metadata": {},
     "output_type": "execute_result"
    },
    {
     "name": "stdout",
     "output_type": "stream",
     "text": [
      "Epoch: 7/20...  Training Step: 27250...  Training loss: 1.4413...  0.1701 sec/batch\n",
      "Epoch: 7/20...  Training Step: 27300...  Training loss: 1.3914...  0.1706 sec/batch\n",
      "Epoch: 7/20...  Training Step: 27350...  Training loss: 1.4349...  0.2721 sec/batch\n",
      "Epoch: 7/20...  Training Step: 27400...  Training loss: 1.5144...  0.1772 sec/batch\n"
     ]
    },
    {
     "data": {
      "text/plain": [
       "'checkpoints/i27400_l128.ckpt'"
      ]
     },
     "execution_count": 50,
     "metadata": {},
     "output_type": "execute_result"
    },
    {
     "name": "stdout",
     "output_type": "stream",
     "text": [
      "Epoch: 7/20...  Training Step: 27450...  Training loss: 1.5518...  0.1748 sec/batch\n",
      "Epoch: 7/20...  Training Step: 27500...  Training loss: 1.7053...  0.1794 sec/batch\n",
      "Epoch: 7/20...  Training Step: 27550...  Training loss: 1.7266...  0.2073 sec/batch\n",
      "Epoch: 7/20...  Training Step: 27600...  Training loss: 1.8298...  0.1773 sec/batch\n"
     ]
    },
    {
     "data": {
      "text/plain": [
       "'checkpoints/i27600_l128.ckpt'"
      ]
     },
     "execution_count": 50,
     "metadata": {},
     "output_type": "execute_result"
    },
    {
     "name": "stdout",
     "output_type": "stream",
     "text": [
      "Epoch: 7/20...  Training Step: 27650...  Training loss: 1.5665...  0.1704 sec/batch\n",
      "Epoch: 7/20...  Training Step: 27700...  Training loss: 1.6273...  0.2144 sec/batch\n",
      "Epoch: 7/20...  Training Step: 27750...  Training loss: 1.6681...  0.1888 sec/batch\n",
      "3970\n",
      "(1985000,)\n",
      "(10, 198500)\n",
      "Epoch: 8/20...  Training Step: 27800...  Training loss: 1.5771...  0.1755 sec/batch\n"
     ]
    },
    {
     "data": {
      "text/plain": [
       "'checkpoints/i27800_l128.ckpt'"
      ]
     },
     "execution_count": 50,
     "metadata": {},
     "output_type": "execute_result"
    },
    {
     "name": "stdout",
     "output_type": "stream",
     "text": [
      "Epoch: 8/20...  Training Step: 27850...  Training loss: 1.5817...  0.1804 sec/batch\n",
      "Epoch: 8/20...  Training Step: 27900...  Training loss: 1.6212...  0.2209 sec/batch\n",
      "Epoch: 8/20...  Training Step: 27950...  Training loss: 1.7161...  0.1787 sec/batch\n",
      "Epoch: 8/20...  Training Step: 28000...  Training loss: 1.5463...  0.1773 sec/batch\n"
     ]
    },
    {
     "data": {
      "text/plain": [
       "'checkpoints/i28000_l128.ckpt'"
      ]
     },
     "execution_count": 50,
     "metadata": {},
     "output_type": "execute_result"
    },
    {
     "name": "stdout",
     "output_type": "stream",
     "text": [
      "Epoch: 8/20...  Training Step: 28050...  Training loss: 1.4894...  0.1726 sec/batch\n",
      "Epoch: 8/20...  Training Step: 28100...  Training loss: 1.6290...  0.2903 sec/batch\n",
      "Epoch: 8/20...  Training Step: 28150...  Training loss: 1.7200...  0.3651 sec/batch\n",
      "Epoch: 8/20...  Training Step: 28200...  Training loss: 1.6123...  0.4721 sec/batch\n"
     ]
    },
    {
     "data": {
      "text/plain": [
       "'checkpoints/i28200_l128.ckpt'"
      ]
     },
     "execution_count": 50,
     "metadata": {},
     "output_type": "execute_result"
    },
    {
     "name": "stdout",
     "output_type": "stream",
     "text": [
      "Epoch: 8/20...  Training Step: 28250...  Training loss: 1.7262...  0.4571 sec/batch\n",
      "Epoch: 8/20...  Training Step: 28300...  Training loss: 1.6084...  0.4396 sec/batch\n",
      "Epoch: 8/20...  Training Step: 28350...  Training loss: 1.6088...  0.4919 sec/batch\n",
      "Epoch: 8/20...  Training Step: 28400...  Training loss: 1.5242...  0.5161 sec/batch\n"
     ]
    },
    {
     "data": {
      "text/plain": [
       "'checkpoints/i28400_l128.ckpt'"
      ]
     },
     "execution_count": 50,
     "metadata": {},
     "output_type": "execute_result"
    },
    {
     "name": "stdout",
     "output_type": "stream",
     "text": [
      "Epoch: 8/20...  Training Step: 28450...  Training loss: 1.5588...  0.2863 sec/batch\n",
      "Epoch: 8/20...  Training Step: 28500...  Training loss: 1.6218...  0.1785 sec/batch\n",
      "Epoch: 8/20...  Training Step: 28550...  Training loss: 1.4949...  0.1864 sec/batch\n",
      "Epoch: 8/20...  Training Step: 28600...  Training loss: 1.5333...  0.1683 sec/batch\n"
     ]
    },
    {
     "data": {
      "text/plain": [
       "'checkpoints/i28600_l128.ckpt'"
      ]
     },
     "execution_count": 50,
     "metadata": {},
     "output_type": "execute_result"
    },
    {
     "name": "stdout",
     "output_type": "stream",
     "text": [
      "Epoch: 8/20...  Training Step: 28650...  Training loss: 1.6835...  0.1743 sec/batch\n",
      "Epoch: 8/20...  Training Step: 28700...  Training loss: 1.5985...  0.3110 sec/batch\n",
      "Epoch: 8/20...  Training Step: 28750...  Training loss: 1.6387...  0.0884 sec/batch\n",
      "Epoch: 8/20...  Training Step: 28800...  Training loss: 1.6268...  0.0821 sec/batch\n"
     ]
    },
    {
     "data": {
      "text/plain": [
       "'checkpoints/i28800_l128.ckpt'"
      ]
     },
     "execution_count": 50,
     "metadata": {},
     "output_type": "execute_result"
    },
    {
     "name": "stdout",
     "output_type": "stream",
     "text": [
      "Epoch: 8/20...  Training Step: 28850...  Training loss: 1.5283...  0.0866 sec/batch\n",
      "Epoch: 8/20...  Training Step: 28900...  Training loss: 1.5135...  0.0923 sec/batch\n",
      "Epoch: 8/20...  Training Step: 28950...  Training loss: 1.4119...  0.0882 sec/batch\n",
      "Epoch: 8/20...  Training Step: 29000...  Training loss: 1.6021...  0.0957 sec/batch\n"
     ]
    },
    {
     "data": {
      "text/plain": [
       "'checkpoints/i29000_l128.ckpt'"
      ]
     },
     "execution_count": 50,
     "metadata": {},
     "output_type": "execute_result"
    },
    {
     "name": "stdout",
     "output_type": "stream",
     "text": [
      "Epoch: 8/20...  Training Step: 29050...  Training loss: 1.4965...  0.0904 sec/batch\n",
      "Epoch: 8/20...  Training Step: 29100...  Training loss: 1.5849...  0.1177 sec/batch\n",
      "Epoch: 8/20...  Training Step: 29150...  Training loss: 1.4798...  0.1614 sec/batch\n",
      "Epoch: 8/20...  Training Step: 29200...  Training loss: 1.5978...  0.0972 sec/batch\n"
     ]
    },
    {
     "data": {
      "text/plain": [
       "'checkpoints/i29200_l128.ckpt'"
      ]
     },
     "execution_count": 50,
     "metadata": {},
     "output_type": "execute_result"
    },
    {
     "name": "stdout",
     "output_type": "stream",
     "text": [
      "Epoch: 8/20...  Training Step: 29250...  Training loss: 1.6116...  0.0887 sec/batch\n",
      "Epoch: 8/20...  Training Step: 29300...  Training loss: 1.4851...  0.0900 sec/batch\n",
      "Epoch: 8/20...  Training Step: 29350...  Training loss: 1.5897...  0.1092 sec/batch\n",
      "Epoch: 8/20...  Training Step: 29400...  Training loss: 1.6262...  0.0943 sec/batch\n"
     ]
    },
    {
     "data": {
      "text/plain": [
       "'checkpoints/i29400_l128.ckpt'"
      ]
     },
     "execution_count": 50,
     "metadata": {},
     "output_type": "execute_result"
    },
    {
     "name": "stdout",
     "output_type": "stream",
     "text": [
      "Epoch: 8/20...  Training Step: 29450...  Training loss: 1.4796...  0.1053 sec/batch\n",
      "Epoch: 8/20...  Training Step: 29500...  Training loss: 1.5156...  0.0991 sec/batch\n",
      "Epoch: 8/20...  Training Step: 29550...  Training loss: 1.4454...  0.0989 sec/batch\n",
      "Epoch: 8/20...  Training Step: 29600...  Training loss: 1.3813...  0.1034 sec/batch\n"
     ]
    },
    {
     "data": {
      "text/plain": [
       "'checkpoints/i29600_l128.ckpt'"
      ]
     },
     "execution_count": 50,
     "metadata": {},
     "output_type": "execute_result"
    },
    {
     "name": "stdout",
     "output_type": "stream",
     "text": [
      "Epoch: 8/20...  Training Step: 29650...  Training loss: 1.6507...  0.0940 sec/batch\n",
      "Epoch: 8/20...  Training Step: 29700...  Training loss: 1.4844...  0.0936 sec/batch\n",
      "Epoch: 8/20...  Training Step: 29750...  Training loss: 1.5349...  0.0921 sec/batch\n",
      "Epoch: 8/20...  Training Step: 29800...  Training loss: 1.6158...  0.0892 sec/batch\n"
     ]
    },
    {
     "data": {
      "text/plain": [
       "'checkpoints/i29800_l128.ckpt'"
      ]
     },
     "execution_count": 50,
     "metadata": {},
     "output_type": "execute_result"
    },
    {
     "name": "stdout",
     "output_type": "stream",
     "text": [
      "Epoch: 8/20...  Training Step: 29850...  Training loss: 1.5243...  0.0927 sec/batch\n",
      "Epoch: 8/20...  Training Step: 29900...  Training loss: 1.5735...  0.0880 sec/batch\n",
      "Epoch: 8/20...  Training Step: 29950...  Training loss: 1.6269...  0.0899 sec/batch\n",
      "Epoch: 8/20...  Training Step: 30000...  Training loss: 1.6395...  0.0941 sec/batch\n"
     ]
    },
    {
     "data": {
      "text/plain": [
       "'checkpoints/i30000_l128.ckpt'"
      ]
     },
     "execution_count": 50,
     "metadata": {},
     "output_type": "execute_result"
    },
    {
     "name": "stdout",
     "output_type": "stream",
     "text": [
      "Epoch: 8/20...  Training Step: 30050...  Training loss: 1.7075...  0.0890 sec/batch\n",
      "Epoch: 8/20...  Training Step: 30100...  Training loss: 1.5248...  0.0905 sec/batch\n",
      "Epoch: 8/20...  Training Step: 30150...  Training loss: 1.6503...  0.0899 sec/batch\n",
      "Epoch: 8/20...  Training Step: 30200...  Training loss: 1.4675...  0.0991 sec/batch\n"
     ]
    },
    {
     "data": {
      "text/plain": [
       "'checkpoints/i30200_l128.ckpt'"
      ]
     },
     "execution_count": 50,
     "metadata": {},
     "output_type": "execute_result"
    },
    {
     "name": "stdout",
     "output_type": "stream",
     "text": [
      "Epoch: 8/20...  Training Step: 30250...  Training loss: 1.6087...  0.1272 sec/batch\n",
      "Epoch: 8/20...  Training Step: 30300...  Training loss: 1.6521...  0.0888 sec/batch\n",
      "Epoch: 8/20...  Training Step: 30350...  Training loss: 1.4133...  0.1088 sec/batch\n",
      "Epoch: 8/20...  Training Step: 30400...  Training loss: 1.6905...  0.1187 sec/batch\n"
     ]
    },
    {
     "data": {
      "text/plain": [
       "'checkpoints/i30400_l128.ckpt'"
      ]
     },
     "execution_count": 50,
     "metadata": {},
     "output_type": "execute_result"
    },
    {
     "name": "stdout",
     "output_type": "stream",
     "text": [
      "Epoch: 8/20...  Training Step: 30450...  Training loss: 1.6793...  0.0942 sec/batch\n",
      "Epoch: 8/20...  Training Step: 30500...  Training loss: 1.5030...  0.1151 sec/batch\n",
      "Epoch: 8/20...  Training Step: 30550...  Training loss: 1.6077...  0.0926 sec/batch\n",
      "Epoch: 8/20...  Training Step: 30600...  Training loss: 1.6794...  0.0905 sec/batch\n"
     ]
    },
    {
     "data": {
      "text/plain": [
       "'checkpoints/i30600_l128.ckpt'"
      ]
     },
     "execution_count": 50,
     "metadata": {},
     "output_type": "execute_result"
    },
    {
     "name": "stdout",
     "output_type": "stream",
     "text": [
      "Epoch: 8/20...  Training Step: 30650...  Training loss: 1.4589...  0.0907 sec/batch\n",
      "Epoch: 8/20...  Training Step: 30700...  Training loss: 1.5796...  0.0914 sec/batch\n",
      "Epoch: 8/20...  Training Step: 30750...  Training loss: 1.6374...  0.0972 sec/batch\n",
      "Epoch: 8/20...  Training Step: 30800...  Training loss: 1.6692...  0.0887 sec/batch\n"
     ]
    },
    {
     "data": {
      "text/plain": [
       "'checkpoints/i30800_l128.ckpt'"
      ]
     },
     "execution_count": 50,
     "metadata": {},
     "output_type": "execute_result"
    },
    {
     "name": "stdout",
     "output_type": "stream",
     "text": [
      "Epoch: 8/20...  Training Step: 30850...  Training loss: 1.5267...  0.0909 sec/batch\n",
      "Epoch: 8/20...  Training Step: 30900...  Training loss: 1.6207...  0.0924 sec/batch\n",
      "Epoch: 8/20...  Training Step: 30950...  Training loss: 1.4481...  0.0893 sec/batch\n",
      "Epoch: 8/20...  Training Step: 31000...  Training loss: 1.4528...  0.1259 sec/batch\n"
     ]
    },
    {
     "data": {
      "text/plain": [
       "'checkpoints/i31000_l128.ckpt'"
      ]
     },
     "execution_count": 50,
     "metadata": {},
     "output_type": "execute_result"
    },
    {
     "name": "stdout",
     "output_type": "stream",
     "text": [
      "Epoch: 8/20...  Training Step: 31050...  Training loss: 1.5040...  0.0955 sec/batch\n",
      "Epoch: 8/20...  Training Step: 31100...  Training loss: 1.6309...  0.0939 sec/batch\n",
      "Epoch: 8/20...  Training Step: 31150...  Training loss: 1.5281...  0.0908 sec/batch\n",
      "Epoch: 8/20...  Training Step: 31200...  Training loss: 1.6212...  0.0906 sec/batch\n"
     ]
    },
    {
     "data": {
      "text/plain": [
       "'checkpoints/i31200_l128.ckpt'"
      ]
     },
     "execution_count": 50,
     "metadata": {},
     "output_type": "execute_result"
    },
    {
     "name": "stdout",
     "output_type": "stream",
     "text": [
      "Epoch: 8/20...  Training Step: 31250...  Training loss: 1.5259...  0.0914 sec/batch\n",
      "Epoch: 8/20...  Training Step: 31300...  Training loss: 1.5420...  0.1231 sec/batch\n",
      "Epoch: 8/20...  Training Step: 31350...  Training loss: 1.5600...  0.0887 sec/batch\n",
      "Epoch: 8/20...  Training Step: 31400...  Training loss: 1.6754...  0.1146 sec/batch\n"
     ]
    },
    {
     "data": {
      "text/plain": [
       "'checkpoints/i31400_l128.ckpt'"
      ]
     },
     "execution_count": 50,
     "metadata": {},
     "output_type": "execute_result"
    },
    {
     "name": "stdout",
     "output_type": "stream",
     "text": [
      "Epoch: 8/20...  Training Step: 31450...  Training loss: 1.6775...  0.1166 sec/batch\n",
      "Epoch: 8/20...  Training Step: 31500...  Training loss: 1.5541...  0.0915 sec/batch\n",
      "Epoch: 8/20...  Training Step: 31550...  Training loss: 1.4744...  0.0879 sec/batch\n",
      "Epoch: 8/20...  Training Step: 31600...  Training loss: 1.6423...  0.1015 sec/batch\n"
     ]
    },
    {
     "data": {
      "text/plain": [
       "'checkpoints/i31600_l128.ckpt'"
      ]
     },
     "execution_count": 50,
     "metadata": {},
     "output_type": "execute_result"
    },
    {
     "name": "stdout",
     "output_type": "stream",
     "text": [
      "Epoch: 8/20...  Training Step: 31650...  Training loss: 1.6355...  0.0923 sec/batch\n",
      "Epoch: 8/20...  Training Step: 31700...  Training loss: 1.8625...  0.1056 sec/batch\n",
      "Epoch: 8/20...  Training Step: 31750...  Training loss: 1.6553...  0.1052 sec/batch\n",
      "3970\n",
      "(1985000,)\n",
      "(10, 198500)\n",
      "Epoch: 9/20...  Training Step: 31800...  Training loss: 1.6752...  0.0934 sec/batch\n"
     ]
    },
    {
     "data": {
      "text/plain": [
       "'checkpoints/i31800_l128.ckpt'"
      ]
     },
     "execution_count": 50,
     "metadata": {},
     "output_type": "execute_result"
    },
    {
     "name": "stdout",
     "output_type": "stream",
     "text": [
      "Epoch: 9/20...  Training Step: 31850...  Training loss: 1.5396...  0.0993 sec/batch\n",
      "Epoch: 9/20...  Training Step: 31900...  Training loss: 1.5974...  0.0908 sec/batch\n",
      "Epoch: 9/20...  Training Step: 31950...  Training loss: 1.5522...  0.0902 sec/batch\n",
      "Epoch: 9/20...  Training Step: 32000...  Training loss: 1.6685...  0.0912 sec/batch\n"
     ]
    },
    {
     "data": {
      "text/plain": [
       "'checkpoints/i32000_l128.ckpt'"
      ]
     },
     "execution_count": 50,
     "metadata": {},
     "output_type": "execute_result"
    },
    {
     "name": "stdout",
     "output_type": "stream",
     "text": [
      "Epoch: 9/20...  Training Step: 32050...  Training loss: 1.5322...  0.0912 sec/batch\n",
      "Epoch: 9/20...  Training Step: 32100...  Training loss: 1.5547...  0.0908 sec/batch\n",
      "Epoch: 9/20...  Training Step: 32150...  Training loss: 1.5262...  0.0917 sec/batch\n",
      "Epoch: 9/20...  Training Step: 32200...  Training loss: 1.6754...  0.1005 sec/batch\n"
     ]
    },
    {
     "data": {
      "text/plain": [
       "'checkpoints/i32200_l128.ckpt'"
      ]
     },
     "execution_count": 50,
     "metadata": {},
     "output_type": "execute_result"
    },
    {
     "name": "stdout",
     "output_type": "stream",
     "text": [
      "Epoch: 9/20...  Training Step: 32250...  Training loss: 1.5696...  0.0921 sec/batch\n",
      "Epoch: 9/20...  Training Step: 32300...  Training loss: 1.4306...  0.0932 sec/batch\n",
      "Epoch: 9/20...  Training Step: 32350...  Training loss: 1.6627...  0.1098 sec/batch\n",
      "Epoch: 9/20...  Training Step: 32400...  Training loss: 1.4464...  0.0918 sec/batch\n"
     ]
    },
    {
     "data": {
      "text/plain": [
       "'checkpoints/i32400_l128.ckpt'"
      ]
     },
     "execution_count": 50,
     "metadata": {},
     "output_type": "execute_result"
    },
    {
     "name": "stdout",
     "output_type": "stream",
     "text": [
      "Epoch: 9/20...  Training Step: 32450...  Training loss: 1.5668...  0.0980 sec/batch\n",
      "Epoch: 9/20...  Training Step: 32500...  Training loss: 1.4880...  0.0964 sec/batch\n",
      "Epoch: 9/20...  Training Step: 32550...  Training loss: 1.5984...  0.0948 sec/batch\n",
      "Epoch: 9/20...  Training Step: 32600...  Training loss: 1.5516...  0.1266 sec/batch\n"
     ]
    },
    {
     "data": {
      "text/plain": [
       "'checkpoints/i32600_l128.ckpt'"
      ]
     },
     "execution_count": 50,
     "metadata": {},
     "output_type": "execute_result"
    },
    {
     "name": "stdout",
     "output_type": "stream",
     "text": [
      "Epoch: 9/20...  Training Step: 32650...  Training loss: 1.5270...  0.1041 sec/batch\n",
      "Epoch: 9/20...  Training Step: 32700...  Training loss: 1.4589...  0.0969 sec/batch\n",
      "Epoch: 9/20...  Training Step: 32750...  Training loss: 1.4300...  0.0934 sec/batch\n",
      "Epoch: 9/20...  Training Step: 32800...  Training loss: 1.5013...  0.0986 sec/batch\n"
     ]
    },
    {
     "data": {
      "text/plain": [
       "'checkpoints/i32800_l128.ckpt'"
      ]
     },
     "execution_count": 50,
     "metadata": {},
     "output_type": "execute_result"
    },
    {
     "name": "stdout",
     "output_type": "stream",
     "text": [
      "Epoch: 9/20...  Training Step: 32850...  Training loss: 1.7530...  0.1167 sec/batch\n",
      "Epoch: 9/20...  Training Step: 32900...  Training loss: 1.7333...  0.1030 sec/batch\n",
      "Epoch: 9/20...  Training Step: 32950...  Training loss: 1.4773...  0.1021 sec/batch\n",
      "Epoch: 9/20...  Training Step: 33000...  Training loss: 1.4666...  0.0957 sec/batch\n"
     ]
    },
    {
     "data": {
      "text/plain": [
       "'checkpoints/i33000_l128.ckpt'"
      ]
     },
     "execution_count": 50,
     "metadata": {},
     "output_type": "execute_result"
    },
    {
     "name": "stdout",
     "output_type": "stream",
     "text": [
      "Epoch: 9/20...  Training Step: 33050...  Training loss: 1.6990...  0.0950 sec/batch\n",
      "Epoch: 9/20...  Training Step: 33100...  Training loss: 1.6142...  0.0967 sec/batch\n",
      "Epoch: 9/20...  Training Step: 33150...  Training loss: 1.6066...  0.1088 sec/batch\n",
      "Epoch: 9/20...  Training Step: 33200...  Training loss: 1.5334...  0.1163 sec/batch\n"
     ]
    },
    {
     "data": {
      "text/plain": [
       "'checkpoints/i33200_l128.ckpt'"
      ]
     },
     "execution_count": 50,
     "metadata": {},
     "output_type": "execute_result"
    },
    {
     "name": "stdout",
     "output_type": "stream",
     "text": [
      "Epoch: 9/20...  Training Step: 33250...  Training loss: 1.6452...  0.1070 sec/batch\n",
      "Epoch: 9/20...  Training Step: 33300...  Training loss: 1.5981...  0.1707 sec/batch\n",
      "Epoch: 9/20...  Training Step: 33350...  Training loss: 1.5439...  0.1266 sec/batch\n",
      "Epoch: 9/20...  Training Step: 33400...  Training loss: 1.6158...  0.1370 sec/batch\n"
     ]
    },
    {
     "data": {
      "text/plain": [
       "'checkpoints/i33400_l128.ckpt'"
      ]
     },
     "execution_count": 50,
     "metadata": {},
     "output_type": "execute_result"
    },
    {
     "name": "stdout",
     "output_type": "stream",
     "text": [
      "Epoch: 9/20...  Training Step: 33450...  Training loss: 1.5282...  0.1121 sec/batch\n",
      "Epoch: 9/20...  Training Step: 33500...  Training loss: 1.5316...  0.1073 sec/batch\n",
      "Epoch: 9/20...  Training Step: 33550...  Training loss: 1.4883...  0.1109 sec/batch\n",
      "Epoch: 9/20...  Training Step: 33600...  Training loss: 1.5842...  0.1111 sec/batch\n"
     ]
    },
    {
     "data": {
      "text/plain": [
       "'checkpoints/i33600_l128.ckpt'"
      ]
     },
     "execution_count": 50,
     "metadata": {},
     "output_type": "execute_result"
    },
    {
     "name": "stdout",
     "output_type": "stream",
     "text": [
      "Epoch: 9/20...  Training Step: 33650...  Training loss: 1.6616...  0.1248 sec/batch\n",
      "Epoch: 9/20...  Training Step: 33700...  Training loss: 1.7954...  0.1112 sec/batch\n",
      "Epoch: 9/20...  Training Step: 33750...  Training loss: 1.5662...  0.1100 sec/batch\n",
      "Epoch: 9/20...  Training Step: 33800...  Training loss: 1.6556...  0.1059 sec/batch\n"
     ]
    },
    {
     "data": {
      "text/plain": [
       "'checkpoints/i33800_l128.ckpt'"
      ]
     },
     "execution_count": 50,
     "metadata": {},
     "output_type": "execute_result"
    },
    {
     "name": "stdout",
     "output_type": "stream",
     "text": [
      "Epoch: 9/20...  Training Step: 33850...  Training loss: 1.5278...  0.1327 sec/batch\n",
      "Epoch: 9/20...  Training Step: 33900...  Training loss: 1.6482...  0.1132 sec/batch\n",
      "Epoch: 9/20...  Training Step: 33950...  Training loss: 1.5049...  0.1398 sec/batch\n",
      "Epoch: 9/20...  Training Step: 34000...  Training loss: 1.7622...  0.1269 sec/batch\n"
     ]
    },
    {
     "data": {
      "text/plain": [
       "'checkpoints/i34000_l128.ckpt'"
      ]
     },
     "execution_count": 50,
     "metadata": {},
     "output_type": "execute_result"
    },
    {
     "name": "stdout",
     "output_type": "stream",
     "text": [
      "Epoch: 9/20...  Training Step: 34050...  Training loss: 1.5050...  0.1071 sec/batch\n",
      "Epoch: 9/20...  Training Step: 34100...  Training loss: 1.6294...  0.1179 sec/batch\n",
      "Epoch: 9/20...  Training Step: 34150...  Training loss: 1.6355...  0.1202 sec/batch\n",
      "Epoch: 9/20...  Training Step: 34200...  Training loss: 1.5546...  0.1039 sec/batch\n"
     ]
    },
    {
     "data": {
      "text/plain": [
       "'checkpoints/i34200_l128.ckpt'"
      ]
     },
     "execution_count": 50,
     "metadata": {},
     "output_type": "execute_result"
    },
    {
     "name": "stdout",
     "output_type": "stream",
     "text": [
      "Epoch: 9/20...  Training Step: 34250...  Training loss: 1.6049...  0.1079 sec/batch\n",
      "Epoch: 9/20...  Training Step: 34300...  Training loss: 1.6999...  0.1136 sec/batch\n",
      "Epoch: 9/20...  Training Step: 34350...  Training loss: 1.6275...  0.1093 sec/batch\n",
      "Epoch: 9/20...  Training Step: 34400...  Training loss: 1.5185...  0.1126 sec/batch\n"
     ]
    },
    {
     "data": {
      "text/plain": [
       "'checkpoints/i34400_l128.ckpt'"
      ]
     },
     "execution_count": 50,
     "metadata": {},
     "output_type": "execute_result"
    },
    {
     "name": "stdout",
     "output_type": "stream",
     "text": [
      "Epoch: 9/20...  Training Step: 34450...  Training loss: 1.6246...  0.1116 sec/batch\n",
      "Epoch: 9/20...  Training Step: 34500...  Training loss: 1.5003...  0.1183 sec/batch\n",
      "Epoch: 9/20...  Training Step: 34550...  Training loss: 1.4233...  0.1059 sec/batch\n",
      "Epoch: 9/20...  Training Step: 34600...  Training loss: 1.6308...  0.1136 sec/batch\n"
     ]
    },
    {
     "data": {
      "text/plain": [
       "'checkpoints/i34600_l128.ckpt'"
      ]
     },
     "execution_count": 50,
     "metadata": {},
     "output_type": "execute_result"
    },
    {
     "name": "stdout",
     "output_type": "stream",
     "text": [
      "Epoch: 9/20...  Training Step: 34650...  Training loss: 1.4631...  0.1000 sec/batch\n",
      "Epoch: 9/20...  Training Step: 34700...  Training loss: 1.5326...  0.1127 sec/batch\n",
      "Epoch: 9/20...  Training Step: 34750...  Training loss: 1.5778...  0.1109 sec/batch\n",
      "Epoch: 9/20...  Training Step: 34800...  Training loss: 1.6473...  0.1182 sec/batch\n"
     ]
    },
    {
     "data": {
      "text/plain": [
       "'checkpoints/i34800_l128.ckpt'"
      ]
     },
     "execution_count": 50,
     "metadata": {},
     "output_type": "execute_result"
    },
    {
     "name": "stdout",
     "output_type": "stream",
     "text": [
      "Epoch: 9/20...  Training Step: 34850...  Training loss: 1.5188...  0.1125 sec/batch\n",
      "Epoch: 9/20...  Training Step: 34900...  Training loss: 1.7357...  0.1072 sec/batch\n",
      "Epoch: 9/20...  Training Step: 34950...  Training loss: 1.4532...  0.1039 sec/batch\n",
      "Epoch: 9/20...  Training Step: 35000...  Training loss: 1.5088...  0.1190 sec/batch\n"
     ]
    },
    {
     "data": {
      "text/plain": [
       "'checkpoints/i35000_l128.ckpt'"
      ]
     },
     "execution_count": 50,
     "metadata": {},
     "output_type": "execute_result"
    },
    {
     "name": "stdout",
     "output_type": "stream",
     "text": [
      "Epoch: 9/20...  Training Step: 35050...  Training loss: 1.6737...  0.1540 sec/batch\n",
      "Epoch: 9/20...  Training Step: 35100...  Training loss: 1.5393...  0.1438 sec/batch\n",
      "Epoch: 9/20...  Training Step: 35150...  Training loss: 1.5271...  0.1053 sec/batch\n",
      "Epoch: 9/20...  Training Step: 35200...  Training loss: 1.5858...  0.1124 sec/batch\n"
     ]
    },
    {
     "data": {
      "text/plain": [
       "'checkpoints/i35200_l128.ckpt'"
      ]
     },
     "execution_count": 50,
     "metadata": {},
     "output_type": "execute_result"
    },
    {
     "name": "stdout",
     "output_type": "stream",
     "text": [
      "Epoch: 9/20...  Training Step: 35250...  Training loss: 1.7142...  0.1422 sec/batch\n",
      "Epoch: 9/20...  Training Step: 35300...  Training loss: 1.5169...  0.1173 sec/batch\n",
      "Epoch: 9/20...  Training Step: 35350...  Training loss: 1.5263...  0.1055 sec/batch\n",
      "Epoch: 9/20...  Training Step: 35400...  Training loss: 1.5364...  0.1047 sec/batch\n"
     ]
    },
    {
     "data": {
      "text/plain": [
       "'checkpoints/i35400_l128.ckpt'"
      ]
     },
     "execution_count": 50,
     "metadata": {},
     "output_type": "execute_result"
    },
    {
     "name": "stdout",
     "output_type": "stream",
     "text": [
      "Epoch: 9/20...  Training Step: 35450...  Training loss: 1.5773...  0.1078 sec/batch\n",
      "Epoch: 9/20...  Training Step: 35500...  Training loss: 1.5673...  0.1078 sec/batch\n",
      "Epoch: 9/20...  Training Step: 35550...  Training loss: 1.5751...  0.1067 sec/batch\n",
      "Epoch: 9/20...  Training Step: 35600...  Training loss: 1.7624...  0.1065 sec/batch\n"
     ]
    },
    {
     "data": {
      "text/plain": [
       "'checkpoints/i35600_l128.ckpt'"
      ]
     },
     "execution_count": 50,
     "metadata": {},
     "output_type": "execute_result"
    },
    {
     "name": "stdout",
     "output_type": "stream",
     "text": [
      "Epoch: 9/20...  Training Step: 35650...  Training loss: 1.7106...  0.1047 sec/batch\n",
      "Epoch: 9/20...  Training Step: 35700...  Training loss: 1.5372...  0.1066 sec/batch\n",
      "3970\n",
      "(1985000,)\n",
      "(10, 198500)\n",
      "Epoch: 10/20...  Training Step: 35750...  Training loss: 1.7084...  0.1238 sec/batch\n",
      "Epoch: 10/20...  Training Step: 35800...  Training loss: 1.5535...  0.1099 sec/batch\n"
     ]
    },
    {
     "data": {
      "text/plain": [
       "'checkpoints/i35800_l128.ckpt'"
      ]
     },
     "execution_count": 50,
     "metadata": {},
     "output_type": "execute_result"
    },
    {
     "name": "stdout",
     "output_type": "stream",
     "text": [
      "Epoch: 10/20...  Training Step: 35850...  Training loss: 1.5218...  0.1104 sec/batch\n",
      "Epoch: 10/20...  Training Step: 35900...  Training loss: 1.6495...  0.1047 sec/batch\n",
      "Epoch: 10/20...  Training Step: 35950...  Training loss: 1.5402...  0.1055 sec/batch\n",
      "Epoch: 10/20...  Training Step: 36000...  Training loss: 1.6571...  0.1209 sec/batch\n"
     ]
    },
    {
     "data": {
      "text/plain": [
       "'checkpoints/i36000_l128.ckpt'"
      ]
     },
     "execution_count": 50,
     "metadata": {},
     "output_type": "execute_result"
    },
    {
     "name": "stdout",
     "output_type": "stream",
     "text": [
      "Epoch: 10/20...  Training Step: 36050...  Training loss: 1.6048...  0.1078 sec/batch\n",
      "Epoch: 10/20...  Training Step: 36100...  Training loss: 1.6585...  0.1104 sec/batch\n",
      "Epoch: 10/20...  Training Step: 36150...  Training loss: 1.5868...  0.1203 sec/batch\n",
      "Epoch: 10/20...  Training Step: 36200...  Training loss: 1.6601...  0.1071 sec/batch\n"
     ]
    },
    {
     "data": {
      "text/plain": [
       "'checkpoints/i36200_l128.ckpt'"
      ]
     },
     "execution_count": 50,
     "metadata": {},
     "output_type": "execute_result"
    },
    {
     "name": "stdout",
     "output_type": "stream",
     "text": [
      "Epoch: 10/20...  Training Step: 36250...  Training loss: 1.4813...  0.1110 sec/batch\n",
      "Epoch: 10/20...  Training Step: 36300...  Training loss: 1.6272...  0.1061 sec/batch\n",
      "Epoch: 10/20...  Training Step: 36350...  Training loss: 1.4092...  0.1052 sec/batch\n",
      "Epoch: 10/20...  Training Step: 36400...  Training loss: 1.6389...  0.1085 sec/batch\n"
     ]
    },
    {
     "data": {
      "text/plain": [
       "'checkpoints/i36400_l128.ckpt'"
      ]
     },
     "execution_count": 50,
     "metadata": {},
     "output_type": "execute_result"
    },
    {
     "name": "stdout",
     "output_type": "stream",
     "text": [
      "Epoch: 10/20...  Training Step: 36450...  Training loss: 1.6388...  0.1028 sec/batch\n",
      "Epoch: 10/20...  Training Step: 36500...  Training loss: 1.5544...  0.1032 sec/batch\n",
      "Epoch: 10/20...  Training Step: 36550...  Training loss: 1.6131...  0.1072 sec/batch\n",
      "Epoch: 10/20...  Training Step: 36600...  Training loss: 1.6175...  0.1027 sec/batch\n"
     ]
    },
    {
     "data": {
      "text/plain": [
       "'checkpoints/i36600_l128.ckpt'"
      ]
     },
     "execution_count": 50,
     "metadata": {},
     "output_type": "execute_result"
    },
    {
     "name": "stdout",
     "output_type": "stream",
     "text": [
      "Epoch: 10/20...  Training Step: 36650...  Training loss: 1.4751...  0.1042 sec/batch\n",
      "Epoch: 10/20...  Training Step: 36700...  Training loss: 1.3799...  0.1099 sec/batch\n",
      "Epoch: 10/20...  Training Step: 36750...  Training loss: 1.4571...  0.1054 sec/batch\n",
      "Epoch: 10/20...  Training Step: 36800...  Training loss: 1.5136...  0.1079 sec/batch\n"
     ]
    },
    {
     "data": {
      "text/plain": [
       "'checkpoints/i36800_l128.ckpt'"
      ]
     },
     "execution_count": 50,
     "metadata": {},
     "output_type": "execute_result"
    },
    {
     "name": "stdout",
     "output_type": "stream",
     "text": [
      "Epoch: 10/20...  Training Step: 36850...  Training loss: 1.3539...  0.1104 sec/batch\n",
      "Epoch: 10/20...  Training Step: 36900...  Training loss: 1.5021...  0.1032 sec/batch\n",
      "Epoch: 10/20...  Training Step: 36950...  Training loss: 1.4346...  0.1091 sec/batch\n",
      "Epoch: 10/20...  Training Step: 37000...  Training loss: 1.5527...  0.1043 sec/batch\n"
     ]
    },
    {
     "data": {
      "text/plain": [
       "'checkpoints/i37000_l128.ckpt'"
      ]
     },
     "execution_count": 50,
     "metadata": {},
     "output_type": "execute_result"
    },
    {
     "name": "stdout",
     "output_type": "stream",
     "text": [
      "Epoch: 10/20...  Training Step: 37050...  Training loss: 1.6522...  0.1035 sec/batch\n",
      "Epoch: 10/20...  Training Step: 37100...  Training loss: 1.5800...  0.1073 sec/batch\n",
      "Epoch: 10/20...  Training Step: 37150...  Training loss: 1.5262...  0.1002 sec/batch\n",
      "Epoch: 10/20...  Training Step: 37200...  Training loss: 1.5016...  0.1025 sec/batch\n"
     ]
    },
    {
     "data": {
      "text/plain": [
       "'checkpoints/i37200_l128.ckpt'"
      ]
     },
     "execution_count": 50,
     "metadata": {},
     "output_type": "execute_result"
    },
    {
     "name": "stdout",
     "output_type": "stream",
     "text": [
      "Epoch: 10/20...  Training Step: 37250...  Training loss: 1.5056...  0.1409 sec/batch\n",
      "Epoch: 10/20...  Training Step: 37300...  Training loss: 1.6067...  0.1023 sec/batch\n",
      "Epoch: 10/20...  Training Step: 37350...  Training loss: 1.6519...  0.1083 sec/batch\n",
      "Epoch: 10/20...  Training Step: 37400...  Training loss: 1.6280...  0.1037 sec/batch\n"
     ]
    },
    {
     "data": {
      "text/plain": [
       "'checkpoints/i37400_l128.ckpt'"
      ]
     },
     "execution_count": 50,
     "metadata": {},
     "output_type": "execute_result"
    },
    {
     "name": "stdout",
     "output_type": "stream",
     "text": [
      "Epoch: 10/20...  Training Step: 37450...  Training loss: 1.5362...  0.1071 sec/batch\n",
      "Epoch: 10/20...  Training Step: 37500...  Training loss: 1.6234...  0.1038 sec/batch\n",
      "Epoch: 10/20...  Training Step: 37550...  Training loss: 1.5184...  0.1043 sec/batch\n",
      "Epoch: 10/20...  Training Step: 37600...  Training loss: 1.3882...  0.1042 sec/batch\n"
     ]
    },
    {
     "data": {
      "text/plain": [
       "'checkpoints/i37600_l128.ckpt'"
      ]
     },
     "execution_count": 50,
     "metadata": {},
     "output_type": "execute_result"
    },
    {
     "name": "stdout",
     "output_type": "stream",
     "text": [
      "Epoch: 10/20...  Training Step: 37650...  Training loss: 1.5782...  0.1077 sec/batch\n",
      "Epoch: 10/20...  Training Step: 37700...  Training loss: 1.5868...  0.1291 sec/batch\n",
      "Epoch: 10/20...  Training Step: 37750...  Training loss: 1.5001...  0.1087 sec/batch\n",
      "Epoch: 10/20...  Training Step: 37800...  Training loss: 1.4894...  0.1233 sec/batch\n"
     ]
    },
    {
     "data": {
      "text/plain": [
       "'checkpoints/i37800_l128.ckpt'"
      ]
     },
     "execution_count": 50,
     "metadata": {},
     "output_type": "execute_result"
    },
    {
     "name": "stdout",
     "output_type": "stream",
     "text": [
      "Epoch: 10/20...  Training Step: 37850...  Training loss: 1.3143...  0.1102 sec/batch\n",
      "Epoch: 10/20...  Training Step: 37900...  Training loss: 1.4804...  0.1080 sec/batch\n",
      "Epoch: 10/20...  Training Step: 37950...  Training loss: 1.6161...  0.1146 sec/batch\n",
      "Epoch: 10/20...  Training Step: 38000...  Training loss: 1.4946...  0.1117 sec/batch\n"
     ]
    },
    {
     "data": {
      "text/plain": [
       "'checkpoints/i38000_l128.ckpt'"
      ]
     },
     "execution_count": 50,
     "metadata": {},
     "output_type": "execute_result"
    },
    {
     "name": "stdout",
     "output_type": "stream",
     "text": [
      "Epoch: 10/20...  Training Step: 38050...  Training loss: 1.4416...  0.1205 sec/batch\n",
      "Epoch: 10/20...  Training Step: 38100...  Training loss: 1.4952...  0.1068 sec/batch\n",
      "Epoch: 10/20...  Training Step: 38150...  Training loss: 1.6656...  0.1272 sec/batch\n",
      "Epoch: 10/20...  Training Step: 38200...  Training loss: 1.5085...  0.1142 sec/batch\n"
     ]
    },
    {
     "data": {
      "text/plain": [
       "'checkpoints/i38200_l128.ckpt'"
      ]
     },
     "execution_count": 50,
     "metadata": {},
     "output_type": "execute_result"
    },
    {
     "name": "stdout",
     "output_type": "stream",
     "text": [
      "Epoch: 10/20...  Training Step: 38250...  Training loss: 1.6341...  0.1041 sec/batch\n",
      "Epoch: 10/20...  Training Step: 38300...  Training loss: 1.4793...  0.1120 sec/batch\n",
      "Epoch: 10/20...  Training Step: 38350...  Training loss: 1.4076...  0.1076 sec/batch\n",
      "Epoch: 10/20...  Training Step: 38400...  Training loss: 1.5126...  0.1118 sec/batch\n"
     ]
    },
    {
     "data": {
      "text/plain": [
       "'checkpoints/i38400_l128.ckpt'"
      ]
     },
     "execution_count": 50,
     "metadata": {},
     "output_type": "execute_result"
    },
    {
     "name": "stdout",
     "output_type": "stream",
     "text": [
      "Epoch: 10/20...  Training Step: 38450...  Training loss: 1.4602...  0.1153 sec/batch\n",
      "Epoch: 10/20...  Training Step: 38500...  Training loss: 1.5232...  0.1100 sec/batch\n",
      "Epoch: 10/20...  Training Step: 38550...  Training loss: 1.6135...  0.1155 sec/batch\n",
      "Epoch: 10/20...  Training Step: 38600...  Training loss: 1.4908...  0.1093 sec/batch\n"
     ]
    },
    {
     "data": {
      "text/plain": [
       "'checkpoints/i38600_l128.ckpt'"
      ]
     },
     "execution_count": 50,
     "metadata": {},
     "output_type": "execute_result"
    },
    {
     "name": "stdout",
     "output_type": "stream",
     "text": [
      "Epoch: 10/20...  Training Step: 38650...  Training loss: 1.6769...  0.1023 sec/batch\n",
      "Epoch: 10/20...  Training Step: 38700...  Training loss: 1.4410...  0.1142 sec/batch\n",
      "Epoch: 10/20...  Training Step: 38750...  Training loss: 1.6773...  0.1134 sec/batch\n",
      "Epoch: 10/20...  Training Step: 38800...  Training loss: 1.5189...  0.1045 sec/batch\n"
     ]
    },
    {
     "data": {
      "text/plain": [
       "'checkpoints/i38800_l128.ckpt'"
      ]
     },
     "execution_count": 50,
     "metadata": {},
     "output_type": "execute_result"
    },
    {
     "name": "stdout",
     "output_type": "stream",
     "text": [
      "Epoch: 10/20...  Training Step: 38850...  Training loss: 1.4401...  0.1048 sec/batch\n",
      "Epoch: 10/20...  Training Step: 38900...  Training loss: 1.5155...  0.1064 sec/batch\n",
      "Epoch: 10/20...  Training Step: 38950...  Training loss: 1.6053...  0.1126 sec/batch\n",
      "Epoch: 10/20...  Training Step: 39000...  Training loss: 1.6583...  0.1053 sec/batch\n"
     ]
    },
    {
     "data": {
      "text/plain": [
       "'checkpoints/i39000_l128.ckpt'"
      ]
     },
     "execution_count": 50,
     "metadata": {},
     "output_type": "execute_result"
    },
    {
     "name": "stdout",
     "output_type": "stream",
     "text": [
      "Epoch: 10/20...  Training Step: 39050...  Training loss: 1.4784...  0.1063 sec/batch\n",
      "Epoch: 10/20...  Training Step: 39100...  Training loss: 1.4700...  0.1082 sec/batch\n",
      "Epoch: 10/20...  Training Step: 39150...  Training loss: 1.7492...  0.1039 sec/batch\n",
      "Epoch: 10/20...  Training Step: 39200...  Training loss: 1.5516...  0.1136 sec/batch\n"
     ]
    },
    {
     "data": {
      "text/plain": [
       "'checkpoints/i39200_l128.ckpt'"
      ]
     },
     "execution_count": 50,
     "metadata": {},
     "output_type": "execute_result"
    },
    {
     "name": "stdout",
     "output_type": "stream",
     "text": [
      "Epoch: 10/20...  Training Step: 39250...  Training loss: 1.5428...  0.1194 sec/batch\n",
      "Epoch: 10/20...  Training Step: 39300...  Training loss: 1.2814...  0.1331 sec/batch\n",
      "Epoch: 10/20...  Training Step: 39350...  Training loss: 1.5218...  0.1286 sec/batch\n",
      "Epoch: 10/20...  Training Step: 39400...  Training loss: 1.5785...  0.1140 sec/batch\n"
     ]
    },
    {
     "data": {
      "text/plain": [
       "'checkpoints/i39400_l128.ckpt'"
      ]
     },
     "execution_count": 50,
     "metadata": {},
     "output_type": "execute_result"
    },
    {
     "name": "stdout",
     "output_type": "stream",
     "text": [
      "Epoch: 10/20...  Training Step: 39450...  Training loss: 1.4804...  0.1181 sec/batch\n",
      "Epoch: 10/20...  Training Step: 39500...  Training loss: 1.5138...  0.1168 sec/batch\n",
      "Epoch: 10/20...  Training Step: 39550...  Training loss: 1.8741...  0.1146 sec/batch\n",
      "Epoch: 10/20...  Training Step: 39600...  Training loss: 1.6538...  0.1224 sec/batch\n"
     ]
    },
    {
     "data": {
      "text/plain": [
       "'checkpoints/i39600_l128.ckpt'"
      ]
     },
     "execution_count": 50,
     "metadata": {},
     "output_type": "execute_result"
    },
    {
     "name": "stdout",
     "output_type": "stream",
     "text": [
      "Epoch: 10/20...  Training Step: 39650...  Training loss: 1.8942...  0.1165 sec/batch\n",
      "Epoch: 10/20...  Training Step: 39700...  Training loss: 1.9061...  0.1523 sec/batch\n",
      "3970\n",
      "(1985000,)\n",
      "(10, 198500)\n",
      "Epoch: 11/20...  Training Step: 39750...  Training loss: 1.6868...  0.1125 sec/batch\n",
      "Epoch: 11/20...  Training Step: 39800...  Training loss: 1.4843...  0.1048 sec/batch\n"
     ]
    },
    {
     "data": {
      "text/plain": [
       "'checkpoints/i39800_l128.ckpt'"
      ]
     },
     "execution_count": 50,
     "metadata": {},
     "output_type": "execute_result"
    },
    {
     "name": "stdout",
     "output_type": "stream",
     "text": [
      "Epoch: 11/20...  Training Step: 39850...  Training loss: 1.3625...  0.1138 sec/batch\n",
      "Epoch: 11/20...  Training Step: 39900...  Training loss: 1.5638...  0.1067 sec/batch\n",
      "Epoch: 11/20...  Training Step: 39950...  Training loss: 1.5124...  0.1081 sec/batch\n",
      "Epoch: 11/20...  Training Step: 40000...  Training loss: 1.4665...  0.1056 sec/batch\n"
     ]
    },
    {
     "data": {
      "text/plain": [
       "'checkpoints/i40000_l128.ckpt'"
      ]
     },
     "execution_count": 50,
     "metadata": {},
     "output_type": "execute_result"
    },
    {
     "name": "stdout",
     "output_type": "stream",
     "text": [
      "Epoch: 11/20...  Training Step: 40050...  Training loss: 1.5321...  0.1069 sec/batch\n",
      "Epoch: 11/20...  Training Step: 40100...  Training loss: 1.5561...  0.1080 sec/batch\n",
      "Epoch: 11/20...  Training Step: 40150...  Training loss: 1.6257...  0.1090 sec/batch\n",
      "Epoch: 11/20...  Training Step: 40200...  Training loss: 1.6059...  0.1028 sec/batch\n"
     ]
    },
    {
     "data": {
      "text/plain": [
       "'checkpoints/i40200_l128.ckpt'"
      ]
     },
     "execution_count": 50,
     "metadata": {},
     "output_type": "execute_result"
    },
    {
     "name": "stdout",
     "output_type": "stream",
     "text": [
      "Epoch: 11/20...  Training Step: 40250...  Training loss: 1.3835...  0.1230 sec/batch\n",
      "Epoch: 11/20...  Training Step: 40300...  Training loss: 1.4618...  0.1143 sec/batch\n",
      "Epoch: 11/20...  Training Step: 40350...  Training loss: 1.3599...  0.1179 sec/batch\n",
      "Epoch: 11/20...  Training Step: 40400...  Training loss: 1.5092...  0.1264 sec/batch\n"
     ]
    },
    {
     "data": {
      "text/plain": [
       "'checkpoints/i40400_l128.ckpt'"
      ]
     },
     "execution_count": 50,
     "metadata": {},
     "output_type": "execute_result"
    },
    {
     "name": "stdout",
     "output_type": "stream",
     "text": [
      "Epoch: 11/20...  Training Step: 40450...  Training loss: 1.5080...  0.1189 sec/batch\n",
      "Epoch: 11/20...  Training Step: 40500...  Training loss: 1.5221...  0.1195 sec/batch\n",
      "Epoch: 11/20...  Training Step: 40550...  Training loss: 1.6914...  0.1285 sec/batch\n",
      "Epoch: 11/20...  Training Step: 40600...  Training loss: 1.5392...  0.1201 sec/batch\n"
     ]
    },
    {
     "data": {
      "text/plain": [
       "'checkpoints/i40600_l128.ckpt'"
      ]
     },
     "execution_count": 50,
     "metadata": {},
     "output_type": "execute_result"
    },
    {
     "name": "stdout",
     "output_type": "stream",
     "text": [
      "Epoch: 11/20...  Training Step: 40650...  Training loss: 1.5831...  0.1120 sec/batch\n",
      "Epoch: 11/20...  Training Step: 40700...  Training loss: 1.5658...  0.1030 sec/batch\n",
      "Epoch: 11/20...  Training Step: 40750...  Training loss: 1.5434...  0.1036 sec/batch\n",
      "Epoch: 11/20...  Training Step: 40800...  Training loss: 1.5052...  0.1036 sec/batch\n"
     ]
    },
    {
     "data": {
      "text/plain": [
       "'checkpoints/i40800_l128.ckpt'"
      ]
     },
     "execution_count": 50,
     "metadata": {},
     "output_type": "execute_result"
    },
    {
     "name": "stdout",
     "output_type": "stream",
     "text": [
      "Epoch: 11/20...  Training Step: 40850...  Training loss: 1.5343...  0.1062 sec/batch\n",
      "Epoch: 11/20...  Training Step: 40900...  Training loss: 1.5010...  0.1026 sec/batch\n",
      "Epoch: 11/20...  Training Step: 40950...  Training loss: 1.3594...  0.1029 sec/batch\n",
      "Epoch: 11/20...  Training Step: 41000...  Training loss: 1.5156...  0.1082 sec/batch\n"
     ]
    },
    {
     "data": {
      "text/plain": [
       "'checkpoints/i41000_l128.ckpt'"
      ]
     },
     "execution_count": 50,
     "metadata": {},
     "output_type": "execute_result"
    },
    {
     "name": "stdout",
     "output_type": "stream",
     "text": [
      "Epoch: 11/20...  Training Step: 41050...  Training loss: 1.3889...  0.1054 sec/batch\n",
      "Epoch: 11/20...  Training Step: 41100...  Training loss: 1.6293...  0.1020 sec/batch\n",
      "Epoch: 11/20...  Training Step: 41150...  Training loss: 1.5626...  0.1037 sec/batch\n",
      "Epoch: 11/20...  Training Step: 41200...  Training loss: 1.6199...  0.1081 sec/batch\n"
     ]
    },
    {
     "data": {
      "text/plain": [
       "'checkpoints/i41200_l128.ckpt'"
      ]
     },
     "execution_count": 50,
     "metadata": {},
     "output_type": "execute_result"
    },
    {
     "name": "stdout",
     "output_type": "stream",
     "text": [
      "Epoch: 11/20...  Training Step: 41250...  Training loss: 1.4753...  0.1054 sec/batch\n",
      "Epoch: 11/20...  Training Step: 41300...  Training loss: 1.5870...  0.1049 sec/batch\n",
      "Epoch: 11/20...  Training Step: 41350...  Training loss: 1.4545...  0.1029 sec/batch\n",
      "Epoch: 11/20...  Training Step: 41400...  Training loss: 1.5617...  0.1046 sec/batch\n"
     ]
    },
    {
     "data": {
      "text/plain": [
       "'checkpoints/i41400_l128.ckpt'"
      ]
     },
     "execution_count": 50,
     "metadata": {},
     "output_type": "execute_result"
    },
    {
     "name": "stdout",
     "output_type": "stream",
     "text": [
      "Epoch: 11/20...  Training Step: 41450...  Training loss: 1.5772...  0.1035 sec/batch\n",
      "Epoch: 11/20...  Training Step: 41500...  Training loss: 1.5840...  0.1037 sec/batch\n",
      "Epoch: 11/20...  Training Step: 41550...  Training loss: 1.6161...  0.1043 sec/batch\n",
      "Epoch: 11/20...  Training Step: 41600...  Training loss: 1.3355...  0.1028 sec/batch\n"
     ]
    },
    {
     "data": {
      "text/plain": [
       "'checkpoints/i41600_l128.ckpt'"
      ]
     },
     "execution_count": 50,
     "metadata": {},
     "output_type": "execute_result"
    },
    {
     "name": "stdout",
     "output_type": "stream",
     "text": [
      "Epoch: 11/20...  Training Step: 41650...  Training loss: 1.4351...  0.1050 sec/batch\n",
      "Epoch: 11/20...  Training Step: 41700...  Training loss: 1.5435...  0.1046 sec/batch\n",
      "Epoch: 11/20...  Training Step: 41750...  Training loss: 1.6427...  0.1021 sec/batch\n",
      "Epoch: 11/20...  Training Step: 41800...  Training loss: 1.5002...  0.1034 sec/batch\n"
     ]
    },
    {
     "data": {
      "text/plain": [
       "'checkpoints/i41800_l128.ckpt'"
      ]
     },
     "execution_count": 50,
     "metadata": {},
     "output_type": "execute_result"
    },
    {
     "name": "stdout",
     "output_type": "stream",
     "text": [
      "Epoch: 11/20...  Training Step: 41850...  Training loss: 1.5397...  0.1076 sec/batch\n",
      "Epoch: 11/20...  Training Step: 41900...  Training loss: 1.5446...  0.1048 sec/batch\n",
      "Epoch: 11/20...  Training Step: 41950...  Training loss: 1.5624...  0.1078 sec/batch\n",
      "Epoch: 11/20...  Training Step: 42000...  Training loss: 1.4228...  0.1021 sec/batch\n"
     ]
    },
    {
     "data": {
      "text/plain": [
       "'checkpoints/i42000_l128.ckpt'"
      ]
     },
     "execution_count": 50,
     "metadata": {},
     "output_type": "execute_result"
    },
    {
     "name": "stdout",
     "output_type": "stream",
     "text": [
      "Epoch: 11/20...  Training Step: 42050...  Training loss: 1.6308...  0.1022 sec/batch\n",
      "Epoch: 11/20...  Training Step: 42100...  Training loss: 1.6297...  0.1064 sec/batch\n",
      "Epoch: 11/20...  Training Step: 42150...  Training loss: 1.6173...  0.1034 sec/batch\n",
      "Epoch: 11/20...  Training Step: 42200...  Training loss: 1.5357...  0.1028 sec/batch\n"
     ]
    },
    {
     "data": {
      "text/plain": [
       "'checkpoints/i42200_l128.ckpt'"
      ]
     },
     "execution_count": 50,
     "metadata": {},
     "output_type": "execute_result"
    },
    {
     "name": "stdout",
     "output_type": "stream",
     "text": [
      "Epoch: 11/20...  Training Step: 42250...  Training loss: 1.5613...  0.1025 sec/batch\n",
      "Epoch: 11/20...  Training Step: 42300...  Training loss: 1.5030...  0.1048 sec/batch\n",
      "Epoch: 11/20...  Training Step: 42350...  Training loss: 1.6725...  0.1050 sec/batch\n",
      "Epoch: 11/20...  Training Step: 42400...  Training loss: 1.6407...  0.1033 sec/batch\n"
     ]
    },
    {
     "data": {
      "text/plain": [
       "'checkpoints/i42400_l128.ckpt'"
      ]
     },
     "execution_count": 50,
     "metadata": {},
     "output_type": "execute_result"
    },
    {
     "name": "stdout",
     "output_type": "stream",
     "text": [
      "Epoch: 11/20...  Training Step: 42450...  Training loss: 1.4304...  0.1026 sec/batch\n",
      "Epoch: 11/20...  Training Step: 42500...  Training loss: 1.4132...  0.1029 sec/batch\n",
      "Epoch: 11/20...  Training Step: 42550...  Training loss: 1.6888...  0.1037 sec/batch\n",
      "Epoch: 11/20...  Training Step: 42600...  Training loss: 1.3708...  0.1017 sec/batch\n"
     ]
    },
    {
     "data": {
      "text/plain": [
       "'checkpoints/i42600_l128.ckpt'"
      ]
     },
     "execution_count": 50,
     "metadata": {},
     "output_type": "execute_result"
    },
    {
     "name": "stdout",
     "output_type": "stream",
     "text": [
      "Epoch: 11/20...  Training Step: 42650...  Training loss: 1.3440...  0.1012 sec/batch\n",
      "Epoch: 11/20...  Training Step: 42700...  Training loss: 1.5374...  0.1029 sec/batch\n",
      "Epoch: 11/20...  Training Step: 42750...  Training loss: 1.6564...  0.1042 sec/batch\n",
      "Epoch: 11/20...  Training Step: 42800...  Training loss: 1.5335...  0.1038 sec/batch\n"
     ]
    },
    {
     "data": {
      "text/plain": [
       "'checkpoints/i42800_l128.ckpt'"
      ]
     },
     "execution_count": 50,
     "metadata": {},
     "output_type": "execute_result"
    },
    {
     "name": "stdout",
     "output_type": "stream",
     "text": [
      "Epoch: 11/20...  Training Step: 42850...  Training loss: 1.4115...  0.1071 sec/batch\n",
      "Epoch: 11/20...  Training Step: 42900...  Training loss: 1.7172...  0.1025 sec/batch\n",
      "Epoch: 11/20...  Training Step: 42950...  Training loss: 1.5846...  0.1020 sec/batch\n",
      "Epoch: 11/20...  Training Step: 43000...  Training loss: 1.5505...  0.1094 sec/batch\n"
     ]
    },
    {
     "data": {
      "text/plain": [
       "'checkpoints/i43000_l128.ckpt'"
      ]
     },
     "execution_count": 50,
     "metadata": {},
     "output_type": "execute_result"
    },
    {
     "name": "stdout",
     "output_type": "stream",
     "text": [
      "Epoch: 11/20...  Training Step: 43050...  Training loss: 1.4353...  0.1026 sec/batch\n",
      "Epoch: 11/20...  Training Step: 43100...  Training loss: 1.5241...  0.1061 sec/batch\n",
      "Epoch: 11/20...  Training Step: 43150...  Training loss: 1.5166...  0.1035 sec/batch\n",
      "Epoch: 11/20...  Training Step: 43200...  Training loss: 1.4888...  0.1188 sec/batch\n"
     ]
    },
    {
     "data": {
      "text/plain": [
       "'checkpoints/i43200_l128.ckpt'"
      ]
     },
     "execution_count": 50,
     "metadata": {},
     "output_type": "execute_result"
    },
    {
     "name": "stdout",
     "output_type": "stream",
     "text": [
      "Epoch: 11/20...  Training Step: 43250...  Training loss: 1.5998...  0.1087 sec/batch\n",
      "Epoch: 11/20...  Training Step: 43300...  Training loss: 1.5533...  0.1026 sec/batch\n",
      "Epoch: 11/20...  Training Step: 43350...  Training loss: 1.7832...  0.1105 sec/batch\n",
      "Epoch: 11/20...  Training Step: 43400...  Training loss: 1.4951...  0.1094 sec/batch\n"
     ]
    },
    {
     "data": {
      "text/plain": [
       "'checkpoints/i43400_l128.ckpt'"
      ]
     },
     "execution_count": 50,
     "metadata": {},
     "output_type": "execute_result"
    },
    {
     "name": "stdout",
     "output_type": "stream",
     "text": [
      "Epoch: 11/20...  Training Step: 43450...  Training loss: 1.6601...  0.1091 sec/batch\n",
      "Epoch: 11/20...  Training Step: 43500...  Training loss: 1.5143...  0.1276 sec/batch\n",
      "Epoch: 11/20...  Training Step: 43550...  Training loss: 1.5501...  0.1065 sec/batch\n",
      "Epoch: 11/20...  Training Step: 43600...  Training loss: 1.7067...  0.1126 sec/batch\n"
     ]
    },
    {
     "data": {
      "text/plain": [
       "'checkpoints/i43600_l128.ckpt'"
      ]
     },
     "execution_count": 50,
     "metadata": {},
     "output_type": "execute_result"
    },
    {
     "name": "stdout",
     "output_type": "stream",
     "text": [
      "Epoch: 11/20...  Training Step: 43650...  Training loss: 1.4828...  0.1083 sec/batch\n",
      "3970\n",
      "(1985000,)\n",
      "(10, 198500)\n",
      "Epoch: 12/20...  Training Step: 43700...  Training loss: 1.5361...  0.1112 sec/batch\n",
      "Epoch: 12/20...  Training Step: 43750...  Training loss: 1.5287...  0.1052 sec/batch\n",
      "Epoch: 12/20...  Training Step: 43800...  Training loss: 1.4832...  0.1096 sec/batch\n"
     ]
    },
    {
     "data": {
      "text/plain": [
       "'checkpoints/i43800_l128.ckpt'"
      ]
     },
     "execution_count": 50,
     "metadata": {},
     "output_type": "execute_result"
    },
    {
     "name": "stdout",
     "output_type": "stream",
     "text": [
      "Epoch: 12/20...  Training Step: 43850...  Training loss: 1.4327...  0.1031 sec/batch\n",
      "Epoch: 12/20...  Training Step: 43900...  Training loss: 1.4802...  0.1027 sec/batch\n",
      "Epoch: 12/20...  Training Step: 43950...  Training loss: 1.5412...  0.1040 sec/batch\n",
      "Epoch: 12/20...  Training Step: 44000...  Training loss: 1.5820...  0.1045 sec/batch\n"
     ]
    },
    {
     "data": {
      "text/plain": [
       "'checkpoints/i44000_l128.ckpt'"
      ]
     },
     "execution_count": 50,
     "metadata": {},
     "output_type": "execute_result"
    },
    {
     "name": "stdout",
     "output_type": "stream",
     "text": [
      "Epoch: 12/20...  Training Step: 44050...  Training loss: 1.5320...  0.1029 sec/batch\n",
      "Epoch: 12/20...  Training Step: 44100...  Training loss: 1.5345...  0.1009 sec/batch\n",
      "Epoch: 12/20...  Training Step: 44150...  Training loss: 1.6253...  0.1034 sec/batch\n",
      "Epoch: 12/20...  Training Step: 44200...  Training loss: 1.5097...  0.1486 sec/batch\n"
     ]
    },
    {
     "data": {
      "text/plain": [
       "'checkpoints/i44200_l128.ckpt'"
      ]
     },
     "execution_count": 50,
     "metadata": {},
     "output_type": "execute_result"
    },
    {
     "name": "stdout",
     "output_type": "stream",
     "text": [
      "Epoch: 12/20...  Training Step: 44250...  Training loss: 1.6869...  0.1580 sec/batch\n",
      "Epoch: 12/20...  Training Step: 44300...  Training loss: 1.6061...  0.1419 sec/batch\n",
      "Epoch: 12/20...  Training Step: 44350...  Training loss: 1.6562...  0.1069 sec/batch\n",
      "Epoch: 12/20...  Training Step: 44400...  Training loss: 1.4684...  0.1198 sec/batch\n"
     ]
    },
    {
     "data": {
      "text/plain": [
       "'checkpoints/i44400_l128.ckpt'"
      ]
     },
     "execution_count": 50,
     "metadata": {},
     "output_type": "execute_result"
    },
    {
     "name": "stdout",
     "output_type": "stream",
     "text": [
      "Epoch: 12/20...  Training Step: 44450...  Training loss: 1.6055...  0.1068 sec/batch\n",
      "Epoch: 12/20...  Training Step: 44500...  Training loss: 1.4296...  0.1046 sec/batch\n",
      "Epoch: 12/20...  Training Step: 44550...  Training loss: 1.4724...  0.1136 sec/batch\n",
      "Epoch: 12/20...  Training Step: 44600...  Training loss: 1.5452...  0.1257 sec/batch\n"
     ]
    },
    {
     "data": {
      "text/plain": [
       "'checkpoints/i44600_l128.ckpt'"
      ]
     },
     "execution_count": 50,
     "metadata": {},
     "output_type": "execute_result"
    },
    {
     "name": "stdout",
     "output_type": "stream",
     "text": [
      "Epoch: 12/20...  Training Step: 44650...  Training loss: 1.4691...  0.1059 sec/batch\n",
      "Epoch: 12/20...  Training Step: 44700...  Training loss: 1.4865...  0.1189 sec/batch\n",
      "Epoch: 12/20...  Training Step: 44750...  Training loss: 1.4719...  0.1095 sec/batch\n",
      "Epoch: 12/20...  Training Step: 44800...  Training loss: 1.3613...  0.1080 sec/batch\n"
     ]
    },
    {
     "data": {
      "text/plain": [
       "'checkpoints/i44800_l128.ckpt'"
      ]
     },
     "execution_count": 50,
     "metadata": {},
     "output_type": "execute_result"
    },
    {
     "name": "stdout",
     "output_type": "stream",
     "text": [
      "Epoch: 12/20...  Training Step: 44850...  Training loss: 1.5098...  0.1055 sec/batch\n",
      "Epoch: 12/20...  Training Step: 44900...  Training loss: 1.6729...  0.0999 sec/batch\n",
      "Epoch: 12/20...  Training Step: 44950...  Training loss: 1.4360...  0.0992 sec/batch\n",
      "Epoch: 12/20...  Training Step: 45000...  Training loss: 1.6008...  0.1032 sec/batch\n"
     ]
    },
    {
     "data": {
      "text/plain": [
       "'checkpoints/i45000_l128.ckpt'"
      ]
     },
     "execution_count": 50,
     "metadata": {},
     "output_type": "execute_result"
    },
    {
     "name": "stdout",
     "output_type": "stream",
     "text": [
      "Epoch: 12/20...  Training Step: 45050...  Training loss: 1.4534...  0.1286 sec/batch\n",
      "Epoch: 12/20...  Training Step: 45100...  Training loss: 1.6387...  0.0994 sec/batch\n",
      "Epoch: 12/20...  Training Step: 45150...  Training loss: 1.5358...  0.1039 sec/batch\n",
      "Epoch: 12/20...  Training Step: 45200...  Training loss: 1.6093...  0.1090 sec/batch\n"
     ]
    },
    {
     "data": {
      "text/plain": [
       "'checkpoints/i45200_l128.ckpt'"
      ]
     },
     "execution_count": 50,
     "metadata": {},
     "output_type": "execute_result"
    },
    {
     "name": "stdout",
     "output_type": "stream",
     "text": [
      "Epoch: 12/20...  Training Step: 45250...  Training loss: 1.5018...  0.1019 sec/batch\n",
      "Epoch: 12/20...  Training Step: 45300...  Training loss: 1.6302...  0.1008 sec/batch\n",
      "Epoch: 12/20...  Training Step: 45350...  Training loss: 1.5054...  0.1054 sec/batch\n",
      "Epoch: 12/20...  Training Step: 45400...  Training loss: 1.4345...  0.1054 sec/batch\n"
     ]
    },
    {
     "data": {
      "text/plain": [
       "'checkpoints/i45400_l128.ckpt'"
      ]
     },
     "execution_count": 50,
     "metadata": {},
     "output_type": "execute_result"
    },
    {
     "name": "stdout",
     "output_type": "stream",
     "text": [
      "Epoch: 12/20...  Training Step: 45450...  Training loss: 1.5093...  0.1023 sec/batch\n",
      "Epoch: 12/20...  Training Step: 45500...  Training loss: 1.5679...  0.1017 sec/batch\n",
      "Epoch: 12/20...  Training Step: 45550...  Training loss: 1.6171...  0.1023 sec/batch\n",
      "Epoch: 12/20...  Training Step: 45600...  Training loss: 1.5352...  0.1049 sec/batch\n"
     ]
    },
    {
     "data": {
      "text/plain": [
       "'checkpoints/i45600_l128.ckpt'"
      ]
     },
     "execution_count": 50,
     "metadata": {},
     "output_type": "execute_result"
    },
    {
     "name": "stdout",
     "output_type": "stream",
     "text": [
      "Epoch: 12/20...  Training Step: 45650...  Training loss: 1.4704...  0.1057 sec/batch\n",
      "Epoch: 12/20...  Training Step: 45700...  Training loss: 1.4106...  0.1159 sec/batch\n",
      "Epoch: 12/20...  Training Step: 45750...  Training loss: 1.4872...  0.1231 sec/batch\n",
      "Epoch: 12/20...  Training Step: 45800...  Training loss: 1.6506...  0.1100 sec/batch\n"
     ]
    },
    {
     "data": {
      "text/plain": [
       "'checkpoints/i45800_l128.ckpt'"
      ]
     },
     "execution_count": 50,
     "metadata": {},
     "output_type": "execute_result"
    },
    {
     "name": "stdout",
     "output_type": "stream",
     "text": [
      "Epoch: 12/20...  Training Step: 45850...  Training loss: 1.5813...  0.0996 sec/batch\n",
      "Epoch: 12/20...  Training Step: 45900...  Training loss: 1.5507...  0.0996 sec/batch\n",
      "Epoch: 12/20...  Training Step: 45950...  Training loss: 1.5173...  0.0962 sec/batch\n",
      "Epoch: 12/20...  Training Step: 46000...  Training loss: 1.4350...  0.0974 sec/batch\n"
     ]
    },
    {
     "data": {
      "text/plain": [
       "'checkpoints/i46000_l128.ckpt'"
      ]
     },
     "execution_count": 50,
     "metadata": {},
     "output_type": "execute_result"
    },
    {
     "name": "stdout",
     "output_type": "stream",
     "text": [
      "Epoch: 12/20...  Training Step: 46050...  Training loss: 1.6014...  0.1145 sec/batch\n",
      "Epoch: 12/20...  Training Step: 46100...  Training loss: 1.4529...  0.1015 sec/batch\n",
      "Epoch: 12/20...  Training Step: 46150...  Training loss: 1.5341...  0.1097 sec/batch\n",
      "Epoch: 12/20...  Training Step: 46200...  Training loss: 1.4768...  0.0966 sec/batch\n"
     ]
    },
    {
     "data": {
      "text/plain": [
       "'checkpoints/i46200_l128.ckpt'"
      ]
     },
     "execution_count": 50,
     "metadata": {},
     "output_type": "execute_result"
    },
    {
     "name": "stdout",
     "output_type": "stream",
     "text": [
      "Epoch: 12/20...  Training Step: 46250...  Training loss: 1.6026...  0.0968 sec/batch\n",
      "Epoch: 12/20...  Training Step: 46300...  Training loss: 1.6989...  0.0993 sec/batch\n",
      "Epoch: 12/20...  Training Step: 46350...  Training loss: 1.4171...  0.1008 sec/batch\n",
      "Epoch: 12/20...  Training Step: 46400...  Training loss: 1.5203...  0.1089 sec/batch\n"
     ]
    },
    {
     "data": {
      "text/plain": [
       "'checkpoints/i46400_l128.ckpt'"
      ]
     },
     "execution_count": 50,
     "metadata": {},
     "output_type": "execute_result"
    },
    {
     "name": "stdout",
     "output_type": "stream",
     "text": [
      "Epoch: 12/20...  Training Step: 46450...  Training loss: 1.5318...  0.1009 sec/batch\n",
      "Epoch: 12/20...  Training Step: 46500...  Training loss: 1.6134...  0.1032 sec/batch\n",
      "Epoch: 12/20...  Training Step: 46550...  Training loss: 1.5616...  0.0983 sec/batch\n",
      "Epoch: 12/20...  Training Step: 46600...  Training loss: 1.4385...  0.1002 sec/batch\n"
     ]
    },
    {
     "data": {
      "text/plain": [
       "'checkpoints/i46600_l128.ckpt'"
      ]
     },
     "execution_count": 50,
     "metadata": {},
     "output_type": "execute_result"
    },
    {
     "name": "stdout",
     "output_type": "stream",
     "text": [
      "Epoch: 12/20...  Training Step: 46650...  Training loss: 1.7900...  0.0964 sec/batch\n",
      "Epoch: 12/20...  Training Step: 46700...  Training loss: 1.5184...  0.1000 sec/batch\n",
      "Epoch: 12/20...  Training Step: 46750...  Training loss: 1.5458...  0.1297 sec/batch\n",
      "Epoch: 12/20...  Training Step: 46800...  Training loss: 1.5082...  0.0981 sec/batch\n"
     ]
    },
    {
     "data": {
      "text/plain": [
       "'checkpoints/i46800_l128.ckpt'"
      ]
     },
     "execution_count": 50,
     "metadata": {},
     "output_type": "execute_result"
    },
    {
     "name": "stdout",
     "output_type": "stream",
     "text": [
      "Epoch: 12/20...  Training Step: 46850...  Training loss: 1.4108...  0.1059 sec/batch\n",
      "Epoch: 12/20...  Training Step: 46900...  Training loss: 1.6182...  0.0998 sec/batch\n",
      "Epoch: 12/20...  Training Step: 46950...  Training loss: 1.3948...  0.0999 sec/batch\n",
      "Epoch: 12/20...  Training Step: 47000...  Training loss: 1.5596...  0.1001 sec/batch\n"
     ]
    },
    {
     "data": {
      "text/plain": [
       "'checkpoints/i47000_l128.ckpt'"
      ]
     },
     "execution_count": 50,
     "metadata": {},
     "output_type": "execute_result"
    },
    {
     "name": "stdout",
     "output_type": "stream",
     "text": [
      "Epoch: 12/20...  Training Step: 47050...  Training loss: 1.4534...  0.1130 sec/batch\n",
      "Epoch: 12/20...  Training Step: 47100...  Training loss: 1.4434...  0.1078 sec/batch\n",
      "Epoch: 12/20...  Training Step: 47150...  Training loss: 1.3581...  0.1152 sec/batch\n",
      "Epoch: 12/20...  Training Step: 47200...  Training loss: 1.4328...  0.1008 sec/batch\n"
     ]
    },
    {
     "data": {
      "text/plain": [
       "'checkpoints/i47200_l128.ckpt'"
      ]
     },
     "execution_count": 50,
     "metadata": {},
     "output_type": "execute_result"
    },
    {
     "name": "stdout",
     "output_type": "stream",
     "text": [
      "Epoch: 12/20...  Training Step: 47250...  Training loss: 1.4787...  0.1032 sec/batch\n",
      "Epoch: 12/20...  Training Step: 47300...  Training loss: 1.5692...  0.1005 sec/batch\n",
      "Epoch: 12/20...  Training Step: 47350...  Training loss: 1.7270...  0.1024 sec/batch\n",
      "Epoch: 12/20...  Training Step: 47400...  Training loss: 1.7409...  0.1022 sec/batch\n"
     ]
    },
    {
     "data": {
      "text/plain": [
       "'checkpoints/i47400_l128.ckpt'"
      ]
     },
     "execution_count": 50,
     "metadata": {},
     "output_type": "execute_result"
    },
    {
     "name": "stdout",
     "output_type": "stream",
     "text": [
      "Epoch: 12/20...  Training Step: 47450...  Training loss: 1.7462...  0.0999 sec/batch\n",
      "Epoch: 12/20...  Training Step: 47500...  Training loss: 1.5343...  0.1079 sec/batch\n",
      "Epoch: 12/20...  Training Step: 47550...  Training loss: 1.6206...  0.1011 sec/batch\n",
      "Epoch: 12/20...  Training Step: 47600...  Training loss: 1.6448...  0.1231 sec/batch\n"
     ]
    },
    {
     "data": {
      "text/plain": [
       "'checkpoints/i47600_l128.ckpt'"
      ]
     },
     "execution_count": 50,
     "metadata": {},
     "output_type": "execute_result"
    },
    {
     "name": "stdout",
     "output_type": "stream",
     "text": [
      "3970\n",
      "(1985000,)\n",
      "(10, 198500)\n",
      "Epoch: 13/20...  Training Step: 47650...  Training loss: 1.5858...  0.1094 sec/batch\n",
      "Epoch: 13/20...  Training Step: 47700...  Training loss: 1.5500...  0.1055 sec/batch\n",
      "Epoch: 13/20...  Training Step: 47750...  Training loss: 1.5702...  0.0988 sec/batch\n",
      "Epoch: 13/20...  Training Step: 47800...  Training loss: 1.7383...  0.1074 sec/batch\n"
     ]
    },
    {
     "data": {
      "text/plain": [
       "'checkpoints/i47800_l128.ckpt'"
      ]
     },
     "execution_count": 50,
     "metadata": {},
     "output_type": "execute_result"
    },
    {
     "name": "stdout",
     "output_type": "stream",
     "text": [
      "Epoch: 13/20...  Training Step: 47850...  Training loss: 1.4370...  0.1098 sec/batch\n",
      "Epoch: 13/20...  Training Step: 47900...  Training loss: 1.5230...  0.1086 sec/batch\n",
      "Epoch: 13/20...  Training Step: 47950...  Training loss: 1.6468...  0.0978 sec/batch\n",
      "Epoch: 13/20...  Training Step: 48000...  Training loss: 1.6306...  0.0966 sec/batch\n"
     ]
    },
    {
     "data": {
      "text/plain": [
       "'checkpoints/i48000_l128.ckpt'"
      ]
     },
     "execution_count": 50,
     "metadata": {},
     "output_type": "execute_result"
    },
    {
     "name": "stdout",
     "output_type": "stream",
     "text": [
      "Epoch: 13/20...  Training Step: 48050...  Training loss: 1.5183...  0.1008 sec/batch\n",
      "Epoch: 13/20...  Training Step: 48100...  Training loss: 1.6740...  0.0914 sec/batch\n",
      "Epoch: 13/20...  Training Step: 48150...  Training loss: 1.6331...  0.0947 sec/batch\n",
      "Epoch: 13/20...  Training Step: 48200...  Training loss: 1.5225...  0.0946 sec/batch\n"
     ]
    },
    {
     "data": {
      "text/plain": [
       "'checkpoints/i48200_l128.ckpt'"
      ]
     },
     "execution_count": 50,
     "metadata": {},
     "output_type": "execute_result"
    },
    {
     "name": "stdout",
     "output_type": "stream",
     "text": [
      "Epoch: 13/20...  Training Step: 48250...  Training loss: 1.5584...  0.1002 sec/batch\n",
      "Epoch: 13/20...  Training Step: 48300...  Training loss: 1.5263...  0.1126 sec/batch\n",
      "Epoch: 13/20...  Training Step: 48350...  Training loss: 1.5811...  0.1097 sec/batch\n",
      "Epoch: 13/20...  Training Step: 48400...  Training loss: 1.4453...  0.0926 sec/batch\n"
     ]
    },
    {
     "data": {
      "text/plain": [
       "'checkpoints/i48400_l128.ckpt'"
      ]
     },
     "execution_count": 50,
     "metadata": {},
     "output_type": "execute_result"
    },
    {
     "name": "stdout",
     "output_type": "stream",
     "text": [
      "Epoch: 13/20...  Training Step: 48450...  Training loss: 1.5036...  0.0944 sec/batch\n",
      "Epoch: 13/20...  Training Step: 48500...  Training loss: 1.6542...  0.0920 sec/batch\n",
      "Epoch: 13/20...  Training Step: 48550...  Training loss: 1.5693...  0.1006 sec/batch\n",
      "Epoch: 13/20...  Training Step: 48600...  Training loss: 1.5388...  0.0979 sec/batch\n"
     ]
    },
    {
     "data": {
      "text/plain": [
       "'checkpoints/i48600_l128.ckpt'"
      ]
     },
     "execution_count": 50,
     "metadata": {},
     "output_type": "execute_result"
    },
    {
     "name": "stdout",
     "output_type": "stream",
     "text": [
      "Epoch: 13/20...  Training Step: 48650...  Training loss: 1.6386...  0.1011 sec/batch\n",
      "Epoch: 13/20...  Training Step: 48700...  Training loss: 1.4777...  0.1046 sec/batch\n",
      "Epoch: 13/20...  Training Step: 48750...  Training loss: 1.4770...  0.0968 sec/batch\n",
      "Epoch: 13/20...  Training Step: 48800...  Training loss: 1.4039...  0.0940 sec/batch\n"
     ]
    },
    {
     "data": {
      "text/plain": [
       "'checkpoints/i48800_l128.ckpt'"
      ]
     },
     "execution_count": 50,
     "metadata": {},
     "output_type": "execute_result"
    },
    {
     "name": "stdout",
     "output_type": "stream",
     "text": [
      "Epoch: 13/20...  Training Step: 48850...  Training loss: 1.5334...  0.0954 sec/batch\n",
      "Epoch: 13/20...  Training Step: 48900...  Training loss: 1.4989...  0.1125 sec/batch\n",
      "Epoch: 13/20...  Training Step: 48950...  Training loss: 1.5905...  0.0940 sec/batch\n",
      "Epoch: 13/20...  Training Step: 49000...  Training loss: 1.4270...  0.0976 sec/batch\n"
     ]
    },
    {
     "data": {
      "text/plain": [
       "'checkpoints/i49000_l128.ckpt'"
      ]
     },
     "execution_count": 50,
     "metadata": {},
     "output_type": "execute_result"
    },
    {
     "name": "stdout",
     "output_type": "stream",
     "text": [
      "Epoch: 13/20...  Training Step: 49050...  Training loss: 1.5439...  0.0924 sec/batch\n",
      "Epoch: 13/20...  Training Step: 49100...  Training loss: 1.5970...  0.1096 sec/batch\n",
      "Epoch: 13/20...  Training Step: 49150...  Training loss: 1.5177...  0.1257 sec/batch\n",
      "Epoch: 13/20...  Training Step: 49200...  Training loss: 1.5998...  0.1184 sec/batch\n"
     ]
    },
    {
     "data": {
      "text/plain": [
       "'checkpoints/i49200_l128.ckpt'"
      ]
     },
     "execution_count": 50,
     "metadata": {},
     "output_type": "execute_result"
    },
    {
     "name": "stdout",
     "output_type": "stream",
     "text": [
      "Epoch: 13/20...  Training Step: 49250...  Training loss: 1.6150...  0.1007 sec/batch\n",
      "Epoch: 13/20...  Training Step: 49300...  Training loss: 1.4367...  0.1123 sec/batch\n",
      "Epoch: 13/20...  Training Step: 49350...  Training loss: 1.5020...  0.1032 sec/batch\n",
      "Epoch: 13/20...  Training Step: 49400...  Training loss: 1.4849...  0.1145 sec/batch\n"
     ]
    },
    {
     "data": {
      "text/plain": [
       "'checkpoints/i49400_l128.ckpt'"
      ]
     },
     "execution_count": 50,
     "metadata": {},
     "output_type": "execute_result"
    },
    {
     "name": "stdout",
     "output_type": "stream",
     "text": [
      "Epoch: 13/20...  Training Step: 49450...  Training loss: 1.3565...  0.1085 sec/batch\n",
      "Epoch: 13/20...  Training Step: 49500...  Training loss: 1.5987...  0.0978 sec/batch\n",
      "Epoch: 13/20...  Training Step: 49550...  Training loss: 1.4917...  0.1046 sec/batch\n",
      "Epoch: 13/20...  Training Step: 49600...  Training loss: 1.5524...  0.0911 sec/batch\n"
     ]
    },
    {
     "data": {
      "text/plain": [
       "'checkpoints/i49600_l128.ckpt'"
      ]
     },
     "execution_count": 50,
     "metadata": {},
     "output_type": "execute_result"
    },
    {
     "name": "stdout",
     "output_type": "stream",
     "text": [
      "Epoch: 13/20...  Training Step: 49650...  Training loss: 1.5861...  0.0913 sec/batch\n",
      "Epoch: 13/20...  Training Step: 49700...  Training loss: 1.4613...  0.0879 sec/batch\n",
      "Epoch: 13/20...  Training Step: 49750...  Training loss: 1.5372...  0.0881 sec/batch\n",
      "Epoch: 13/20...  Training Step: 49800...  Training loss: 1.5283...  0.0883 sec/batch\n"
     ]
    },
    {
     "data": {
      "text/plain": [
       "'checkpoints/i49800_l128.ckpt'"
      ]
     },
     "execution_count": 50,
     "metadata": {},
     "output_type": "execute_result"
    },
    {
     "name": "stdout",
     "output_type": "stream",
     "text": [
      "Epoch: 13/20...  Training Step: 49850...  Training loss: 1.6426...  0.0882 sec/batch\n",
      "Epoch: 13/20...  Training Step: 49900...  Training loss: 1.6529...  0.0883 sec/batch\n",
      "Epoch: 13/20...  Training Step: 49950...  Training loss: 1.4960...  0.0907 sec/batch\n",
      "Epoch: 13/20...  Training Step: 50000...  Training loss: 1.6656...  0.0881 sec/batch\n"
     ]
    },
    {
     "data": {
      "text/plain": [
       "'checkpoints/i50000_l128.ckpt'"
      ]
     },
     "execution_count": 50,
     "metadata": {},
     "output_type": "execute_result"
    },
    {
     "name": "stdout",
     "output_type": "stream",
     "text": [
      "Epoch: 13/20...  Training Step: 50050...  Training loss: 1.4987...  0.0922 sec/batch\n",
      "Epoch: 13/20...  Training Step: 50100...  Training loss: 1.6082...  0.0907 sec/batch\n",
      "Epoch: 13/20...  Training Step: 50150...  Training loss: 1.6245...  0.0934 sec/batch\n",
      "Epoch: 13/20...  Training Step: 50200...  Training loss: 1.3352...  0.0896 sec/batch\n"
     ]
    },
    {
     "data": {
      "text/plain": [
       "'checkpoints/i50200_l128.ckpt'"
      ]
     },
     "execution_count": 50,
     "metadata": {},
     "output_type": "execute_result"
    },
    {
     "name": "stdout",
     "output_type": "stream",
     "text": [
      "Epoch: 13/20...  Training Step: 50250...  Training loss: 1.5876...  0.1003 sec/batch\n",
      "Epoch: 13/20...  Training Step: 50300...  Training loss: 1.6421...  0.0940 sec/batch\n",
      "Epoch: 13/20...  Training Step: 50350...  Training loss: 1.4616...  0.0928 sec/batch\n",
      "Epoch: 13/20...  Training Step: 50400...  Training loss: 1.5796...  0.0966 sec/batch\n"
     ]
    },
    {
     "data": {
      "text/plain": [
       "'checkpoints/i50400_l128.ckpt'"
      ]
     },
     "execution_count": 50,
     "metadata": {},
     "output_type": "execute_result"
    },
    {
     "name": "stdout",
     "output_type": "stream",
     "text": [
      "Epoch: 13/20...  Training Step: 50450...  Training loss: 1.6250...  0.0927 sec/batch\n",
      "Epoch: 13/20...  Training Step: 50500...  Training loss: 1.4217...  0.0930 sec/batch\n",
      "Epoch: 13/20...  Training Step: 50550...  Training loss: 1.4782...  0.0931 sec/batch\n",
      "Epoch: 13/20...  Training Step: 50600...  Training loss: 1.6038...  0.0879 sec/batch\n"
     ]
    },
    {
     "data": {
      "text/plain": [
       "'checkpoints/i50600_l128.ckpt'"
      ]
     },
     "execution_count": 50,
     "metadata": {},
     "output_type": "execute_result"
    },
    {
     "name": "stdout",
     "output_type": "stream",
     "text": [
      "Epoch: 13/20...  Training Step: 50650...  Training loss: 1.6252...  0.0888 sec/batch\n",
      "Epoch: 13/20...  Training Step: 50700...  Training loss: 1.4896...  0.0888 sec/batch\n",
      "Epoch: 13/20...  Training Step: 50750...  Training loss: 1.5264...  0.0899 sec/batch\n",
      "Epoch: 13/20...  Training Step: 50800...  Training loss: 1.4601...  0.0925 sec/batch\n"
     ]
    },
    {
     "data": {
      "text/plain": [
       "'checkpoints/i50800_l128.ckpt'"
      ]
     },
     "execution_count": 50,
     "metadata": {},
     "output_type": "execute_result"
    },
    {
     "name": "stdout",
     "output_type": "stream",
     "text": [
      "Epoch: 13/20...  Training Step: 50850...  Training loss: 1.4196...  0.0910 sec/batch\n",
      "Epoch: 13/20...  Training Step: 50900...  Training loss: 1.5162...  0.0909 sec/batch\n",
      "Epoch: 13/20...  Training Step: 50950...  Training loss: 1.5756...  0.0908 sec/batch\n",
      "Epoch: 13/20...  Training Step: 51000...  Training loss: 1.4564...  0.0882 sec/batch\n"
     ]
    },
    {
     "data": {
      "text/plain": [
       "'checkpoints/i51000_l128.ckpt'"
      ]
     },
     "execution_count": 50,
     "metadata": {},
     "output_type": "execute_result"
    },
    {
     "name": "stdout",
     "output_type": "stream",
     "text": [
      "Epoch: 13/20...  Training Step: 51050...  Training loss: 1.5208...  0.0900 sec/batch\n",
      "Epoch: 13/20...  Training Step: 51100...  Training loss: 1.4737...  0.0858 sec/batch\n",
      "Epoch: 13/20...  Training Step: 51150...  Training loss: 1.5458...  0.0864 sec/batch\n",
      "Epoch: 13/20...  Training Step: 51200...  Training loss: 1.5315...  0.0900 sec/batch\n"
     ]
    },
    {
     "data": {
      "text/plain": [
       "'checkpoints/i51200_l128.ckpt'"
      ]
     },
     "execution_count": 50,
     "metadata": {},
     "output_type": "execute_result"
    },
    {
     "name": "stdout",
     "output_type": "stream",
     "text": [
      "Epoch: 13/20...  Training Step: 51250...  Training loss: 1.6419...  0.0903 sec/batch\n",
      "Epoch: 13/20...  Training Step: 51300...  Training loss: 1.6976...  0.0908 sec/batch\n",
      "Epoch: 13/20...  Training Step: 51350...  Training loss: 1.5287...  0.0914 sec/batch\n",
      "Epoch: 13/20...  Training Step: 51400...  Training loss: 1.4790...  0.0894 sec/batch\n"
     ]
    },
    {
     "data": {
      "text/plain": [
       "'checkpoints/i51400_l128.ckpt'"
      ]
     },
     "execution_count": 50,
     "metadata": {},
     "output_type": "execute_result"
    },
    {
     "name": "stdout",
     "output_type": "stream",
     "text": [
      "Epoch: 13/20...  Training Step: 51450...  Training loss: 1.6866...  0.0905 sec/batch\n",
      "Epoch: 13/20...  Training Step: 51500...  Training loss: 1.5698...  0.0913 sec/batch\n",
      "Epoch: 13/20...  Training Step: 51550...  Training loss: 1.8234...  0.1248 sec/batch\n",
      "Epoch: 13/20...  Training Step: 51600...  Training loss: 1.5633...  0.0940 sec/batch\n"
     ]
    },
    {
     "data": {
      "text/plain": [
       "'checkpoints/i51600_l128.ckpt'"
      ]
     },
     "execution_count": 50,
     "metadata": {},
     "output_type": "execute_result"
    },
    {
     "name": "stdout",
     "output_type": "stream",
     "text": [
      "3970\n",
      "(1985000,)\n",
      "(10, 198500)\n",
      "Epoch: 14/20...  Training Step: 51650...  Training loss: 1.6666...  0.0804 sec/batch\n",
      "Epoch: 14/20...  Training Step: 51700...  Training loss: 1.5549...  0.0872 sec/batch\n",
      "Epoch: 14/20...  Training Step: 51750...  Training loss: 1.5326...  0.0981 sec/batch\n",
      "Epoch: 14/20...  Training Step: 51800...  Training loss: 1.4819...  0.0888 sec/batch\n"
     ]
    },
    {
     "data": {
      "text/plain": [
       "'checkpoints/i51800_l128.ckpt'"
      ]
     },
     "execution_count": 50,
     "metadata": {},
     "output_type": "execute_result"
    },
    {
     "name": "stdout",
     "output_type": "stream",
     "text": [
      "Epoch: 14/20...  Training Step: 51850...  Training loss: 1.5842...  0.0787 sec/batch\n",
      "Epoch: 14/20...  Training Step: 51900...  Training loss: 1.4556...  0.1944 sec/batch\n",
      "Epoch: 14/20...  Training Step: 51950...  Training loss: 1.5781...  0.1542 sec/batch\n",
      "Epoch: 14/20...  Training Step: 52000...  Training loss: 1.4863...  0.0812 sec/batch\n"
     ]
    },
    {
     "data": {
      "text/plain": [
       "'checkpoints/i52000_l128.ckpt'"
      ]
     },
     "execution_count": 50,
     "metadata": {},
     "output_type": "execute_result"
    },
    {
     "name": "stdout",
     "output_type": "stream",
     "text": [
      "Epoch: 14/20...  Training Step: 52050...  Training loss: 1.5803...  0.2088 sec/batch\n",
      "Epoch: 14/20...  Training Step: 52100...  Training loss: 1.5501...  0.0834 sec/batch\n",
      "Epoch: 14/20...  Training Step: 52150...  Training loss: 1.3672...  0.2088 sec/batch\n",
      "Epoch: 14/20...  Training Step: 52200...  Training loss: 1.6560...  0.1809 sec/batch\n"
     ]
    },
    {
     "data": {
      "text/plain": [
       "'checkpoints/i52200_l128.ckpt'"
      ]
     },
     "execution_count": 50,
     "metadata": {},
     "output_type": "execute_result"
    },
    {
     "name": "stdout",
     "output_type": "stream",
     "text": [
      "Epoch: 14/20...  Training Step: 52250...  Training loss: 1.4289...  0.1776 sec/batch\n",
      "Epoch: 14/20...  Training Step: 52300...  Training loss: 1.4939...  0.1725 sec/batch\n",
      "Epoch: 14/20...  Training Step: 52350...  Training loss: 1.4583...  0.1908 sec/batch\n",
      "Epoch: 14/20...  Training Step: 52400...  Training loss: 1.5207...  0.1761 sec/batch\n"
     ]
    },
    {
     "data": {
      "text/plain": [
       "'checkpoints/i52400_l128.ckpt'"
      ]
     },
     "execution_count": 50,
     "metadata": {},
     "output_type": "execute_result"
    },
    {
     "name": "stdout",
     "output_type": "stream",
     "text": [
      "Epoch: 14/20...  Training Step: 52450...  Training loss: 1.4839...  0.1802 sec/batch\n",
      "Epoch: 14/20...  Training Step: 52500...  Training loss: 1.5183...  0.1883 sec/batch\n",
      "Epoch: 14/20...  Training Step: 52550...  Training loss: 1.3985...  0.1842 sec/batch\n",
      "Epoch: 14/20...  Training Step: 52600...  Training loss: 1.4673...  0.1737 sec/batch\n"
     ]
    },
    {
     "data": {
      "text/plain": [
       "'checkpoints/i52600_l128.ckpt'"
      ]
     },
     "execution_count": 50,
     "metadata": {},
     "output_type": "execute_result"
    },
    {
     "name": "stdout",
     "output_type": "stream",
     "text": [
      "Epoch: 14/20...  Training Step: 52650...  Training loss: 1.5131...  0.2123 sec/batch\n",
      "Epoch: 14/20...  Training Step: 52700...  Training loss: 1.6784...  0.2002 sec/batch\n",
      "Epoch: 14/20...  Training Step: 52750...  Training loss: 1.6834...  0.1808 sec/batch\n",
      "Epoch: 14/20...  Training Step: 52800...  Training loss: 1.4468...  0.2358 sec/batch\n"
     ]
    },
    {
     "data": {
      "text/plain": [
       "'checkpoints/i52800_l128.ckpt'"
      ]
     },
     "execution_count": 50,
     "metadata": {},
     "output_type": "execute_result"
    },
    {
     "name": "stdout",
     "output_type": "stream",
     "text": [
      "Epoch: 14/20...  Training Step: 52850...  Training loss: 1.4359...  0.2442 sec/batch\n",
      "Epoch: 14/20...  Training Step: 52900...  Training loss: 1.6884...  0.2194 sec/batch\n",
      "Epoch: 14/20...  Training Step: 52950...  Training loss: 1.4537...  0.2220 sec/batch\n",
      "Epoch: 14/20...  Training Step: 53000...  Training loss: 1.5544...  0.1974 sec/batch\n"
     ]
    },
    {
     "data": {
      "text/plain": [
       "'checkpoints/i53000_l128.ckpt'"
      ]
     },
     "execution_count": 50,
     "metadata": {},
     "output_type": "execute_result"
    },
    {
     "name": "stdout",
     "output_type": "stream",
     "text": [
      "Epoch: 14/20...  Training Step: 53050...  Training loss: 1.3996...  0.1781 sec/batch\n",
      "Epoch: 14/20...  Training Step: 53100...  Training loss: 1.5731...  0.1721 sec/batch\n",
      "Epoch: 14/20...  Training Step: 53150...  Training loss: 1.6010...  0.1772 sec/batch\n",
      "Epoch: 14/20...  Training Step: 53200...  Training loss: 1.5615...  0.2232 sec/batch\n"
     ]
    },
    {
     "data": {
      "text/plain": [
       "'checkpoints/i53200_l128.ckpt'"
      ]
     },
     "execution_count": 50,
     "metadata": {},
     "output_type": "execute_result"
    },
    {
     "name": "stdout",
     "output_type": "stream",
     "text": [
      "Epoch: 14/20...  Training Step: 53250...  Training loss: 1.6030...  0.2283 sec/batch\n",
      "Epoch: 14/20...  Training Step: 53300...  Training loss: 1.4904...  0.1843 sec/batch\n",
      "Epoch: 14/20...  Training Step: 53350...  Training loss: 1.4770...  0.1879 sec/batch\n",
      "Epoch: 14/20...  Training Step: 53400...  Training loss: 1.4792...  0.2133 sec/batch\n"
     ]
    },
    {
     "data": {
      "text/plain": [
       "'checkpoints/i53400_l128.ckpt'"
      ]
     },
     "execution_count": 50,
     "metadata": {},
     "output_type": "execute_result"
    },
    {
     "name": "stdout",
     "output_type": "stream",
     "text": [
      "Epoch: 14/20...  Training Step: 53450...  Training loss: 1.5248...  0.2341 sec/batch\n",
      "Epoch: 14/20...  Training Step: 53500...  Training loss: 1.5220...  0.1900 sec/batch\n",
      "Epoch: 14/20...  Training Step: 53550...  Training loss: 1.7398...  0.2415 sec/batch\n",
      "Epoch: 14/20...  Training Step: 53600...  Training loss: 1.6144...  0.1978 sec/batch\n"
     ]
    },
    {
     "data": {
      "text/plain": [
       "'checkpoints/i53600_l128.ckpt'"
      ]
     },
     "execution_count": 50,
     "metadata": {},
     "output_type": "execute_result"
    },
    {
     "name": "stdout",
     "output_type": "stream",
     "text": [
      "Epoch: 14/20...  Training Step: 53650...  Training loss: 1.5368...  0.1747 sec/batch\n",
      "Epoch: 14/20...  Training Step: 53700...  Training loss: 1.5122...  0.1771 sec/batch\n",
      "Epoch: 14/20...  Training Step: 53750...  Training loss: 1.5459...  0.2542 sec/batch\n",
      "Epoch: 14/20...  Training Step: 53800...  Training loss: 1.4844...  0.2248 sec/batch\n"
     ]
    },
    {
     "data": {
      "text/plain": [
       "'checkpoints/i53800_l128.ckpt'"
      ]
     },
     "execution_count": 50,
     "metadata": {},
     "output_type": "execute_result"
    },
    {
     "name": "stdout",
     "output_type": "stream",
     "text": [
      "Epoch: 14/20...  Training Step: 53850...  Training loss: 1.7746...  0.1802 sec/batch\n",
      "Epoch: 14/20...  Training Step: 53900...  Training loss: 1.5496...  0.1948 sec/batch\n",
      "Epoch: 14/20...  Training Step: 53950...  Training loss: 1.6379...  0.1782 sec/batch\n",
      "Epoch: 14/20...  Training Step: 54000...  Training loss: 1.6010...  0.1950 sec/batch\n"
     ]
    },
    {
     "data": {
      "text/plain": [
       "'checkpoints/i54000_l128.ckpt'"
      ]
     },
     "execution_count": 50,
     "metadata": {},
     "output_type": "execute_result"
    },
    {
     "name": "stdout",
     "output_type": "stream",
     "text": [
      "Epoch: 14/20...  Training Step: 54050...  Training loss: 1.5086...  0.1837 sec/batch\n",
      "Epoch: 14/20...  Training Step: 54100...  Training loss: 1.5952...  0.1756 sec/batch\n",
      "Epoch: 14/20...  Training Step: 54150...  Training loss: 1.6216...  0.2153 sec/batch\n",
      "Epoch: 14/20...  Training Step: 54200...  Training loss: 1.5779...  0.1833 sec/batch\n"
     ]
    },
    {
     "data": {
      "text/plain": [
       "'checkpoints/i54200_l128.ckpt'"
      ]
     },
     "execution_count": 50,
     "metadata": {},
     "output_type": "execute_result"
    },
    {
     "name": "stdout",
     "output_type": "stream",
     "text": [
      "Epoch: 14/20...  Training Step: 54250...  Training loss: 1.5300...  0.2428 sec/batch\n",
      "Epoch: 14/20...  Training Step: 54300...  Training loss: 1.5707...  0.2077 sec/batch\n",
      "Epoch: 14/20...  Training Step: 54350...  Training loss: 1.4338...  0.2153 sec/batch\n",
      "Epoch: 14/20...  Training Step: 54400...  Training loss: 1.4156...  0.1846 sec/batch\n"
     ]
    },
    {
     "data": {
      "text/plain": [
       "'checkpoints/i54400_l128.ckpt'"
      ]
     },
     "execution_count": 50,
     "metadata": {},
     "output_type": "execute_result"
    },
    {
     "name": "stdout",
     "output_type": "stream",
     "text": [
      "Epoch: 14/20...  Training Step: 54450...  Training loss: 1.5995...  0.1810 sec/batch\n",
      "Epoch: 14/20...  Training Step: 54500...  Training loss: 1.4128...  0.1885 sec/batch\n",
      "Epoch: 14/20...  Training Step: 54550...  Training loss: 1.5873...  0.1902 sec/batch\n",
      "Epoch: 14/20...  Training Step: 54600...  Training loss: 1.5411...  0.2340 sec/batch\n"
     ]
    },
    {
     "data": {
      "text/plain": [
       "'checkpoints/i54600_l128.ckpt'"
      ]
     },
     "execution_count": 50,
     "metadata": {},
     "output_type": "execute_result"
    },
    {
     "name": "stdout",
     "output_type": "stream",
     "text": [
      "Epoch: 14/20...  Training Step: 54650...  Training loss: 1.6523...  0.2679 sec/batch\n",
      "Epoch: 14/20...  Training Step: 54700...  Training loss: 1.4508...  0.1755 sec/batch\n",
      "Epoch: 14/20...  Training Step: 54750...  Training loss: 1.6948...  0.1757 sec/batch\n",
      "Epoch: 14/20...  Training Step: 54800...  Training loss: 1.4144...  0.2135 sec/batch\n"
     ]
    },
    {
     "data": {
      "text/plain": [
       "'checkpoints/i54800_l128.ckpt'"
      ]
     },
     "execution_count": 50,
     "metadata": {},
     "output_type": "execute_result"
    },
    {
     "name": "stdout",
     "output_type": "stream",
     "text": [
      "Epoch: 14/20...  Training Step: 54850...  Training loss: 1.5058...  0.2306 sec/batch\n",
      "Epoch: 14/20...  Training Step: 54900...  Training loss: 1.6531...  0.1814 sec/batch\n",
      "Epoch: 14/20...  Training Step: 54950...  Training loss: 1.5484...  0.1789 sec/batch\n",
      "Epoch: 14/20...  Training Step: 55000...  Training loss: 1.5429...  0.1786 sec/batch\n"
     ]
    },
    {
     "data": {
      "text/plain": [
       "'checkpoints/i55000_l128.ckpt'"
      ]
     },
     "execution_count": 50,
     "metadata": {},
     "output_type": "execute_result"
    },
    {
     "name": "stdout",
     "output_type": "stream",
     "text": [
      "Epoch: 14/20...  Training Step: 55050...  Training loss: 1.5916...  0.0802 sec/batch\n",
      "Epoch: 14/20...  Training Step: 55100...  Training loss: 1.6753...  0.0805 sec/batch\n",
      "Epoch: 14/20...  Training Step: 55150...  Training loss: 1.5313...  0.0878 sec/batch\n",
      "Epoch: 14/20...  Training Step: 55200...  Training loss: 1.4678...  0.0865 sec/batch\n"
     ]
    },
    {
     "data": {
      "text/plain": [
       "'checkpoints/i55200_l128.ckpt'"
      ]
     },
     "execution_count": 50,
     "metadata": {},
     "output_type": "execute_result"
    },
    {
     "name": "stdout",
     "output_type": "stream",
     "text": [
      "Epoch: 14/20...  Training Step: 55250...  Training loss: 1.4551...  0.0894 sec/batch\n",
      "Epoch: 14/20...  Training Step: 55300...  Training loss: 1.4945...  0.0920 sec/batch\n",
      "Epoch: 14/20...  Training Step: 55350...  Training loss: 1.5393...  0.0918 sec/batch\n",
      "Epoch: 14/20...  Training Step: 55400...  Training loss: 1.4639...  0.0912 sec/batch\n"
     ]
    },
    {
     "data": {
      "text/plain": [
       "'checkpoints/i55400_l128.ckpt'"
      ]
     },
     "execution_count": 50,
     "metadata": {},
     "output_type": "execute_result"
    },
    {
     "name": "stdout",
     "output_type": "stream",
     "text": [
      "Epoch: 14/20...  Training Step: 55450...  Training loss: 1.6608...  0.0890 sec/batch\n",
      "Epoch: 14/20...  Training Step: 55500...  Training loss: 1.6359...  0.0900 sec/batch\n",
      "Epoch: 14/20...  Training Step: 55550...  Training loss: 1.5639...  0.0918 sec/batch\n",
      "3970\n",
      "(1985000,)\n",
      "(10, 198500)\n",
      "Epoch: 15/20...  Training Step: 55600...  Training loss: 1.6687...  0.0920 sec/batch\n"
     ]
    },
    {
     "data": {
      "text/plain": [
       "'checkpoints/i55600_l128.ckpt'"
      ]
     },
     "execution_count": 50,
     "metadata": {},
     "output_type": "execute_result"
    },
    {
     "name": "stdout",
     "output_type": "stream",
     "text": [
      "Epoch: 15/20...  Training Step: 55650...  Training loss: 1.4820...  0.0923 sec/batch\n",
      "Epoch: 15/20...  Training Step: 55700...  Training loss: 1.4806...  0.0951 sec/batch\n",
      "Epoch: 15/20...  Training Step: 55750...  Training loss: 1.5492...  0.0949 sec/batch\n",
      "Epoch: 15/20...  Training Step: 55800...  Training loss: 1.4908...  0.0926 sec/batch\n"
     ]
    },
    {
     "data": {
      "text/plain": [
       "'checkpoints/i55800_l128.ckpt'"
      ]
     },
     "execution_count": 50,
     "metadata": {},
     "output_type": "execute_result"
    },
    {
     "name": "stdout",
     "output_type": "stream",
     "text": [
      "Epoch: 15/20...  Training Step: 55850...  Training loss: 1.5858...  0.0937 sec/batch\n",
      "Epoch: 15/20...  Training Step: 55900...  Training loss: 1.5823...  0.0917 sec/batch\n",
      "Epoch: 15/20...  Training Step: 55950...  Training loss: 1.6740...  0.0942 sec/batch\n",
      "Epoch: 15/20...  Training Step: 56000...  Training loss: 1.5447...  0.0915 sec/batch\n"
     ]
    },
    {
     "data": {
      "text/plain": [
       "'checkpoints/i56000_l128.ckpt'"
      ]
     },
     "execution_count": 50,
     "metadata": {},
     "output_type": "execute_result"
    },
    {
     "name": "stdout",
     "output_type": "stream",
     "text": [
      "Epoch: 15/20...  Training Step: 56050...  Training loss: 1.5603...  0.0965 sec/batch\n",
      "Epoch: 15/20...  Training Step: 56100...  Training loss: 1.4536...  0.0944 sec/batch\n",
      "Epoch: 15/20...  Training Step: 56150...  Training loss: 1.5684...  0.0916 sec/batch\n",
      "Epoch: 15/20...  Training Step: 56200...  Training loss: 1.3691...  0.0933 sec/batch\n"
     ]
    },
    {
     "data": {
      "text/plain": [
       "'checkpoints/i56200_l128.ckpt'"
      ]
     },
     "execution_count": 50,
     "metadata": {},
     "output_type": "execute_result"
    },
    {
     "name": "stdout",
     "output_type": "stream",
     "text": [
      "Epoch: 15/20...  Training Step: 56250...  Training loss: 1.6260...  0.0949 sec/batch\n",
      "Epoch: 15/20...  Training Step: 56300...  Training loss: 1.5223...  0.0920 sec/batch\n",
      "Epoch: 15/20...  Training Step: 56350...  Training loss: 1.4712...  0.0907 sec/batch\n",
      "Epoch: 15/20...  Training Step: 56400...  Training loss: 1.5818...  0.0897 sec/batch\n"
     ]
    },
    {
     "data": {
      "text/plain": [
       "'checkpoints/i56400_l128.ckpt'"
      ]
     },
     "execution_count": 50,
     "metadata": {},
     "output_type": "execute_result"
    },
    {
     "name": "stdout",
     "output_type": "stream",
     "text": [
      "Epoch: 15/20...  Training Step: 56450...  Training loss: 1.6113...  0.0916 sec/batch\n",
      "Epoch: 15/20...  Training Step: 56500...  Training loss: 1.4526...  0.0915 sec/batch\n",
      "Epoch: 15/20...  Training Step: 56550...  Training loss: 1.4538...  0.0905 sec/batch\n",
      "Epoch: 15/20...  Training Step: 56600...  Training loss: 1.3785...  0.0889 sec/batch\n"
     ]
    },
    {
     "data": {
      "text/plain": [
       "'checkpoints/i56600_l128.ckpt'"
      ]
     },
     "execution_count": 50,
     "metadata": {},
     "output_type": "execute_result"
    },
    {
     "name": "stdout",
     "output_type": "stream",
     "text": [
      "Epoch: 15/20...  Training Step: 56650...  Training loss: 1.4651...  0.0900 sec/batch\n",
      "Epoch: 15/20...  Training Step: 56700...  Training loss: 1.3388...  0.0895 sec/batch\n",
      "Epoch: 15/20...  Training Step: 56750...  Training loss: 1.5109...  0.0879 sec/batch\n",
      "Epoch: 15/20...  Training Step: 56800...  Training loss: 1.3941...  0.0883 sec/batch\n"
     ]
    },
    {
     "data": {
      "text/plain": [
       "'checkpoints/i56800_l128.ckpt'"
      ]
     },
     "execution_count": 50,
     "metadata": {},
     "output_type": "execute_result"
    },
    {
     "name": "stdout",
     "output_type": "stream",
     "text": [
      "Epoch: 15/20...  Training Step: 56850...  Training loss: 1.5107...  0.0860 sec/batch\n",
      "Epoch: 15/20...  Training Step: 56900...  Training loss: 1.5692...  0.0878 sec/batch\n",
      "Epoch: 15/20...  Training Step: 56950...  Training loss: 1.5563...  0.0894 sec/batch\n",
      "Epoch: 15/20...  Training Step: 57000...  Training loss: 1.5618...  0.0868 sec/batch\n"
     ]
    },
    {
     "data": {
      "text/plain": [
       "'checkpoints/i57000_l128.ckpt'"
      ]
     },
     "execution_count": 50,
     "metadata": {},
     "output_type": "execute_result"
    },
    {
     "name": "stdout",
     "output_type": "stream",
     "text": [
      "Epoch: 15/20...  Training Step: 57050...  Training loss: 1.4893...  0.0882 sec/batch\n",
      "Epoch: 15/20...  Training Step: 57100...  Training loss: 1.4775...  0.0884 sec/batch\n",
      "Epoch: 15/20...  Training Step: 57150...  Training loss: 1.5258...  0.0935 sec/batch\n",
      "Epoch: 15/20...  Training Step: 57200...  Training loss: 1.5994...  0.0900 sec/batch\n"
     ]
    },
    {
     "data": {
      "text/plain": [
       "'checkpoints/i57200_l128.ckpt'"
      ]
     },
     "execution_count": 50,
     "metadata": {},
     "output_type": "execute_result"
    },
    {
     "name": "stdout",
     "output_type": "stream",
     "text": [
      "Epoch: 15/20...  Training Step: 57250...  Training loss: 1.5629...  0.0872 sec/batch\n",
      "Epoch: 15/20...  Training Step: 57300...  Training loss: 1.4848...  0.0862 sec/batch\n",
      "Epoch: 15/20...  Training Step: 57350...  Training loss: 1.5855...  0.0895 sec/batch\n",
      "Epoch: 15/20...  Training Step: 57400...  Training loss: 1.4990...  0.0866 sec/batch\n"
     ]
    },
    {
     "data": {
      "text/plain": [
       "'checkpoints/i57400_l128.ckpt'"
      ]
     },
     "execution_count": 50,
     "metadata": {},
     "output_type": "execute_result"
    },
    {
     "name": "stdout",
     "output_type": "stream",
     "text": [
      "Epoch: 15/20...  Training Step: 57450...  Training loss: 1.3686...  0.0919 sec/batch\n",
      "Epoch: 15/20...  Training Step: 57500...  Training loss: 1.5099...  0.0903 sec/batch\n",
      "Epoch: 15/20...  Training Step: 57550...  Training loss: 1.5337...  0.0894 sec/batch\n",
      "Epoch: 15/20...  Training Step: 57600...  Training loss: 1.4226...  0.0896 sec/batch\n"
     ]
    },
    {
     "data": {
      "text/plain": [
       "'checkpoints/i57600_l128.ckpt'"
      ]
     },
     "execution_count": 50,
     "metadata": {},
     "output_type": "execute_result"
    },
    {
     "name": "stdout",
     "output_type": "stream",
     "text": [
      "Epoch: 15/20...  Training Step: 57650...  Training loss: 1.4167...  0.0914 sec/batch\n",
      "Epoch: 15/20...  Training Step: 57700...  Training loss: 1.3422...  0.0903 sec/batch\n",
      "Epoch: 15/20...  Training Step: 57750...  Training loss: 1.4498...  0.0891 sec/batch\n",
      "Epoch: 15/20...  Training Step: 57800...  Training loss: 1.6020...  0.0908 sec/batch\n"
     ]
    },
    {
     "data": {
      "text/plain": [
       "'checkpoints/i57800_l128.ckpt'"
      ]
     },
     "execution_count": 50,
     "metadata": {},
     "output_type": "execute_result"
    },
    {
     "name": "stdout",
     "output_type": "stream",
     "text": [
      "Epoch: 15/20...  Training Step: 57850...  Training loss: 1.3986...  0.0913 sec/batch\n",
      "Epoch: 15/20...  Training Step: 57900...  Training loss: 1.4469...  0.0968 sec/batch\n",
      "Epoch: 15/20...  Training Step: 57950...  Training loss: 1.4065...  0.0984 sec/batch\n",
      "Epoch: 15/20...  Training Step: 58000...  Training loss: 1.6772...  0.1013 sec/batch\n"
     ]
    },
    {
     "data": {
      "text/plain": [
       "'checkpoints/i58000_l128.ckpt'"
      ]
     },
     "execution_count": 50,
     "metadata": {},
     "output_type": "execute_result"
    },
    {
     "name": "stdout",
     "output_type": "stream",
     "text": [
      "Epoch: 15/20...  Training Step: 58050...  Training loss: 1.5002...  0.0987 sec/batch\n",
      "Epoch: 15/20...  Training Step: 58100...  Training loss: 1.5771...  0.1022 sec/batch\n",
      "Epoch: 15/20...  Training Step: 58150...  Training loss: 1.4267...  0.1121 sec/batch\n",
      "Epoch: 15/20...  Training Step: 58200...  Training loss: 1.4212...  0.0962 sec/batch\n"
     ]
    },
    {
     "data": {
      "text/plain": [
       "'checkpoints/i58200_l128.ckpt'"
      ]
     },
     "execution_count": 50,
     "metadata": {},
     "output_type": "execute_result"
    },
    {
     "name": "stdout",
     "output_type": "stream",
     "text": [
      "Epoch: 15/20...  Training Step: 58250...  Training loss: 1.5284...  0.0978 sec/batch\n",
      "Epoch: 15/20...  Training Step: 58300...  Training loss: 1.4812...  0.0944 sec/batch\n",
      "Epoch: 15/20...  Training Step: 58350...  Training loss: 1.5809...  0.1003 sec/batch\n",
      "Epoch: 15/20...  Training Step: 58400...  Training loss: 1.5544...  0.1116 sec/batch\n"
     ]
    },
    {
     "data": {
      "text/plain": [
       "'checkpoints/i58400_l128.ckpt'"
      ]
     },
     "execution_count": 50,
     "metadata": {},
     "output_type": "execute_result"
    },
    {
     "name": "stdout",
     "output_type": "stream",
     "text": [
      "Epoch: 15/20...  Training Step: 58450...  Training loss: 1.4184...  0.1003 sec/batch\n",
      "Epoch: 15/20...  Training Step: 58500...  Training loss: 1.6871...  0.0969 sec/batch\n",
      "Epoch: 15/20...  Training Step: 58550...  Training loss: 1.3871...  0.1009 sec/batch\n",
      "Epoch: 15/20...  Training Step: 58600...  Training loss: 1.6670...  0.1339 sec/batch\n"
     ]
    },
    {
     "data": {
      "text/plain": [
       "'checkpoints/i58600_l128.ckpt'"
      ]
     },
     "execution_count": 50,
     "metadata": {},
     "output_type": "execute_result"
    },
    {
     "name": "stdout",
     "output_type": "stream",
     "text": [
      "Epoch: 15/20...  Training Step: 58650...  Training loss: 1.5080...  0.1051 sec/batch\n",
      "Epoch: 15/20...  Training Step: 58700...  Training loss: 1.4667...  0.0957 sec/batch\n",
      "Epoch: 15/20...  Training Step: 58750...  Training loss: 1.5677...  0.1012 sec/batch\n",
      "Epoch: 15/20...  Training Step: 58800...  Training loss: 1.4974...  0.1011 sec/batch\n"
     ]
    },
    {
     "data": {
      "text/plain": [
       "'checkpoints/i58800_l128.ckpt'"
      ]
     },
     "execution_count": 50,
     "metadata": {},
     "output_type": "execute_result"
    },
    {
     "name": "stdout",
     "output_type": "stream",
     "text": [
      "Epoch: 15/20...  Training Step: 58850...  Training loss: 1.5906...  0.1039 sec/batch\n",
      "Epoch: 15/20...  Training Step: 58900...  Training loss: 1.4983...  0.1021 sec/batch\n",
      "Epoch: 15/20...  Training Step: 58950...  Training loss: 1.4506...  0.1008 sec/batch\n",
      "Epoch: 15/20...  Training Step: 59000...  Training loss: 1.6907...  0.1047 sec/batch\n"
     ]
    },
    {
     "data": {
      "text/plain": [
       "'checkpoints/i59000_l128.ckpt'"
      ]
     },
     "execution_count": 50,
     "metadata": {},
     "output_type": "execute_result"
    },
    {
     "name": "stdout",
     "output_type": "stream",
     "text": [
      "Epoch: 15/20...  Training Step: 59050...  Training loss: 1.5276...  0.0990 sec/batch\n",
      "Epoch: 15/20...  Training Step: 59100...  Training loss: 1.4823...  0.1044 sec/batch\n",
      "Epoch: 15/20...  Training Step: 59150...  Training loss: 1.3036...  0.1000 sec/batch\n",
      "Epoch: 15/20...  Training Step: 59200...  Training loss: 1.4470...  0.0994 sec/batch\n"
     ]
    },
    {
     "data": {
      "text/plain": [
       "'checkpoints/i59200_l128.ckpt'"
      ]
     },
     "execution_count": 50,
     "metadata": {},
     "output_type": "execute_result"
    },
    {
     "name": "stdout",
     "output_type": "stream",
     "text": [
      "Epoch: 15/20...  Training Step: 59250...  Training loss: 1.5119...  0.1021 sec/batch\n",
      "Epoch: 15/20...  Training Step: 59300...  Training loss: 1.4680...  0.1038 sec/batch\n",
      "Epoch: 15/20...  Training Step: 59350...  Training loss: 1.4926...  0.1026 sec/batch\n",
      "Epoch: 15/20...  Training Step: 59400...  Training loss: 1.8337...  0.1071 sec/batch\n"
     ]
    },
    {
     "data": {
      "text/plain": [
       "'checkpoints/i59400_l128.ckpt'"
      ]
     },
     "execution_count": 50,
     "metadata": {},
     "output_type": "execute_result"
    },
    {
     "name": "stdout",
     "output_type": "stream",
     "text": [
      "Epoch: 15/20...  Training Step: 59450...  Training loss: 1.6211...  0.1064 sec/batch\n",
      "Epoch: 15/20...  Training Step: 59500...  Training loss: 1.8855...  0.1014 sec/batch\n",
      "Epoch: 15/20...  Training Step: 59550...  Training loss: 1.9049...  0.1017 sec/batch\n",
      "3970\n",
      "(1985000,)\n",
      "(10, 198500)\n",
      "Epoch: 16/20...  Training Step: 59600...  Training loss: 1.6423...  0.1030 sec/batch\n"
     ]
    },
    {
     "data": {
      "text/plain": [
       "'checkpoints/i59600_l128.ckpt'"
      ]
     },
     "execution_count": 50,
     "metadata": {},
     "output_type": "execute_result"
    },
    {
     "name": "stdout",
     "output_type": "stream",
     "text": [
      "Epoch: 16/20...  Training Step: 59650...  Training loss: 1.5120...  0.1085 sec/batch\n",
      "Epoch: 16/20...  Training Step: 59700...  Training loss: 1.3316...  0.0855 sec/batch\n",
      "Epoch: 16/20...  Training Step: 59750...  Training loss: 1.4815...  0.1095 sec/batch\n",
      "Epoch: 16/20...  Training Step: 59800...  Training loss: 1.4728...  0.0831 sec/batch\n"
     ]
    },
    {
     "data": {
      "text/plain": [
       "'checkpoints/i59800_l128.ckpt'"
      ]
     },
     "execution_count": 50,
     "metadata": {},
     "output_type": "execute_result"
    },
    {
     "name": "stdout",
     "output_type": "stream",
     "text": [
      "Epoch: 16/20...  Training Step: 59850...  Training loss: 1.4000...  0.0901 sec/batch\n",
      "Epoch: 16/20...  Training Step: 59900...  Training loss: 1.5106...  0.1168 sec/batch\n",
      "Epoch: 16/20...  Training Step: 59950...  Training loss: 1.5362...  0.1082 sec/batch\n",
      "Epoch: 16/20...  Training Step: 60000...  Training loss: 1.5477...  0.1250 sec/batch\n"
     ]
    },
    {
     "data": {
      "text/plain": [
       "'checkpoints/i60000_l128.ckpt'"
      ]
     },
     "execution_count": 50,
     "metadata": {},
     "output_type": "execute_result"
    },
    {
     "name": "stdout",
     "output_type": "stream",
     "text": [
      "Epoch: 16/20...  Training Step: 60050...  Training loss: 1.6193...  0.1152 sec/batch\n",
      "Epoch: 16/20...  Training Step: 60100...  Training loss: 1.3648...  0.1361 sec/batch\n",
      "Epoch: 16/20...  Training Step: 60150...  Training loss: 1.4320...  0.1010 sec/batch\n",
      "Epoch: 16/20...  Training Step: 60200...  Training loss: 1.3416...  0.0997 sec/batch\n"
     ]
    },
    {
     "data": {
      "text/plain": [
       "'checkpoints/i60200_l128.ckpt'"
      ]
     },
     "execution_count": 50,
     "metadata": {},
     "output_type": "execute_result"
    },
    {
     "name": "stdout",
     "output_type": "stream",
     "text": [
      "Epoch: 16/20...  Training Step: 60250...  Training loss: 1.4781...  0.0934 sec/batch\n",
      "Epoch: 16/20...  Training Step: 60300...  Training loss: 1.4747...  0.0938 sec/batch\n",
      "Epoch: 16/20...  Training Step: 60350...  Training loss: 1.5120...  0.0914 sec/batch\n",
      "Epoch: 16/20...  Training Step: 60400...  Training loss: 1.6337...  0.0913 sec/batch\n"
     ]
    },
    {
     "data": {
      "text/plain": [
       "'checkpoints/i60400_l128.ckpt'"
      ]
     },
     "execution_count": 50,
     "metadata": {},
     "output_type": "execute_result"
    },
    {
     "name": "stdout",
     "output_type": "stream",
     "text": [
      "Epoch: 16/20...  Training Step: 60450...  Training loss: 1.5088...  0.0984 sec/batch\n",
      "Epoch: 16/20...  Training Step: 60500...  Training loss: 1.5093...  0.0951 sec/batch\n",
      "Epoch: 16/20...  Training Step: 60550...  Training loss: 1.5466...  0.0867 sec/batch\n",
      "Epoch: 16/20...  Training Step: 60600...  Training loss: 1.5859...  6.3707 sec/batch\n"
     ]
    },
    {
     "data": {
      "text/plain": [
       "'checkpoints/i60600_l128.ckpt'"
      ]
     },
     "execution_count": 50,
     "metadata": {},
     "output_type": "execute_result"
    },
    {
     "name": "stdout",
     "output_type": "stream",
     "text": [
      "Epoch: 16/20...  Training Step: 60650...  Training loss: 1.4947...  0.1260 sec/batch\n",
      "Epoch: 16/20...  Training Step: 60700...  Training loss: 1.4673...  0.0918 sec/batch\n",
      "Epoch: 16/20...  Training Step: 60750...  Training loss: 1.4801...  0.0929 sec/batch\n",
      "Epoch: 16/20...  Training Step: 60800...  Training loss: 1.2726...  0.0869 sec/batch\n"
     ]
    },
    {
     "data": {
      "text/plain": [
       "'checkpoints/i60800_l128.ckpt'"
      ]
     },
     "execution_count": 50,
     "metadata": {},
     "output_type": "execute_result"
    },
    {
     "name": "stdout",
     "output_type": "stream",
     "text": [
      "Epoch: 16/20...  Training Step: 60850...  Training loss: 1.4011...  0.1012 sec/batch\n",
      "Epoch: 16/20...  Training Step: 60900...  Training loss: 1.3995...  0.0978 sec/batch\n",
      "Epoch: 16/20...  Training Step: 60950...  Training loss: 1.6847...  0.0894 sec/batch\n",
      "Epoch: 16/20...  Training Step: 61000...  Training loss: 1.5251...  0.0882 sec/batch\n"
     ]
    },
    {
     "data": {
      "text/plain": [
       "'checkpoints/i61000_l128.ckpt'"
      ]
     },
     "execution_count": 50,
     "metadata": {},
     "output_type": "execute_result"
    },
    {
     "name": "stdout",
     "output_type": "stream",
     "text": [
      "Epoch: 16/20...  Training Step: 61050...  Training loss: 1.5629...  0.0896 sec/batch\n",
      "Epoch: 16/20...  Training Step: 61100...  Training loss: 1.4333...  0.0894 sec/batch\n",
      "Epoch: 16/20...  Training Step: 61150...  Training loss: 1.5349...  0.0942 sec/batch\n",
      "Epoch: 16/20...  Training Step: 61200...  Training loss: 1.4335...  0.0908 sec/batch\n"
     ]
    },
    {
     "data": {
      "text/plain": [
       "'checkpoints/i61200_l128.ckpt'"
      ]
     },
     "execution_count": 50,
     "metadata": {},
     "output_type": "execute_result"
    },
    {
     "name": "stdout",
     "output_type": "stream",
     "text": [
      "Epoch: 16/20...  Training Step: 61250...  Training loss: 1.5429...  0.1018 sec/batch\n",
      "Epoch: 16/20...  Training Step: 61300...  Training loss: 1.5055...  0.0894 sec/batch\n",
      "Epoch: 16/20...  Training Step: 61350...  Training loss: 1.5575...  0.0962 sec/batch\n",
      "Epoch: 16/20...  Training Step: 61400...  Training loss: 1.5984...  0.0929 sec/batch\n"
     ]
    },
    {
     "data": {
      "text/plain": [
       "'checkpoints/i61400_l128.ckpt'"
      ]
     },
     "execution_count": 50,
     "metadata": {},
     "output_type": "execute_result"
    },
    {
     "name": "stdout",
     "output_type": "stream",
     "text": [
      "Epoch: 16/20...  Training Step: 61450...  Training loss: 1.3334...  0.0934 sec/batch\n",
      "Epoch: 16/20...  Training Step: 61500...  Training loss: 1.4723...  0.0982 sec/batch\n",
      "Epoch: 16/20...  Training Step: 61550...  Training loss: 1.5493...  0.0898 sec/batch\n",
      "Epoch: 16/20...  Training Step: 61600...  Training loss: 1.6612...  0.0889 sec/batch\n"
     ]
    },
    {
     "data": {
      "text/plain": [
       "'checkpoints/i61600_l128.ckpt'"
      ]
     },
     "execution_count": 50,
     "metadata": {},
     "output_type": "execute_result"
    },
    {
     "name": "stdout",
     "output_type": "stream",
     "text": [
      "Epoch: 16/20...  Training Step: 61650...  Training loss: 1.4729...  0.1018 sec/batch\n",
      "Epoch: 16/20...  Training Step: 61700...  Training loss: 1.5377...  0.0991 sec/batch\n",
      "Epoch: 16/20...  Training Step: 61750...  Training loss: 1.5108...  0.1078 sec/batch\n",
      "Epoch: 16/20...  Training Step: 61800...  Training loss: 1.5172...  0.0964 sec/batch\n"
     ]
    },
    {
     "data": {
      "text/plain": [
       "'checkpoints/i61800_l128.ckpt'"
      ]
     },
     "execution_count": 50,
     "metadata": {},
     "output_type": "execute_result"
    },
    {
     "name": "stdout",
     "output_type": "stream",
     "text": [
      "Epoch: 16/20...  Training Step: 61850...  Training loss: 1.3608...  0.1068 sec/batch\n",
      "Epoch: 16/20...  Training Step: 61900...  Training loss: 1.5638...  0.0960 sec/batch\n",
      "Epoch: 16/20...  Training Step: 61950...  Training loss: 1.6275...  0.0920 sec/batch\n",
      "Epoch: 16/20...  Training Step: 62000...  Training loss: 1.5934...  0.0984 sec/batch\n"
     ]
    },
    {
     "data": {
      "text/plain": [
       "'checkpoints/i62000_l128.ckpt'"
      ]
     },
     "execution_count": 50,
     "metadata": {},
     "output_type": "execute_result"
    },
    {
     "name": "stdout",
     "output_type": "stream",
     "text": [
      "Epoch: 16/20...  Training Step: 62050...  Training loss: 1.4744...  0.0932 sec/batch\n",
      "Epoch: 16/20...  Training Step: 62100...  Training loss: 1.5454...  0.1049 sec/batch\n",
      "Epoch: 16/20...  Training Step: 62150...  Training loss: 1.4730...  0.1124 sec/batch\n",
      "Epoch: 16/20...  Training Step: 62200...  Training loss: 1.6463...  0.1244 sec/batch\n"
     ]
    },
    {
     "data": {
      "text/plain": [
       "'checkpoints/i62200_l128.ckpt'"
      ]
     },
     "execution_count": 50,
     "metadata": {},
     "output_type": "execute_result"
    },
    {
     "name": "stdout",
     "output_type": "stream",
     "text": [
      "Epoch: 16/20...  Training Step: 62250...  Training loss: 1.6015...  0.0999 sec/batch\n",
      "Epoch: 16/20...  Training Step: 62300...  Training loss: 1.4324...  0.1005 sec/batch\n",
      "Epoch: 16/20...  Training Step: 62350...  Training loss: 1.3599...  0.1001 sec/batch\n",
      "Epoch: 16/20...  Training Step: 62400...  Training loss: 1.6501...  0.1025 sec/batch\n"
     ]
    },
    {
     "data": {
      "text/plain": [
       "'checkpoints/i62400_l128.ckpt'"
      ]
     },
     "execution_count": 50,
     "metadata": {},
     "output_type": "execute_result"
    },
    {
     "name": "stdout",
     "output_type": "stream",
     "text": [
      "Epoch: 16/20...  Training Step: 62450...  Training loss: 1.3122...  0.0973 sec/batch\n",
      "Epoch: 16/20...  Training Step: 62500...  Training loss: 1.3145...  0.0997 sec/batch\n",
      "Epoch: 16/20...  Training Step: 62550...  Training loss: 1.5364...  0.1004 sec/batch\n",
      "Epoch: 16/20...  Training Step: 62600...  Training loss: 1.6495...  0.0975 sec/batch\n"
     ]
    },
    {
     "data": {
      "text/plain": [
       "'checkpoints/i62600_l128.ckpt'"
      ]
     },
     "execution_count": 50,
     "metadata": {},
     "output_type": "execute_result"
    },
    {
     "name": "stdout",
     "output_type": "stream",
     "text": [
      "Epoch: 16/20...  Training Step: 62650...  Training loss: 1.5077...  0.1005 sec/batch\n",
      "Epoch: 16/20...  Training Step: 62700...  Training loss: 1.3955...  0.0969 sec/batch\n",
      "Epoch: 16/20...  Training Step: 62750...  Training loss: 1.6375...  0.1033 sec/batch\n",
      "Epoch: 16/20...  Training Step: 62800...  Training loss: 1.5889...  0.1011 sec/batch\n"
     ]
    },
    {
     "data": {
      "text/plain": [
       "'checkpoints/i62800_l128.ckpt'"
      ]
     },
     "execution_count": 50,
     "metadata": {},
     "output_type": "execute_result"
    },
    {
     "name": "stdout",
     "output_type": "stream",
     "text": [
      "Epoch: 16/20...  Training Step: 62850...  Training loss: 1.5325...  0.1047 sec/batch\n",
      "Epoch: 16/20...  Training Step: 62900...  Training loss: 1.3924...  0.1151 sec/batch\n",
      "Epoch: 16/20...  Training Step: 62950...  Training loss: 1.4861...  0.1021 sec/batch\n",
      "Epoch: 16/20...  Training Step: 63000...  Training loss: 1.5058...  0.1432 sec/batch\n"
     ]
    },
    {
     "data": {
      "text/plain": [
       "'checkpoints/i63000_l128.ckpt'"
      ]
     },
     "execution_count": 50,
     "metadata": {},
     "output_type": "execute_result"
    },
    {
     "name": "stdout",
     "output_type": "stream",
     "text": [
      "Epoch: 16/20...  Training Step: 63050...  Training loss: 1.4418...  0.1030 sec/batch\n",
      "Epoch: 16/20...  Training Step: 63100...  Training loss: 1.6052...  0.1254 sec/batch\n",
      "Epoch: 16/20...  Training Step: 63150...  Training loss: 1.5066...  0.1027 sec/batch\n",
      "Epoch: 16/20...  Training Step: 63200...  Training loss: 1.6684...  0.1066 sec/batch\n"
     ]
    },
    {
     "data": {
      "text/plain": [
       "'checkpoints/i63200_l128.ckpt'"
      ]
     },
     "execution_count": 50,
     "metadata": {},
     "output_type": "execute_result"
    },
    {
     "name": "stdout",
     "output_type": "stream",
     "text": [
      "Epoch: 16/20...  Training Step: 63250...  Training loss: 1.4904...  0.0993 sec/batch\n",
      "Epoch: 16/20...  Training Step: 63300...  Training loss: 1.5663...  0.1010 sec/batch\n",
      "Epoch: 16/20...  Training Step: 63350...  Training loss: 1.5230...  0.0964 sec/batch\n",
      "Epoch: 16/20...  Training Step: 63400...  Training loss: 1.4958...  0.0952 sec/batch\n"
     ]
    },
    {
     "data": {
      "text/plain": [
       "'checkpoints/i63400_l128.ckpt'"
      ]
     },
     "execution_count": 50,
     "metadata": {},
     "output_type": "execute_result"
    },
    {
     "name": "stdout",
     "output_type": "stream",
     "text": [
      "Epoch: 16/20...  Training Step: 63450...  Training loss: 1.7004...  0.1106 sec/batch\n",
      "Epoch: 16/20...  Training Step: 63500...  Training loss: 1.4536...  0.0966 sec/batch\n",
      "3970\n",
      "(1985000,)\n",
      "(10, 198500)\n",
      "Epoch: 17/20...  Training Step: 63550...  Training loss: 1.5270...  0.0972 sec/batch\n",
      "Epoch: 17/20...  Training Step: 63600...  Training loss: 1.5053...  0.1064 sec/batch\n"
     ]
    },
    {
     "data": {
      "text/plain": [
       "'checkpoints/i63600_l128.ckpt'"
      ]
     },
     "execution_count": 50,
     "metadata": {},
     "output_type": "execute_result"
    },
    {
     "name": "stdout",
     "output_type": "stream",
     "text": [
      "Epoch: 17/20...  Training Step: 63650...  Training loss: 1.4848...  0.1001 sec/batch\n",
      "Epoch: 17/20...  Training Step: 63700...  Training loss: 1.3814...  0.1187 sec/batch\n",
      "Epoch: 17/20...  Training Step: 63750...  Training loss: 1.5244...  0.1460 sec/batch\n",
      "Epoch: 17/20...  Training Step: 63800...  Training loss: 1.5437...  0.1160 sec/batch\n"
     ]
    },
    {
     "data": {
      "text/plain": [
       "'checkpoints/i63800_l128.ckpt'"
      ]
     },
     "execution_count": 50,
     "metadata": {},
     "output_type": "execute_result"
    },
    {
     "name": "stdout",
     "output_type": "stream",
     "text": [
      "Epoch: 17/20...  Training Step: 63850...  Training loss: 1.5730...  0.1409 sec/batch\n",
      "Epoch: 17/20...  Training Step: 63900...  Training loss: 1.5512...  0.0982 sec/batch\n",
      "Epoch: 17/20...  Training Step: 63950...  Training loss: 1.4780...  0.1028 sec/batch\n",
      "Epoch: 17/20...  Training Step: 64000...  Training loss: 1.5623...  0.1057 sec/batch\n"
     ]
    },
    {
     "data": {
      "text/plain": [
       "'checkpoints/i64000_l128.ckpt'"
      ]
     },
     "execution_count": 50,
     "metadata": {},
     "output_type": "execute_result"
    },
    {
     "name": "stdout",
     "output_type": "stream",
     "text": [
      "Epoch: 17/20...  Training Step: 64050...  Training loss: 1.5709...  0.1051 sec/batch\n",
      "Epoch: 17/20...  Training Step: 64100...  Training loss: 1.6565...  0.1060 sec/batch\n",
      "Epoch: 17/20...  Training Step: 64150...  Training loss: 1.5676...  0.1122 sec/batch\n",
      "Epoch: 17/20...  Training Step: 64200...  Training loss: 1.6456...  0.1009 sec/batch\n"
     ]
    },
    {
     "data": {
      "text/plain": [
       "'checkpoints/i64200_l128.ckpt'"
      ]
     },
     "execution_count": 50,
     "metadata": {},
     "output_type": "execute_result"
    },
    {
     "name": "stdout",
     "output_type": "stream",
     "text": [
      "Epoch: 17/20...  Training Step: 64250...  Training loss: 1.3843...  0.1083 sec/batch\n",
      "Epoch: 17/20...  Training Step: 64300...  Training loss: 1.6623...  0.1084 sec/batch\n",
      "Epoch: 17/20...  Training Step: 64350...  Training loss: 1.4235...  0.0983 sec/batch\n",
      "Epoch: 17/20...  Training Step: 64400...  Training loss: 1.4522...  0.0977 sec/batch\n"
     ]
    },
    {
     "data": {
      "text/plain": [
       "'checkpoints/i64400_l128.ckpt'"
      ]
     },
     "execution_count": 50,
     "metadata": {},
     "output_type": "execute_result"
    },
    {
     "name": "stdout",
     "output_type": "stream",
     "text": [
      "Epoch: 17/20...  Training Step: 64450...  Training loss: 1.5384...  0.0921 sec/batch\n",
      "Epoch: 17/20...  Training Step: 64500...  Training loss: 1.3849...  0.1235 sec/batch\n",
      "Epoch: 17/20...  Training Step: 64550...  Training loss: 1.5222...  0.1075 sec/batch\n",
      "Epoch: 17/20...  Training Step: 64600...  Training loss: 1.3819...  0.0933 sec/batch\n"
     ]
    },
    {
     "data": {
      "text/plain": [
       "'checkpoints/i64600_l128.ckpt'"
      ]
     },
     "execution_count": 50,
     "metadata": {},
     "output_type": "execute_result"
    },
    {
     "name": "stdout",
     "output_type": "stream",
     "text": [
      "Epoch: 17/20...  Training Step: 64650...  Training loss: 1.4270...  0.1032 sec/batch\n",
      "Epoch: 17/20...  Training Step: 64700...  Training loss: 1.5236...  0.0977 sec/batch\n",
      "Epoch: 17/20...  Training Step: 64750...  Training loss: 1.6558...  0.0968 sec/batch\n",
      "Epoch: 17/20...  Training Step: 64800...  Training loss: 1.4328...  0.0955 sec/batch\n"
     ]
    },
    {
     "data": {
      "text/plain": [
       "'checkpoints/i64800_l128.ckpt'"
      ]
     },
     "execution_count": 50,
     "metadata": {},
     "output_type": "execute_result"
    },
    {
     "name": "stdout",
     "output_type": "stream",
     "text": [
      "Epoch: 17/20...  Training Step: 64850...  Training loss: 1.5922...  0.0974 sec/batch\n",
      "Epoch: 17/20...  Training Step: 64900...  Training loss: 1.4795...  0.0912 sec/batch\n",
      "Epoch: 17/20...  Training Step: 64950...  Training loss: 1.6146...  0.1087 sec/batch\n",
      "Epoch: 17/20...  Training Step: 65000...  Training loss: 1.5783...  0.0986 sec/batch\n"
     ]
    },
    {
     "data": {
      "text/plain": [
       "'checkpoints/i65000_l128.ckpt'"
      ]
     },
     "execution_count": 50,
     "metadata": {},
     "output_type": "execute_result"
    },
    {
     "name": "stdout",
     "output_type": "stream",
     "text": [
      "Epoch: 17/20...  Training Step: 65050...  Training loss: 1.6197...  0.0956 sec/batch\n",
      "Epoch: 17/20...  Training Step: 65100...  Training loss: 1.4913...  0.0996 sec/batch\n",
      "Epoch: 17/20...  Training Step: 65150...  Training loss: 1.6325...  0.1039 sec/batch\n",
      "Epoch: 17/20...  Training Step: 65200...  Training loss: 1.4607...  0.0914 sec/batch\n"
     ]
    },
    {
     "data": {
      "text/plain": [
       "'checkpoints/i65200_l128.ckpt'"
      ]
     },
     "execution_count": 50,
     "metadata": {},
     "output_type": "execute_result"
    },
    {
     "name": "stdout",
     "output_type": "stream",
     "text": [
      "Epoch: 17/20...  Training Step: 65250...  Training loss: 1.3565...  0.1054 sec/batch\n",
      "Epoch: 17/20...  Training Step: 65300...  Training loss: 1.4350...  0.1049 sec/batch\n",
      "Epoch: 17/20...  Training Step: 65350...  Training loss: 1.5355...  0.0913 sec/batch\n",
      "Epoch: 17/20...  Training Step: 65400...  Training loss: 1.6331...  0.0898 sec/batch\n"
     ]
    },
    {
     "data": {
      "text/plain": [
       "'checkpoints/i65400_l128.ckpt'"
      ]
     },
     "execution_count": 50,
     "metadata": {},
     "output_type": "execute_result"
    },
    {
     "name": "stdout",
     "output_type": "stream",
     "text": [
      "Epoch: 17/20...  Training Step: 65450...  Training loss: 1.4754...  0.0912 sec/batch\n",
      "Epoch: 17/20...  Training Step: 65500...  Training loss: 1.4682...  0.0894 sec/batch\n",
      "Epoch: 17/20...  Training Step: 65550...  Training loss: 1.4252...  0.0894 sec/batch\n",
      "Epoch: 17/20...  Training Step: 65600...  Training loss: 1.4686...  0.0887 sec/batch\n"
     ]
    },
    {
     "data": {
      "text/plain": [
       "'checkpoints/i65600_l128.ckpt'"
      ]
     },
     "execution_count": 50,
     "metadata": {},
     "output_type": "execute_result"
    },
    {
     "name": "stdout",
     "output_type": "stream",
     "text": [
      "Epoch: 17/20...  Training Step: 65650...  Training loss: 1.6151...  0.0870 sec/batch\n",
      "Epoch: 17/20...  Training Step: 65700...  Training loss: 1.5272...  0.0883 sec/batch\n",
      "Epoch: 17/20...  Training Step: 65750...  Training loss: 1.5384...  0.0880 sec/batch\n",
      "Epoch: 17/20...  Training Step: 65800...  Training loss: 1.5092...  0.0906 sec/batch\n"
     ]
    },
    {
     "data": {
      "text/plain": [
       "'checkpoints/i65800_l128.ckpt'"
      ]
     },
     "execution_count": 50,
     "metadata": {},
     "output_type": "execute_result"
    },
    {
     "name": "stdout",
     "output_type": "stream",
     "text": [
      "Epoch: 17/20...  Training Step: 65850...  Training loss: 1.4565...  0.0898 sec/batch\n",
      "Epoch: 17/20...  Training Step: 65900...  Training loss: 1.6140...  0.0879 sec/batch\n",
      "Epoch: 17/20...  Training Step: 65950...  Training loss: 1.4840...  0.0895 sec/batch\n",
      "Epoch: 17/20...  Training Step: 66000...  Training loss: 1.5289...  0.0942 sec/batch\n"
     ]
    },
    {
     "data": {
      "text/plain": [
       "'checkpoints/i66000_l128.ckpt'"
      ]
     },
     "execution_count": 50,
     "metadata": {},
     "output_type": "execute_result"
    },
    {
     "name": "stdout",
     "output_type": "stream",
     "text": [
      "Epoch: 17/20...  Training Step: 66050...  Training loss: 1.4858...  0.0915 sec/batch\n",
      "Epoch: 17/20...  Training Step: 66100...  Training loss: 1.5432...  0.0871 sec/batch\n",
      "Epoch: 17/20...  Training Step: 66150...  Training loss: 1.6773...  0.0883 sec/batch\n",
      "Epoch: 17/20...  Training Step: 66200...  Training loss: 1.4125...  0.0926 sec/batch\n"
     ]
    },
    {
     "data": {
      "text/plain": [
       "'checkpoints/i66200_l128.ckpt'"
      ]
     },
     "execution_count": 50,
     "metadata": {},
     "output_type": "execute_result"
    },
    {
     "name": "stdout",
     "output_type": "stream",
     "text": [
      "Epoch: 17/20...  Training Step: 66250...  Training loss: 1.4569...  0.0928 sec/batch\n",
      "Epoch: 17/20...  Training Step: 66300...  Training loss: 1.5162...  0.0960 sec/batch\n",
      "Epoch: 17/20...  Training Step: 66350...  Training loss: 1.4999...  0.0900 sec/batch\n",
      "Epoch: 17/20...  Training Step: 66400...  Training loss: 1.5172...  0.0906 sec/batch\n"
     ]
    },
    {
     "data": {
      "text/plain": [
       "'checkpoints/i66400_l128.ckpt'"
      ]
     },
     "execution_count": 50,
     "metadata": {},
     "output_type": "execute_result"
    },
    {
     "name": "stdout",
     "output_type": "stream",
     "text": [
      "Epoch: 17/20...  Training Step: 66450...  Training loss: 1.4338...  0.0922 sec/batch\n",
      "Epoch: 17/20...  Training Step: 66500...  Training loss: 1.7020...  0.0889 sec/batch\n",
      "Epoch: 17/20...  Training Step: 66550...  Training loss: 1.5072...  0.0895 sec/batch\n",
      "Epoch: 17/20...  Training Step: 66600...  Training loss: 1.5494...  0.0926 sec/batch\n"
     ]
    },
    {
     "data": {
      "text/plain": [
       "'checkpoints/i66600_l128.ckpt'"
      ]
     },
     "execution_count": 50,
     "metadata": {},
     "output_type": "execute_result"
    },
    {
     "name": "stdout",
     "output_type": "stream",
     "text": [
      "Epoch: 17/20...  Training Step: 66650...  Training loss: 1.4670...  0.0881 sec/batch\n",
      "Epoch: 17/20...  Training Step: 66700...  Training loss: 1.4214...  0.0874 sec/batch\n",
      "Epoch: 17/20...  Training Step: 66750...  Training loss: 1.5769...  0.0891 sec/batch\n",
      "Epoch: 17/20...  Training Step: 66800...  Training loss: 1.4103...  0.0908 sec/batch\n"
     ]
    },
    {
     "data": {
      "text/plain": [
       "'checkpoints/i66800_l128.ckpt'"
      ]
     },
     "execution_count": 50,
     "metadata": {},
     "output_type": "execute_result"
    },
    {
     "name": "stdout",
     "output_type": "stream",
     "text": [
      "Epoch: 17/20...  Training Step: 66850...  Training loss: 1.5666...  0.0892 sec/batch\n",
      "Epoch: 17/20...  Training Step: 66900...  Training loss: 1.4700...  0.1239 sec/batch\n",
      "Epoch: 17/20...  Training Step: 66950...  Training loss: 1.3897...  0.0901 sec/batch\n",
      "Epoch: 17/20...  Training Step: 67000...  Training loss: 1.3403...  0.0931 sec/batch\n"
     ]
    },
    {
     "data": {
      "text/plain": [
       "'checkpoints/i67000_l128.ckpt'"
      ]
     },
     "execution_count": 50,
     "metadata": {},
     "output_type": "execute_result"
    },
    {
     "name": "stdout",
     "output_type": "stream",
     "text": [
      "Epoch: 17/20...  Training Step: 67050...  Training loss: 1.4313...  0.1066 sec/batch\n",
      "Epoch: 17/20...  Training Step: 67100...  Training loss: 1.4276...  0.0932 sec/batch\n",
      "Epoch: 17/20...  Training Step: 67150...  Training loss: 1.5081...  0.0917 sec/batch\n",
      "Epoch: 17/20...  Training Step: 67200...  Training loss: 1.6397...  0.0892 sec/batch\n"
     ]
    },
    {
     "data": {
      "text/plain": [
       "'checkpoints/i67200_l128.ckpt'"
      ]
     },
     "execution_count": 50,
     "metadata": {},
     "output_type": "execute_result"
    },
    {
     "name": "stdout",
     "output_type": "stream",
     "text": [
      "Epoch: 17/20...  Training Step: 67250...  Training loss: 1.6898...  0.0893 sec/batch\n",
      "Epoch: 17/20...  Training Step: 67300...  Training loss: 1.7150...  0.0891 sec/batch\n",
      "Epoch: 17/20...  Training Step: 67350...  Training loss: 1.6161...  0.0888 sec/batch\n",
      "Epoch: 17/20...  Training Step: 67400...  Training loss: 1.5471...  0.0883 sec/batch\n"
     ]
    },
    {
     "data": {
      "text/plain": [
       "'checkpoints/i67400_l128.ckpt'"
      ]
     },
     "execution_count": 50,
     "metadata": {},
     "output_type": "execute_result"
    },
    {
     "name": "stdout",
     "output_type": "stream",
     "text": [
      "Epoch: 17/20...  Training Step: 67450...  Training loss: 1.5997...  0.1034 sec/batch\n",
      "3970\n",
      "(1985000,)\n",
      "(10, 198500)\n",
      "Epoch: 18/20...  Training Step: 67500...  Training loss: 1.5560...  0.0935 sec/batch\n",
      "Epoch: 18/20...  Training Step: 67550...  Training loss: 1.5500...  0.0910 sec/batch\n",
      "Epoch: 18/20...  Training Step: 67600...  Training loss: 1.5112...  0.0881 sec/batch\n"
     ]
    },
    {
     "data": {
      "text/plain": [
       "'checkpoints/i67600_l128.ckpt'"
      ]
     },
     "execution_count": 50,
     "metadata": {},
     "output_type": "execute_result"
    },
    {
     "name": "stdout",
     "output_type": "stream",
     "text": [
      "Epoch: 18/20...  Training Step: 67650...  Training loss: 1.6736...  0.0886 sec/batch\n",
      "Epoch: 18/20...  Training Step: 67700...  Training loss: 1.4751...  0.0881 sec/batch\n",
      "Epoch: 18/20...  Training Step: 67750...  Training loss: 1.4646...  0.0908 sec/batch\n",
      "Epoch: 18/20...  Training Step: 67800...  Training loss: 1.6286...  0.0890 sec/batch\n"
     ]
    },
    {
     "data": {
      "text/plain": [
       "'checkpoints/i67800_l128.ckpt'"
      ]
     },
     "execution_count": 50,
     "metadata": {},
     "output_type": "execute_result"
    },
    {
     "name": "stdout",
     "output_type": "stream",
     "text": [
      "Epoch: 18/20...  Training Step: 67850...  Training loss: 1.6144...  0.0895 sec/batch\n",
      "Epoch: 18/20...  Training Step: 67900...  Training loss: 1.5641...  0.0970 sec/batch\n",
      "Epoch: 18/20...  Training Step: 67950...  Training loss: 1.6476...  0.0894 sec/batch\n",
      "Epoch: 18/20...  Training Step: 68000...  Training loss: 1.5509...  0.0885 sec/batch\n"
     ]
    },
    {
     "data": {
      "text/plain": [
       "'checkpoints/i68000_l128.ckpt'"
      ]
     },
     "execution_count": 50,
     "metadata": {},
     "output_type": "execute_result"
    },
    {
     "name": "stdout",
     "output_type": "stream",
     "text": [
      "Epoch: 18/20...  Training Step: 68050...  Training loss: 1.5483...  0.1029 sec/batch\n",
      "Epoch: 18/20...  Training Step: 68100...  Training loss: 1.4826...  0.1193 sec/batch\n",
      "Epoch: 18/20...  Training Step: 68150...  Training loss: 1.5299...  0.0914 sec/batch\n",
      "Epoch: 18/20...  Training Step: 68200...  Training loss: 1.5737...  0.1082 sec/batch\n"
     ]
    },
    {
     "data": {
      "text/plain": [
       "'checkpoints/i68200_l128.ckpt'"
      ]
     },
     "execution_count": 50,
     "metadata": {},
     "output_type": "execute_result"
    },
    {
     "name": "stdout",
     "output_type": "stream",
     "text": [
      "Epoch: 18/20...  Training Step: 68250...  Training loss: 1.4110...  0.1182 sec/batch\n",
      "Epoch: 18/20...  Training Step: 68300...  Training loss: 1.4558...  0.1125 sec/batch\n",
      "Epoch: 18/20...  Training Step: 68350...  Training loss: 1.6853...  0.0970 sec/batch\n",
      "Epoch: 18/20...  Training Step: 68400...  Training loss: 1.5246...  0.0872 sec/batch\n"
     ]
    },
    {
     "data": {
      "text/plain": [
       "'checkpoints/i68400_l128.ckpt'"
      ]
     },
     "execution_count": 50,
     "metadata": {},
     "output_type": "execute_result"
    },
    {
     "name": "stdout",
     "output_type": "stream",
     "text": [
      "Epoch: 18/20...  Training Step: 68450...  Training loss: 1.5255...  0.0925 sec/batch\n",
      "Epoch: 18/20...  Training Step: 68500...  Training loss: 1.5934...  0.0873 sec/batch\n",
      "Epoch: 18/20...  Training Step: 68550...  Training loss: 1.4695...  0.0871 sec/batch\n",
      "Epoch: 18/20...  Training Step: 68600...  Training loss: 1.4838...  0.0831 sec/batch\n"
     ]
    },
    {
     "data": {
      "text/plain": [
       "'checkpoints/i68600_l128.ckpt'"
      ]
     },
     "execution_count": 50,
     "metadata": {},
     "output_type": "execute_result"
    },
    {
     "name": "stdout",
     "output_type": "stream",
     "text": [
      "Epoch: 18/20...  Training Step: 68650...  Training loss: 1.3953...  0.0909 sec/batch\n",
      "Epoch: 18/20...  Training Step: 68700...  Training loss: 1.4755...  0.0898 sec/batch\n",
      "Epoch: 18/20...  Training Step: 68750...  Training loss: 1.4760...  0.0910 sec/batch\n",
      "Epoch: 18/20...  Training Step: 68800...  Training loss: 1.5066...  0.1004 sec/batch\n"
     ]
    },
    {
     "data": {
      "text/plain": [
       "'checkpoints/i68800_l128.ckpt'"
      ]
     },
     "execution_count": 50,
     "metadata": {},
     "output_type": "execute_result"
    },
    {
     "name": "stdout",
     "output_type": "stream",
     "text": [
      "Epoch: 18/20...  Training Step: 68850...  Training loss: 1.4448...  0.1147 sec/batch\n",
      "Epoch: 18/20...  Training Step: 68900...  Training loss: 1.5335...  0.0883 sec/batch\n",
      "Epoch: 18/20...  Training Step: 68950...  Training loss: 1.5699...  0.0936 sec/batch\n",
      "Epoch: 18/20...  Training Step: 69000...  Training loss: 1.4450...  0.0924 sec/batch\n"
     ]
    },
    {
     "data": {
      "text/plain": [
       "'checkpoints/i69000_l128.ckpt'"
      ]
     },
     "execution_count": 50,
     "metadata": {},
     "output_type": "execute_result"
    },
    {
     "name": "stdout",
     "output_type": "stream",
     "text": [
      "Epoch: 18/20...  Training Step: 69050...  Training loss: 1.5416...  0.1197 sec/batch\n",
      "Epoch: 18/20...  Training Step: 69100...  Training loss: 1.6368...  0.0924 sec/batch\n",
      "Epoch: 18/20...  Training Step: 69150...  Training loss: 1.4504...  0.0921 sec/batch\n",
      "Epoch: 18/20...  Training Step: 69200...  Training loss: 1.4913...  0.0895 sec/batch\n"
     ]
    },
    {
     "data": {
      "text/plain": [
       "'checkpoints/i69200_l128.ckpt'"
      ]
     },
     "execution_count": 50,
     "metadata": {},
     "output_type": "execute_result"
    },
    {
     "name": "stdout",
     "output_type": "stream",
     "text": [
      "Epoch: 18/20...  Training Step: 69250...  Training loss: 1.4890...  0.0926 sec/batch\n",
      "Epoch: 18/20...  Training Step: 69300...  Training loss: 1.3407...  0.0912 sec/batch\n",
      "Epoch: 18/20...  Training Step: 69350...  Training loss: 1.6191...  0.1102 sec/batch\n",
      "Epoch: 18/20...  Training Step: 69400...  Training loss: 1.3788...  0.0927 sec/batch\n"
     ]
    },
    {
     "data": {
      "text/plain": [
       "'checkpoints/i69400_l128.ckpt'"
      ]
     },
     "execution_count": 50,
     "metadata": {},
     "output_type": "execute_result"
    },
    {
     "name": "stdout",
     "output_type": "stream",
     "text": [
      "Epoch: 18/20...  Training Step: 69450...  Training loss: 1.5720...  0.0880 sec/batch\n",
      "Epoch: 18/20...  Training Step: 69500...  Training loss: 1.5494...  0.0933 sec/batch\n",
      "Epoch: 18/20...  Training Step: 69550...  Training loss: 1.5496...  0.0867 sec/batch\n",
      "Epoch: 18/20...  Training Step: 69600...  Training loss: 1.5350...  0.0907 sec/batch\n"
     ]
    },
    {
     "data": {
      "text/plain": [
       "'checkpoints/i69600_l128.ckpt'"
      ]
     },
     "execution_count": 50,
     "metadata": {},
     "output_type": "execute_result"
    },
    {
     "name": "stdout",
     "output_type": "stream",
     "text": [
      "Epoch: 18/20...  Training Step: 69650...  Training loss: 1.4904...  0.0879 sec/batch\n",
      "Epoch: 18/20...  Training Step: 69700...  Training loss: 1.6279...  0.0880 sec/batch\n",
      "Epoch: 18/20...  Training Step: 69750...  Training loss: 1.6787...  0.0943 sec/batch\n",
      "Epoch: 18/20...  Training Step: 69800...  Training loss: 1.4606...  0.0889 sec/batch\n"
     ]
    },
    {
     "data": {
      "text/plain": [
       "'checkpoints/i69800_l128.ckpt'"
      ]
     },
     "execution_count": 50,
     "metadata": {},
     "output_type": "execute_result"
    },
    {
     "name": "stdout",
     "output_type": "stream",
     "text": [
      "Epoch: 18/20...  Training Step: 69850...  Training loss: 1.5963...  0.0883 sec/batch\n",
      "Epoch: 18/20...  Training Step: 69900...  Training loss: 1.4503...  0.0882 sec/batch\n",
      "Epoch: 18/20...  Training Step: 69950...  Training loss: 1.5838...  0.0987 sec/batch\n",
      "Epoch: 18/20...  Training Step: 70000...  Training loss: 1.5796...  0.0911 sec/batch\n"
     ]
    },
    {
     "data": {
      "text/plain": [
       "'checkpoints/i70000_l128.ckpt'"
      ]
     },
     "execution_count": 50,
     "metadata": {},
     "output_type": "execute_result"
    },
    {
     "name": "stdout",
     "output_type": "stream",
     "text": [
      "Epoch: 18/20...  Training Step: 70050...  Training loss: 1.3540...  0.1195 sec/batch\n",
      "Epoch: 18/20...  Training Step: 70100...  Training loss: 1.5718...  0.0901 sec/batch\n",
      "Epoch: 18/20...  Training Step: 70150...  Training loss: 1.5656...  0.0981 sec/batch\n",
      "Epoch: 18/20...  Training Step: 70200...  Training loss: 1.4970...  0.1008 sec/batch\n"
     ]
    },
    {
     "data": {
      "text/plain": [
       "'checkpoints/i70200_l128.ckpt'"
      ]
     },
     "execution_count": 50,
     "metadata": {},
     "output_type": "execute_result"
    },
    {
     "name": "stdout",
     "output_type": "stream",
     "text": [
      "Epoch: 18/20...  Training Step: 70250...  Training loss: 1.5357...  0.0902 sec/batch\n",
      "Epoch: 18/20...  Training Step: 70300...  Training loss: 1.5672...  0.0904 sec/batch\n",
      "Epoch: 18/20...  Training Step: 70350...  Training loss: 1.4090...  0.0812 sec/batch\n",
      "Epoch: 18/20...  Training Step: 70400...  Training loss: 1.4936...  0.0849 sec/batch\n"
     ]
    },
    {
     "data": {
      "text/plain": [
       "'checkpoints/i70400_l128.ckpt'"
      ]
     },
     "execution_count": 50,
     "metadata": {},
     "output_type": "execute_result"
    },
    {
     "name": "stdout",
     "output_type": "stream",
     "text": [
      "Epoch: 18/20...  Training Step: 70450...  Training loss: 1.5343...  0.2294 sec/batch\n",
      "Epoch: 18/20...  Training Step: 70500...  Training loss: 1.6047...  0.0845 sec/batch\n",
      "Epoch: 18/20...  Training Step: 70550...  Training loss: 1.4339...  0.1778 sec/batch\n",
      "Epoch: 18/20...  Training Step: 70600...  Training loss: 1.5328...  0.0830 sec/batch\n"
     ]
    },
    {
     "data": {
      "text/plain": [
       "'checkpoints/i70600_l128.ckpt'"
      ]
     },
     "execution_count": 50,
     "metadata": {},
     "output_type": "execute_result"
    },
    {
     "name": "stdout",
     "output_type": "stream",
     "text": [
      "Epoch: 18/20...  Training Step: 70650...  Training loss: 1.4024...  0.1833 sec/batch\n",
      "Epoch: 18/20...  Training Step: 70700...  Training loss: 1.3348...  0.0861 sec/batch\n",
      "Epoch: 18/20...  Training Step: 70750...  Training loss: 1.4524...  0.1846 sec/batch\n",
      "Epoch: 18/20...  Training Step: 70800...  Training loss: 1.5316...  0.0811 sec/batch\n"
     ]
    },
    {
     "data": {
      "text/plain": [
       "'checkpoints/i70800_l128.ckpt'"
      ]
     },
     "execution_count": 50,
     "metadata": {},
     "output_type": "execute_result"
    },
    {
     "name": "stdout",
     "output_type": "stream",
     "text": [
      "Epoch: 18/20...  Training Step: 70850...  Training loss: 1.4799...  0.1774 sec/batch\n",
      "Epoch: 18/20...  Training Step: 70900...  Training loss: 1.5470...  0.1876 sec/batch\n",
      "Epoch: 18/20...  Training Step: 70950...  Training loss: 1.4604...  0.1738 sec/batch\n",
      "Epoch: 18/20...  Training Step: 71000...  Training loss: 1.5488...  0.0833 sec/batch\n"
     ]
    },
    {
     "data": {
      "text/plain": [
       "'checkpoints/i71000_l128.ckpt'"
      ]
     },
     "execution_count": 50,
     "metadata": {},
     "output_type": "execute_result"
    },
    {
     "name": "stdout",
     "output_type": "stream",
     "text": [
      "Epoch: 18/20...  Training Step: 71050...  Training loss: 1.4534...  0.1725 sec/batch\n",
      "Epoch: 18/20...  Training Step: 71100...  Training loss: 1.6166...  0.2371 sec/batch\n",
      "Epoch: 18/20...  Training Step: 71150...  Training loss: 1.6053...  0.2128 sec/batch\n",
      "Epoch: 18/20...  Training Step: 71200...  Training loss: 1.5090...  0.0828 sec/batch\n"
     ]
    },
    {
     "data": {
      "text/plain": [
       "'checkpoints/i71200_l128.ckpt'"
      ]
     },
     "execution_count": 50,
     "metadata": {},
     "output_type": "execute_result"
    },
    {
     "name": "stdout",
     "output_type": "stream",
     "text": [
      "Epoch: 18/20...  Training Step: 71250...  Training loss: 1.4394...  0.2378 sec/batch\n",
      "Epoch: 18/20...  Training Step: 71300...  Training loss: 1.5718...  0.2494 sec/batch\n",
      "Epoch: 18/20...  Training Step: 71350...  Training loss: 1.5613...  0.2009 sec/batch\n",
      "Epoch: 18/20...  Training Step: 71400...  Training loss: 1.8255...  0.1726 sec/batch\n"
     ]
    },
    {
     "data": {
      "text/plain": [
       "'checkpoints/i71400_l128.ckpt'"
      ]
     },
     "execution_count": 50,
     "metadata": {},
     "output_type": "execute_result"
    },
    {
     "name": "stdout",
     "output_type": "stream",
     "text": [
      "Epoch: 18/20...  Training Step: 71450...  Training loss: 1.5849...  0.2026 sec/batch\n",
      "3970\n",
      "(1985000,)\n",
      "(10, 198500)\n",
      "Epoch: 19/20...  Training Step: 71500...  Training loss: 1.7231...  0.1851 sec/batch\n",
      "Epoch: 19/20...  Training Step: 71550...  Training loss: 1.4825...  0.1900 sec/batch\n",
      "Epoch: 19/20...  Training Step: 71600...  Training loss: 1.5229...  0.1767 sec/batch\n"
     ]
    },
    {
     "data": {
      "text/plain": [
       "'checkpoints/i71600_l128.ckpt'"
      ]
     },
     "execution_count": 50,
     "metadata": {},
     "output_type": "execute_result"
    },
    {
     "name": "stdout",
     "output_type": "stream",
     "text": [
      "Epoch: 19/20...  Training Step: 71650...  Training loss: 1.4450...  0.1747 sec/batch\n",
      "Epoch: 19/20...  Training Step: 71700...  Training loss: 1.5773...  0.1925 sec/batch\n",
      "Epoch: 19/20...  Training Step: 71750...  Training loss: 1.4346...  0.1765 sec/batch\n",
      "Epoch: 19/20...  Training Step: 71800...  Training loss: 1.5232...  0.2189 sec/batch\n"
     ]
    },
    {
     "data": {
      "text/plain": [
       "'checkpoints/i71800_l128.ckpt'"
      ]
     },
     "execution_count": 50,
     "metadata": {},
     "output_type": "execute_result"
    },
    {
     "name": "stdout",
     "output_type": "stream",
     "text": [
      "Epoch: 19/20...  Training Step: 71850...  Training loss: 1.4768...  0.2009 sec/batch\n",
      "Epoch: 19/20...  Training Step: 71900...  Training loss: 1.5693...  0.1804 sec/batch\n",
      "Epoch: 19/20...  Training Step: 71950...  Training loss: 1.5382...  0.1956 sec/batch\n",
      "Epoch: 19/20...  Training Step: 72000...  Training loss: 1.3341...  0.1969 sec/batch\n"
     ]
    },
    {
     "data": {
      "text/plain": [
       "'checkpoints/i72000_l128.ckpt'"
      ]
     },
     "execution_count": 50,
     "metadata": {},
     "output_type": "execute_result"
    },
    {
     "name": "stdout",
     "output_type": "stream",
     "text": [
      "Epoch: 19/20...  Training Step: 72050...  Training loss: 1.6945...  0.1787 sec/batch\n",
      "Epoch: 19/20...  Training Step: 72100...  Training loss: 1.4287...  0.2114 sec/batch\n",
      "Epoch: 19/20...  Training Step: 72150...  Training loss: 1.4300...  0.2198 sec/batch\n",
      "Epoch: 19/20...  Training Step: 72200...  Training loss: 1.4270...  0.2115 sec/batch\n"
     ]
    },
    {
     "data": {
      "text/plain": [
       "'checkpoints/i72200_l128.ckpt'"
      ]
     },
     "execution_count": 50,
     "metadata": {},
     "output_type": "execute_result"
    },
    {
     "name": "stdout",
     "output_type": "stream",
     "text": [
      "Epoch: 19/20...  Training Step: 72250...  Training loss: 1.4741...  0.1787 sec/batch\n",
      "Epoch: 19/20...  Training Step: 72300...  Training loss: 1.4892...  0.1939 sec/batch\n",
      "Epoch: 19/20...  Training Step: 72350...  Training loss: 1.4598...  0.2064 sec/batch\n",
      "Epoch: 19/20...  Training Step: 72400...  Training loss: 1.4169...  0.1822 sec/batch\n"
     ]
    },
    {
     "data": {
      "text/plain": [
       "'checkpoints/i72400_l128.ckpt'"
      ]
     },
     "execution_count": 50,
     "metadata": {},
     "output_type": "execute_result"
    },
    {
     "name": "stdout",
     "output_type": "stream",
     "text": [
      "Epoch: 19/20...  Training Step: 72450...  Training loss: 1.3949...  0.2121 sec/batch\n",
      "Epoch: 19/20...  Training Step: 72500...  Training loss: 1.4853...  0.1839 sec/batch\n",
      "Epoch: 19/20...  Training Step: 72550...  Training loss: 1.6444...  0.2126 sec/batch\n",
      "Epoch: 19/20...  Training Step: 72600...  Training loss: 1.6396...  0.2139 sec/batch\n"
     ]
    },
    {
     "data": {
      "text/plain": [
       "'checkpoints/i72600_l128.ckpt'"
      ]
     },
     "execution_count": 50,
     "metadata": {},
     "output_type": "execute_result"
    },
    {
     "name": "stdout",
     "output_type": "stream",
     "text": [
      "Epoch: 19/20...  Training Step: 72650...  Training loss: 1.4357...  0.1842 sec/batch\n",
      "Epoch: 19/20...  Training Step: 72700...  Training loss: 1.4241...  0.1838 sec/batch\n",
      "Epoch: 19/20...  Training Step: 72750...  Training loss: 1.6734...  0.2429 sec/batch\n",
      "Epoch: 19/20...  Training Step: 72800...  Training loss: 1.4837...  0.2959 sec/batch\n"
     ]
    },
    {
     "data": {
      "text/plain": [
       "'checkpoints/i72800_l128.ckpt'"
      ]
     },
     "execution_count": 50,
     "metadata": {},
     "output_type": "execute_result"
    },
    {
     "name": "stdout",
     "output_type": "stream",
     "text": [
      "Epoch: 19/20...  Training Step: 72850...  Training loss: 1.4821...  0.1826 sec/batch\n",
      "Epoch: 19/20...  Training Step: 72900...  Training loss: 1.4528...  0.2079 sec/batch\n",
      "Epoch: 19/20...  Training Step: 72950...  Training loss: 1.5859...  0.1836 sec/batch\n",
      "Epoch: 19/20...  Training Step: 73000...  Training loss: 1.5971...  0.1845 sec/batch\n"
     ]
    },
    {
     "data": {
      "text/plain": [
       "'checkpoints/i73000_l128.ckpt'"
      ]
     },
     "execution_count": 50,
     "metadata": {},
     "output_type": "execute_result"
    },
    {
     "name": "stdout",
     "output_type": "stream",
     "text": [
      "Epoch: 19/20...  Training Step: 73050...  Training loss: 1.5464...  0.1719 sec/batch\n",
      "Epoch: 19/20...  Training Step: 73100...  Training loss: 1.6195...  0.1914 sec/batch\n",
      "Epoch: 19/20...  Training Step: 73150...  Training loss: 1.5034...  0.1751 sec/batch\n",
      "Epoch: 19/20...  Training Step: 73200...  Training loss: 1.5193...  0.2143 sec/batch\n"
     ]
    },
    {
     "data": {
      "text/plain": [
       "'checkpoints/i73200_l128.ckpt'"
      ]
     },
     "execution_count": 50,
     "metadata": {},
     "output_type": "execute_result"
    },
    {
     "name": "stdout",
     "output_type": "stream",
     "text": [
      "Epoch: 19/20...  Training Step: 73250...  Training loss: 1.4823...  0.1730 sec/batch\n",
      "Epoch: 19/20...  Training Step: 73300...  Training loss: 1.5627...  0.2169 sec/batch\n",
      "Epoch: 19/20...  Training Step: 73350...  Training loss: 1.4745...  0.0792 sec/batch\n",
      "Epoch: 19/20...  Training Step: 73400...  Training loss: 1.7287...  0.0811 sec/batch\n"
     ]
    },
    {
     "data": {
      "text/plain": [
       "'checkpoints/i73400_l128.ckpt'"
      ]
     },
     "execution_count": 50,
     "metadata": {},
     "output_type": "execute_result"
    },
    {
     "name": "stdout",
     "output_type": "stream",
     "text": [
      "Epoch: 19/20...  Training Step: 73450...  Training loss: 1.5397...  0.0890 sec/batch\n",
      "Epoch: 19/20...  Training Step: 73500...  Training loss: 1.5638...  0.0898 sec/batch\n",
      "Epoch: 19/20...  Training Step: 73550...  Training loss: 1.5003...  0.0924 sec/batch\n",
      "Epoch: 19/20...  Training Step: 73600...  Training loss: 1.5169...  0.1132 sec/batch\n"
     ]
    },
    {
     "data": {
      "text/plain": [
       "'checkpoints/i73600_l128.ckpt'"
      ]
     },
     "execution_count": 50,
     "metadata": {},
     "output_type": "execute_result"
    },
    {
     "name": "stdout",
     "output_type": "stream",
     "text": [
      "Epoch: 19/20...  Training Step: 73650...  Training loss: 1.4830...  0.0918 sec/batch\n",
      "Epoch: 19/20...  Training Step: 73700...  Training loss: 1.7795...  0.4350 sec/batch\n",
      "Epoch: 19/20...  Training Step: 73750...  Training loss: 1.5252...  0.0950 sec/batch\n",
      "Epoch: 19/20...  Training Step: 73800...  Training loss: 1.6063...  0.0801 sec/batch\n"
     ]
    },
    {
     "data": {
      "text/plain": [
       "'checkpoints/i73800_l128.ckpt'"
      ]
     },
     "execution_count": 50,
     "metadata": {},
     "output_type": "execute_result"
    },
    {
     "name": "stdout",
     "output_type": "stream",
     "text": [
      "Epoch: 19/20...  Training Step: 73850...  Training loss: 1.5866...  0.0812 sec/batch\n",
      "Epoch: 19/20...  Training Step: 73900...  Training loss: 1.4681...  0.0835 sec/batch\n",
      "Epoch: 19/20...  Training Step: 73950...  Training loss: 1.5013...  0.0813 sec/batch\n",
      "Epoch: 19/20...  Training Step: 74000...  Training loss: 1.6092...  0.0876 sec/batch\n"
     ]
    },
    {
     "data": {
      "text/plain": [
       "'checkpoints/i74000_l128.ckpt'"
      ]
     },
     "execution_count": 50,
     "metadata": {},
     "output_type": "execute_result"
    },
    {
     "name": "stdout",
     "output_type": "stream",
     "text": [
      "Epoch: 19/20...  Training Step: 74050...  Training loss: 1.5707...  0.0908 sec/batch\n",
      "Epoch: 19/20...  Training Step: 74100...  Training loss: 1.4856...  0.0912 sec/batch\n",
      "Epoch: 19/20...  Training Step: 74150...  Training loss: 1.5365...  0.0899 sec/batch\n",
      "Epoch: 19/20...  Training Step: 74200...  Training loss: 1.4457...  0.0917 sec/batch\n"
     ]
    },
    {
     "data": {
      "text/plain": [
       "'checkpoints/i74200_l128.ckpt'"
      ]
     },
     "execution_count": 50,
     "metadata": {},
     "output_type": "execute_result"
    },
    {
     "name": "stdout",
     "output_type": "stream",
     "text": [
      "Epoch: 19/20...  Training Step: 74250...  Training loss: 1.4467...  0.0951 sec/batch\n",
      "Epoch: 19/20...  Training Step: 74300...  Training loss: 1.4975...  0.1451 sec/batch\n",
      "Epoch: 19/20...  Training Step: 74350...  Training loss: 1.3336...  0.0788 sec/batch\n",
      "Epoch: 19/20...  Training Step: 74400...  Training loss: 1.4700...  0.0830 sec/batch\n"
     ]
    },
    {
     "data": {
      "text/plain": [
       "'checkpoints/i74400_l128.ckpt'"
      ]
     },
     "execution_count": 50,
     "metadata": {},
     "output_type": "execute_result"
    },
    {
     "name": "stdout",
     "output_type": "stream",
     "text": [
      "Epoch: 19/20...  Training Step: 74450...  Training loss: 1.5534...  0.0829 sec/batch\n",
      "Epoch: 19/20...  Training Step: 74500...  Training loss: 1.5987...  0.1160 sec/batch\n",
      "Epoch: 19/20...  Training Step: 74550...  Training loss: 1.4654...  0.0800 sec/batch\n",
      "Epoch: 19/20...  Training Step: 74600...  Training loss: 1.6919...  0.0946 sec/batch\n"
     ]
    },
    {
     "data": {
      "text/plain": [
       "'checkpoints/i74600_l128.ckpt'"
      ]
     },
     "execution_count": 50,
     "metadata": {},
     "output_type": "execute_result"
    },
    {
     "name": "stdout",
     "output_type": "stream",
     "text": [
      "Epoch: 19/20...  Training Step: 74650...  Training loss: 1.4524...  0.0991 sec/batch\n",
      "Epoch: 19/20...  Training Step: 74700...  Training loss: 1.4051...  0.0825 sec/batch\n",
      "Epoch: 19/20...  Training Step: 74750...  Training loss: 1.6378...  0.0886 sec/batch\n",
      "Epoch: 19/20...  Training Step: 74800...  Training loss: 1.5123...  0.0859 sec/batch\n"
     ]
    },
    {
     "data": {
      "text/plain": [
       "'checkpoints/i74800_l128.ckpt'"
      ]
     },
     "execution_count": 50,
     "metadata": {},
     "output_type": "execute_result"
    },
    {
     "name": "stdout",
     "output_type": "stream",
     "text": [
      "Epoch: 19/20...  Training Step: 74850...  Training loss: 1.4772...  0.0851 sec/batch\n",
      "Epoch: 19/20...  Training Step: 74900...  Training loss: 1.5715...  0.0845 sec/batch\n",
      "Epoch: 19/20...  Training Step: 74950...  Training loss: 1.6128...  0.0868 sec/batch\n",
      "Epoch: 19/20...  Training Step: 75000...  Training loss: 1.4820...  0.0954 sec/batch\n"
     ]
    },
    {
     "data": {
      "text/plain": [
       "'checkpoints/i75000_l128.ckpt'"
      ]
     },
     "execution_count": 50,
     "metadata": {},
     "output_type": "execute_result"
    },
    {
     "name": "stdout",
     "output_type": "stream",
     "text": [
      "Epoch: 19/20...  Training Step: 75050...  Training loss: 1.4459...  0.0937 sec/batch\n",
      "Epoch: 19/20...  Training Step: 75100...  Training loss: 1.4965...  0.1071 sec/batch\n",
      "Epoch: 19/20...  Training Step: 75150...  Training loss: 1.4443...  0.0944 sec/batch\n",
      "Epoch: 19/20...  Training Step: 75200...  Training loss: 1.4974...  0.0955 sec/batch\n"
     ]
    },
    {
     "data": {
      "text/plain": [
       "'checkpoints/i75200_l128.ckpt'"
      ]
     },
     "execution_count": 50,
     "metadata": {},
     "output_type": "execute_result"
    },
    {
     "name": "stdout",
     "output_type": "stream",
     "text": [
      "Epoch: 19/20...  Training Step: 75250...  Training loss: 1.5134...  0.0889 sec/batch\n",
      "Epoch: 19/20...  Training Step: 75300...  Training loss: 1.6844...  0.0897 sec/batch\n",
      "Epoch: 19/20...  Training Step: 75350...  Training loss: 1.6534...  0.1325 sec/batch\n",
      "Epoch: 19/20...  Training Step: 75400...  Training loss: 1.5757...  0.0884 sec/batch\n"
     ]
    },
    {
     "data": {
      "text/plain": [
       "'checkpoints/i75400_l128.ckpt'"
      ]
     },
     "execution_count": 50,
     "metadata": {},
     "output_type": "execute_result"
    },
    {
     "name": "stdout",
     "output_type": "stream",
     "text": [
      "3970\n",
      "(1985000,)\n",
      "(10, 198500)\n",
      "Epoch: 20/20...  Training Step: 75450...  Training loss: 1.5809...  0.0871 sec/batch\n",
      "Epoch: 20/20...  Training Step: 75500...  Training loss: 1.4996...  0.0898 sec/batch\n",
      "Epoch: 20/20...  Training Step: 75550...  Training loss: 1.4951...  0.1134 sec/batch\n",
      "Epoch: 20/20...  Training Step: 75600...  Training loss: 1.4987...  0.0890 sec/batch\n"
     ]
    },
    {
     "data": {
      "text/plain": [
       "'checkpoints/i75600_l128.ckpt'"
      ]
     },
     "execution_count": 50,
     "metadata": {},
     "output_type": "execute_result"
    },
    {
     "name": "stdout",
     "output_type": "stream",
     "text": [
      "Epoch: 20/20...  Training Step: 75650...  Training loss: 1.5030...  0.1149 sec/batch\n",
      "Epoch: 20/20...  Training Step: 75700...  Training loss: 1.5467...  0.0936 sec/batch\n",
      "Epoch: 20/20...  Training Step: 75750...  Training loss: 1.5444...  0.0917 sec/batch\n",
      "Epoch: 20/20...  Training Step: 75800...  Training loss: 1.6123...  0.0905 sec/batch\n"
     ]
    },
    {
     "data": {
      "text/plain": [
       "'checkpoints/i75800_l128.ckpt'"
      ]
     },
     "execution_count": 50,
     "metadata": {},
     "output_type": "execute_result"
    },
    {
     "name": "stdout",
     "output_type": "stream",
     "text": [
      "Epoch: 20/20...  Training Step: 75850...  Training loss: 1.5546...  0.0941 sec/batch\n",
      "Epoch: 20/20...  Training Step: 75900...  Training loss: 1.5879...  0.1053 sec/batch\n",
      "Epoch: 20/20...  Training Step: 75950...  Training loss: 1.4488...  0.1069 sec/batch\n",
      "Epoch: 20/20...  Training Step: 76000...  Training loss: 1.6001...  0.1078 sec/batch\n"
     ]
    },
    {
     "data": {
      "text/plain": [
       "'checkpoints/i76000_l128.ckpt'"
      ]
     },
     "execution_count": 50,
     "metadata": {},
     "output_type": "execute_result"
    },
    {
     "name": "stdout",
     "output_type": "stream",
     "text": [
      "Epoch: 20/20...  Training Step: 76050...  Training loss: 1.3245...  0.1046 sec/batch\n",
      "Epoch: 20/20...  Training Step: 76100...  Training loss: 1.5938...  0.1234 sec/batch\n",
      "Epoch: 20/20...  Training Step: 76150...  Training loss: 1.5520...  0.1627 sec/batch\n",
      "Epoch: 20/20...  Training Step: 76200...  Training loss: 1.4925...  0.1114 sec/batch\n"
     ]
    },
    {
     "data": {
      "text/plain": [
       "'checkpoints/i76200_l128.ckpt'"
      ]
     },
     "execution_count": 50,
     "metadata": {},
     "output_type": "execute_result"
    },
    {
     "name": "stdout",
     "output_type": "stream",
     "text": [
      "Epoch: 20/20...  Training Step: 76250...  Training loss: 1.5558...  0.0904 sec/batch\n",
      "Epoch: 20/20...  Training Step: 76300...  Training loss: 1.5313...  0.0914 sec/batch\n",
      "Epoch: 20/20...  Training Step: 76350...  Training loss: 1.3976...  0.0911 sec/batch\n",
      "Epoch: 20/20...  Training Step: 76400...  Training loss: 1.4593...  0.0910 sec/batch\n"
     ]
    },
    {
     "data": {
      "text/plain": [
       "'checkpoints/i76400_l128.ckpt'"
      ]
     },
     "execution_count": 50,
     "metadata": {},
     "output_type": "execute_result"
    },
    {
     "name": "stdout",
     "output_type": "stream",
     "text": [
      "Epoch: 20/20...  Training Step: 76450...  Training loss: 1.3172...  0.0898 sec/batch\n",
      "Epoch: 20/20...  Training Step: 76500...  Training loss: 1.4330...  0.1279 sec/batch\n",
      "Epoch: 20/20...  Training Step: 76550...  Training loss: 1.3309...  0.0835 sec/batch\n",
      "Epoch: 20/20...  Training Step: 76600...  Training loss: 1.4594...  0.0965 sec/batch\n"
     ]
    },
    {
     "data": {
      "text/plain": [
       "'checkpoints/i76600_l128.ckpt'"
      ]
     },
     "execution_count": 50,
     "metadata": {},
     "output_type": "execute_result"
    },
    {
     "name": "stdout",
     "output_type": "stream",
     "text": [
      "Epoch: 20/20...  Training Step: 76650...  Training loss: 1.3713...  0.0864 sec/batch\n",
      "Epoch: 20/20...  Training Step: 76700...  Training loss: 1.5007...  0.0915 sec/batch\n",
      "Epoch: 20/20...  Training Step: 76750...  Training loss: 1.5608...  0.0924 sec/batch\n",
      "Epoch: 20/20...  Training Step: 76800...  Training loss: 1.4971...  0.0895 sec/batch\n"
     ]
    },
    {
     "data": {
      "text/plain": [
       "'checkpoints/i76800_l128.ckpt'"
      ]
     },
     "execution_count": 50,
     "metadata": {},
     "output_type": "execute_result"
    },
    {
     "name": "stdout",
     "output_type": "stream",
     "text": [
      "Epoch: 20/20...  Training Step: 76850...  Training loss: 1.5343...  0.1015 sec/batch\n",
      "Epoch: 20/20...  Training Step: 76900...  Training loss: 1.4461...  0.0986 sec/batch\n",
      "Epoch: 20/20...  Training Step: 76950...  Training loss: 1.4748...  0.0961 sec/batch\n",
      "Epoch: 20/20...  Training Step: 77000...  Training loss: 1.5906...  0.0898 sec/batch\n"
     ]
    },
    {
     "data": {
      "text/plain": [
       "'checkpoints/i77000_l128.ckpt'"
      ]
     },
     "execution_count": 50,
     "metadata": {},
     "output_type": "execute_result"
    },
    {
     "name": "stdout",
     "output_type": "stream",
     "text": [
      "Epoch: 20/20...  Training Step: 77050...  Training loss: 1.6204...  0.0921 sec/batch\n",
      "Epoch: 20/20...  Training Step: 77100...  Training loss: 1.6013...  0.0922 sec/batch\n",
      "Epoch: 20/20...  Training Step: 77150...  Training loss: 1.5151...  0.1110 sec/batch\n",
      "Epoch: 20/20...  Training Step: 77200...  Training loss: 1.5758...  0.0874 sec/batch\n"
     ]
    },
    {
     "data": {
      "text/plain": [
       "'checkpoints/i77200_l128.ckpt'"
      ]
     },
     "execution_count": 50,
     "metadata": {},
     "output_type": "execute_result"
    },
    {
     "name": "stdout",
     "output_type": "stream",
     "text": [
      "Epoch: 20/20...  Training Step: 77250...  Training loss: 1.4613...  0.0869 sec/batch\n",
      "Epoch: 20/20...  Training Step: 77300...  Training loss: 1.3504...  0.1116 sec/batch\n",
      "Epoch: 20/20...  Training Step: 77350...  Training loss: 1.4956...  0.0935 sec/batch\n",
      "Epoch: 20/20...  Training Step: 77400...  Training loss: 1.5589...  0.0906 sec/batch\n"
     ]
    },
    {
     "data": {
      "text/plain": [
       "'checkpoints/i77400_l128.ckpt'"
      ]
     },
     "execution_count": 50,
     "metadata": {},
     "output_type": "execute_result"
    },
    {
     "name": "stdout",
     "output_type": "stream",
     "text": [
      "Epoch: 20/20...  Training Step: 77450...  Training loss: 1.4137...  0.0936 sec/batch\n",
      "Epoch: 20/20...  Training Step: 77500...  Training loss: 1.4653...  0.0924 sec/batch\n",
      "Epoch: 20/20...  Training Step: 77550...  Training loss: 1.2764...  0.0990 sec/batch\n",
      "Epoch: 20/20...  Training Step: 77600...  Training loss: 1.4468...  0.0904 sec/batch\n"
     ]
    },
    {
     "data": {
      "text/plain": [
       "'checkpoints/i77600_l128.ckpt'"
      ]
     },
     "execution_count": 50,
     "metadata": {},
     "output_type": "execute_result"
    },
    {
     "name": "stdout",
     "output_type": "stream",
     "text": [
      "Epoch: 20/20...  Training Step: 77650...  Training loss: 1.5359...  0.0900 sec/batch\n",
      "Epoch: 20/20...  Training Step: 77700...  Training loss: 1.4233...  0.1079 sec/batch\n",
      "Epoch: 20/20...  Training Step: 77750...  Training loss: 1.3855...  0.0924 sec/batch\n",
      "Epoch: 20/20...  Training Step: 77800...  Training loss: 1.4006...  0.1202 sec/batch\n"
     ]
    },
    {
     "data": {
      "text/plain": [
       "'checkpoints/i77800_l128.ckpt'"
      ]
     },
     "execution_count": 50,
     "metadata": {},
     "output_type": "execute_result"
    },
    {
     "name": "stdout",
     "output_type": "stream",
     "text": [
      "Epoch: 20/20...  Training Step: 77850...  Training loss: 1.5864...  0.0966 sec/batch\n",
      "Epoch: 20/20...  Training Step: 77900...  Training loss: 1.4553...  0.1073 sec/batch\n",
      "Epoch: 20/20...  Training Step: 77950...  Training loss: 1.5823...  0.1102 sec/batch\n",
      "Epoch: 20/20...  Training Step: 78000...  Training loss: 1.4540...  0.1068 sec/batch\n"
     ]
    },
    {
     "data": {
      "text/plain": [
       "'checkpoints/i78000_l128.ckpt'"
      ]
     },
     "execution_count": 50,
     "metadata": {},
     "output_type": "execute_result"
    },
    {
     "name": "stdout",
     "output_type": "stream",
     "text": [
      "Epoch: 20/20...  Training Step: 78050...  Training loss: 1.3926...  0.0899 sec/batch\n",
      "Epoch: 20/20...  Training Step: 78100...  Training loss: 1.4698...  0.0921 sec/batch\n",
      "Epoch: 20/20...  Training Step: 78150...  Training loss: 1.4359...  0.1122 sec/batch\n",
      "Epoch: 20/20...  Training Step: 78200...  Training loss: 1.4978...  0.0929 sec/batch\n"
     ]
    },
    {
     "data": {
      "text/plain": [
       "'checkpoints/i78200_l128.ckpt'"
      ]
     },
     "execution_count": 50,
     "metadata": {},
     "output_type": "execute_result"
    },
    {
     "name": "stdout",
     "output_type": "stream",
     "text": [
      "Epoch: 20/20...  Training Step: 78250...  Training loss: 1.5928...  0.0967 sec/batch\n",
      "Epoch: 20/20...  Training Step: 78300...  Training loss: 1.4410...  0.0920 sec/batch\n",
      "Epoch: 20/20...  Training Step: 78350...  Training loss: 1.6525...  0.0949 sec/batch\n",
      "Epoch: 20/20...  Training Step: 78400...  Training loss: 1.4265...  0.1230 sec/batch\n"
     ]
    },
    {
     "data": {
      "text/plain": [
       "'checkpoints/i78400_l128.ckpt'"
      ]
     },
     "execution_count": 50,
     "metadata": {},
     "output_type": "execute_result"
    },
    {
     "name": "stdout",
     "output_type": "stream",
     "text": [
      "Epoch: 20/20...  Training Step: 78450...  Training loss: 1.5956...  0.0868 sec/batch\n",
      "Epoch: 20/20...  Training Step: 78500...  Training loss: 1.4733...  0.1173 sec/batch\n",
      "Epoch: 20/20...  Training Step: 78550...  Training loss: 1.3753...  0.1124 sec/batch\n",
      "Epoch: 20/20...  Training Step: 78600...  Training loss: 1.5098...  0.0992 sec/batch\n"
     ]
    },
    {
     "data": {
      "text/plain": [
       "'checkpoints/i78600_l128.ckpt'"
      ]
     },
     "execution_count": 50,
     "metadata": {},
     "output_type": "execute_result"
    },
    {
     "name": "stdout",
     "output_type": "stream",
     "text": [
      "Epoch: 20/20...  Training Step: 78650...  Training loss: 1.5004...  0.0970 sec/batch\n",
      "Epoch: 20/20...  Training Step: 78700...  Training loss: 1.6118...  0.0961 sec/batch\n",
      "Epoch: 20/20...  Training Step: 78750...  Training loss: 1.4627...  0.0885 sec/batch\n",
      "Epoch: 20/20...  Training Step: 78800...  Training loss: 1.4266...  0.0923 sec/batch\n"
     ]
    },
    {
     "data": {
      "text/plain": [
       "'checkpoints/i78800_l128.ckpt'"
      ]
     },
     "execution_count": 50,
     "metadata": {},
     "output_type": "execute_result"
    },
    {
     "name": "stdout",
     "output_type": "stream",
     "text": [
      "Epoch: 20/20...  Training Step: 78850...  Training loss: 1.6462...  0.0892 sec/batch\n",
      "Epoch: 20/20...  Training Step: 78900...  Training loss: 1.4873...  0.0909 sec/batch\n",
      "Epoch: 20/20...  Training Step: 78950...  Training loss: 1.4480...  0.0871 sec/batch\n",
      "Epoch: 20/20...  Training Step: 79000...  Training loss: 1.3310...  0.0934 sec/batch\n"
     ]
    },
    {
     "data": {
      "text/plain": [
       "'checkpoints/i79000_l128.ckpt'"
      ]
     },
     "execution_count": 50,
     "metadata": {},
     "output_type": "execute_result"
    },
    {
     "name": "stdout",
     "output_type": "stream",
     "text": [
      "Epoch: 20/20...  Training Step: 79050...  Training loss: 1.3746...  0.0927 sec/batch\n",
      "Epoch: 20/20...  Training Step: 79100...  Training loss: 1.5421...  0.0902 sec/batch\n",
      "Epoch: 20/20...  Training Step: 79150...  Training loss: 1.5018...  0.1198 sec/batch\n",
      "Epoch: 20/20...  Training Step: 79200...  Training loss: 1.4422...  0.1399 sec/batch\n"
     ]
    },
    {
     "data": {
      "text/plain": [
       "'checkpoints/i79200_l128.ckpt'"
      ]
     },
     "execution_count": 50,
     "metadata": {},
     "output_type": "execute_result"
    },
    {
     "name": "stdout",
     "output_type": "stream",
     "text": [
      "Epoch: 20/20...  Training Step: 79250...  Training loss: 1.8182...  0.0896 sec/batch\n",
      "Epoch: 20/20...  Training Step: 79300...  Training loss: 1.4991...  0.1293 sec/batch\n",
      "Epoch: 20/20...  Training Step: 79350...  Training loss: 1.8624...  0.0898 sec/batch\n",
      "Epoch: 20/20...  Training Step: 79400...  Training loss: 1.8711...  0.0891 sec/batch\n"
     ]
    },
    {
     "data": {
      "text/plain": [
       "'checkpoints/i79400_l128.ckpt'"
      ]
     },
     "execution_count": 50,
     "metadata": {},
     "output_type": "execute_result"
    },
    {
     "data": {
      "text/plain": [
       "'checkpoints/i79400_l128.ckpt'"
      ]
     },
     "execution_count": 50,
     "metadata": {},
     "output_type": "execute_result"
    }
   ],
   "source": [
    "epochs = 20\n",
    "# Print losses every N interations\n",
    "print_every_n = 50\n",
    "\n",
    "# Save every N iterations\n",
    "save_every_n = 200\n",
    "\n",
    "model = CharRNN(len(vocab), batch_size=batch_size, num_steps=num_steps,\n",
    "                lstm_size=lstm_size, num_layers=num_layers, \n",
    "                learning_rate=learning_rate)\n",
    "\n",
    "saver = tf.train.Saver(max_to_keep=100)\n",
    "with tf.Session() as sess:\n",
    "    sess.run(tf.global_variables_initializer())\n",
    "    \n",
    "    # Use the line below to load a checkpoint and resume training\n",
    "    #saver.restore(sess, 'checkpoints/______.ckpt')\n",
    "    counter = 0\n",
    "    for e in range(epochs):\n",
    "        # Train network\n",
    "        new_state = sess.run(model.initial_state)\n",
    "        loss = 0\n",
    "        for x, y in get_batches(encoded, batch_size, num_steps):\n",
    "            counter += 1\n",
    "            start = time.time()\n",
    "            feed = {model.inputs: x,\n",
    "                    model.targets: y,\n",
    "                    model.keep_prob: keep_prob,\n",
    "                    model.initial_state: new_state}\n",
    "            batch_loss, new_state, _ = sess.run([model.loss, \n",
    "                                                 model.final_state, \n",
    "                                                 model.optimizer], \n",
    "                                                 feed_dict=feed)\n",
    "            if (counter % print_every_n == 0):\n",
    "                end = time.time()\n",
    "                print('Epoch: {}/{}... '.format(e+1, epochs),\n",
    "                      'Training Step: {}... '.format(counter),\n",
    "                      'Training loss: {:.4f}... '.format(batch_loss),\n",
    "                      '{:.4f} sec/batch'.format((end-start)))\n",
    "        \n",
    "            if (counter % save_every_n == 0):\n",
    "                saver.save(sess, \"checkpoints/i{}_l{}.ckpt\".format(counter, lstm_size))\n",
    "    \n",
    "    saver.save(sess, \"checkpoints/i{}_l{}.ckpt\".format(counter, lstm_size))"
   ]
  },
  {
   "cell_type": "markdown",
   "metadata": {},
   "source": [
    "#### Saved checkpoints\n",
    "\n",
    "Read up on saving and loading checkpoints here: https://www.tensorflow.org/programmers_guide/variables"
   ]
  },
  {
   "cell_type": "code",
   "execution_count": null,
   "metadata": {},
   "outputs": [],
   "source": [
    "tf.train.get_checkpoint_state('checkpoints')"
   ]
  },
  {
   "cell_type": "markdown",
   "metadata": {},
   "source": [
    "## Sampling\n",
    "\n",
    "Now that the network is trained, we'll can use it to generate new text. The idea is that we pass in a character, then the network will predict the next character. We can use the new one, to predict the next one. And we keep doing this to generate all new text. I also included some functionality to prime the network with some text by passing in a string and building up a state from that.\n",
    "\n",
    "The network gives us predictions for each character. To reduce noise and make things a little less random, I'm going to only choose a new character from the top N most likely characters.\n",
    "\n"
   ]
  },
  {
   "cell_type": "code",
   "execution_count": null,
   "metadata": {},
   "outputs": [],
   "source": [
    "def pick_top_n(preds, vocab_size, top_n=5):\n",
    "    p = np.squeeze(preds)\n",
    "    p[np.argsort(p)[:-top_n]] = 0\n",
    "    p = p / np.sum(p)\n",
    "    c = np.random.choice(vocab_size, 1, p=p)[0]\n",
    "    return c"
   ]
  },
  {
   "cell_type": "code",
   "execution_count": null,
   "metadata": {},
   "outputs": [],
   "source": [
    "def sample(checkpoint, n_samples, lstm_size, vocab_size, prime=\"The \"):\n",
    "    samples = [c for c in prime]\n",
    "    model = CharRNN(len(vocab), lstm_size=lstm_size, sampling=True)\n",
    "    saver = tf.train.Saver()\n",
    "    with tf.Session() as sess:\n",
    "        saver.restore(sess, checkpoint)\n",
    "        new_state = sess.run(model.initial_state)\n",
    "        for c in prime:\n",
    "            x = np.zeros((1, 1))\n",
    "            x[0,0] = vocab_to_int[c]\n",
    "            feed = {model.inputs: x,\n",
    "                    model.keep_prob: 1.,\n",
    "                    model.initial_state: new_state}\n",
    "            preds, new_state = sess.run([model.prediction, model.final_state], \n",
    "                                         feed_dict=feed)\n",
    "\n",
    "        c = pick_top_n(preds, len(vocab))\n",
    "        samples.append(int_to_vocab[c])\n",
    "\n",
    "        for i in range(n_samples):\n",
    "            x[0,0] = c\n",
    "            feed = {model.inputs: x,\n",
    "                    model.keep_prob: 1.,\n",
    "                    model.initial_state: new_state}\n",
    "            preds, new_state = sess.run([model.prediction, model.final_state], \n",
    "                                         feed_dict=feed)\n",
    "\n",
    "            c = pick_top_n(preds, len(vocab))\n",
    "            samples.append(int_to_vocab[c])\n",
    "        \n",
    "    return ''.join(samples)"
   ]
  },
  {
   "cell_type": "markdown",
   "metadata": {},
   "source": [
    "Here, pass in the path to a checkpoint and sample from the network."
   ]
  },
  {
   "cell_type": "code",
   "execution_count": null,
   "metadata": {},
   "outputs": [],
   "source": [
    "tf.train.latest_checkpoint('checkpoints')"
   ]
  },
  {
   "cell_type": "code",
   "execution_count": null,
   "metadata": {},
   "outputs": [],
   "source": [
    "checkpoint = tf.train.latest_checkpoint('checkpoints')\n",
    "samp = sample(checkpoint, 2000, lstm_size, len(vocab), prime=\"Far\")\n",
    "print(samp)"
   ]
  },
  {
   "cell_type": "code",
   "execution_count": null,
   "metadata": {},
   "outputs": [],
   "source": [
    "checkpoint = 'checkpoints/i200_l512.ckpt'\n",
    "samp = sample(checkpoint, 1000, lstm_size, len(vocab), prime=\"Far\")\n",
    "print(samp)"
   ]
  },
  {
   "cell_type": "code",
   "execution_count": null,
   "metadata": {},
   "outputs": [],
   "source": [
    "checkpoint = 'checkpoints/i600_l512.ckpt'\n",
    "samp = sample(checkpoint, 1000, lstm_size, len(vocab), prime=\"Far\")\n",
    "print(samp)"
   ]
  },
  {
   "cell_type": "code",
   "execution_count": null,
   "metadata": {},
   "outputs": [],
   "source": [
    "checkpoint = 'checkpoints/i1200_l512.ckpt'\n",
    "samp = sample(checkpoint, 1000, lstm_size, len(vocab), prime=\"Far\")\n",
    "print(samp)"
   ]
  },
  {
   "cell_type": "code",
   "execution_count": null,
   "metadata": {},
   "outputs": [],
   "source": [
    "print(\"hi\")"
   ]
  },
  {
   "cell_type": "code",
   "execution_count": null,
   "metadata": {},
   "outputs": [],
   "source": []
  }
 ],
 "metadata": {
  "kernelspec": {
   "display_name": "Python 3",
   "language": "python",
   "name": "python3"
  },
  "language_info": {
   "codemirror_mode": {
    "name": "ipython",
    "version": 3
   },
   "file_extension": ".py",
   "mimetype": "text/x-python",
   "name": "python",
   "nbconvert_exporter": "python",
   "pygments_lexer": "ipython3",
   "version": "3.5.4"
  }
 },
 "nbformat": 4,
 "nbformat_minor": 2
}
